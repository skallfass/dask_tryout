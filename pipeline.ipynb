{
 "cells": [
  {
   "cell_type": "markdown",
   "metadata": {},
   "source": [
    "# Simulation of reading, transforming and dumping of offers-datasets"
   ]
  },
  {
   "cell_type": "markdown",
   "metadata": {},
   "source": [
    "## imports\n",
    "dask related"
   ]
  },
  {
   "cell_type": "code",
   "execution_count": 1,
   "metadata": {},
   "outputs": [],
   "source": [
    "import dask.bag as _dbag\n",
    "\n",
    "# inside our notebook the dask extension manages our cluster and client\n",
    "# from dask.distributed import Client as _Client\n",
    "\n",
    "# the following imports can be useful to examine the optimal number of partitions\n",
    "# from dask.distributed import progress as _progress\n",
    "# from dask.diagnostics import ProgressBar\n",
    "# from dask.diagnostics import Profiler, ResourceProfiler, CacheProfiler"
   ]
  },
  {
   "cell_type": "markdown",
   "metadata": {},
   "source": [
    "scenario related"
   ]
  },
  {
   "cell_type": "code",
   "execution_count": 2,
   "metadata": {},
   "outputs": [],
   "source": [
    "import gzip as _gzip\n",
    "\n",
    "import dateutil as _dateutil\n",
    "import pytz as _pytz\n",
    "import ujson as _json\n",
    "from toolz import curry as _curry\n",
    "\n",
    "from settings import (\n",
    "    datasets_files,\n",
    "    combined_destination,\n",
    "    partitions,\n",
    "    records_per_partition,\n",
    ")"
   ]
  },
  {
   "cell_type": "markdown",
   "metadata": {},
   "source": [
    "## definition of required dask client\n",
    "pass in same scheduler-address as of local cluster"
   ]
  },
  {
   "cell_type": "code",
   "execution_count": 3,
   "metadata": {},
   "outputs": [
    {
     "data": {
      "text/html": [
       "<table style=\"border: 2px solid white;\">\n",
       "<tr>\n",
       "<td style=\"vertical-align: top; border: 0px solid white\">\n",
       "<h3 style=\"text-align: left;\">Client</h3>\n",
       "<ul style=\"text-align: left; list-style: none; margin: 0; padding: 0;\">\n",
       "  <li><b>Scheduler: </b>tcp://127.0.0.1:36051</li>\n",
       "  <li><b>Dashboard: </b><a href='http://127.0.0.1:8787/status' target='_blank'>http://127.0.0.1:8787/status</a></li>\n",
       "</ul>\n",
       "</td>\n",
       "<td style=\"vertical-align: top; border: 0px solid white\">\n",
       "<h3 style=\"text-align: left;\">Cluster</h3>\n",
       "<ul style=\"text-align: left; list-style:none; margin: 0; padding: 0;\">\n",
       "  <li><b>Workers: </b>4</li>\n",
       "  <li><b>Cores: </b>8</li>\n",
       "  <li><b>Memory: </b>16.66 GB</li>\n",
       "</ul>\n",
       "</td>\n",
       "</tr>\n",
       "</table>"
      ],
      "text/plain": [
       "<Client: 'tcp://127.0.0.1:36051' processes=4 threads=8, memory=16.66 GB>"
      ]
     },
     "execution_count": 3,
     "metadata": {},
     "output_type": "execute_result"
    }
   ],
   "source": [
    "client"
   ]
  },
  {
   "cell_type": "markdown",
   "metadata": {},
   "source": [
    "## definition of transformation functions"
   ]
  },
  {
   "cell_type": "code",
   "execution_count": 4,
   "metadata": {},
   "outputs": [],
   "source": [
    "def add_local_timestamp(offer, timezone=\"Europe/Berlin\"):\n",
    "    offer[\"timestamp\"] = (\n",
    "        _dateutil.parser.parse(offer[\"time\"])\n",
    "        .astimezone(_pytz.timezone(timezone))\n",
    "        .isoformat()\n",
    "    )\n",
    "    return offer"
   ]
  },
  {
   "cell_type": "code",
   "execution_count": 5,
   "metadata": {},
   "outputs": [],
   "source": [
    "def shipping_costs_filter(offer, max_price):\n",
    "    return offer[\"shipping_cost\"] <= max_price"
   ]
  },
  {
   "cell_type": "code",
   "execution_count": 6,
   "metadata": {},
   "outputs": [],
   "source": [
    "def add_shipping_costs_percentage(offer, round_to=2):\n",
    "    offer[\"shipping_cost_percentage\"] = round(\n",
    "        offer[\"shipping_cost\"] / offer[\"price\"] * 100,\n",
    "        round_to\n",
    "    )\n",
    "    return offer"
   ]
  },
  {
   "cell_type": "code",
   "execution_count": 7,
   "metadata": {},
   "outputs": [],
   "source": [
    "def category_filter(offer, category_ids):\n",
    "    return offer[\"category_id\"] in category_ids"
   ]
  },
  {
   "cell_type": "markdown",
   "metadata": {},
   "source": [
    "## transformations and calculations with the datasets\n",
    "read the fake datasets. Then perform transformations and calculations."
   ]
  },
  {
   "cell_type": "code",
   "execution_count": 8,
   "metadata": {},
   "outputs": [],
   "source": [
    "pipeline = (\n",
    "    _dbag.read_text(datasets_files)\n",
    "    .map(_json.loads)\n",
    "    .repartition(npartitions=partitions)\n",
    "    .filter(_curry(category_filter, category_ids=range(5, 25)))\n",
    "    .filter(_curry(shipping_costs_filter, max_price=6))\n",
    "    .map(add_local_timestamp)\n",
    "    .map(add_shipping_costs_percentage)\n",
    "    .map(_json.dumps)\n",
    ")"
   ]
  },
  {
   "cell_type": "markdown",
   "metadata": {},
   "source": [
    "## process pipelines\n",
    "Until now nothing is done, only the pipeline to execute is defined.\n",
    "The related pipeline-functions are delayed.\n",
    "To execute the pipeline we have to `compute`."
   ]
  },
  {
   "cell_type": "code",
   "execution_count": 9,
   "metadata": {},
   "outputs": [],
   "source": [
    "data = pipeline.compute()"
   ]
  },
  {
   "cell_type": "markdown",
   "metadata": {},
   "source": [
    "## compare effect of number of partitions"
   ]
  },
  {
   "cell_type": "code",
   "execution_count": 10,
   "metadata": {},
   "outputs": [
    {
     "data": {
      "text/html": [
       "\n",
       "    <div class=\"bk-root\">\n",
       "        <a href=\"https://bokeh.org\" target=\"_blank\" class=\"bk-logo bk-logo-small bk-logo-notebook\"></a>\n",
       "        <span id=\"1001\">Loading BokehJS ...</span>\n",
       "    </div>"
      ]
     },
     "metadata": {},
     "output_type": "display_data"
    },
    {
     "data": {
      "application/javascript": [
       "\n",
       "(function(root) {\n",
       "  function now() {\n",
       "    return new Date();\n",
       "  }\n",
       "\n",
       "  var force = true;\n",
       "\n",
       "  if (typeof root._bokeh_onload_callbacks === \"undefined\" || force === true) {\n",
       "    root._bokeh_onload_callbacks = [];\n",
       "    root._bokeh_is_loading = undefined;\n",
       "  }\n",
       "\n",
       "  var JS_MIME_TYPE = 'application/javascript';\n",
       "  var HTML_MIME_TYPE = 'text/html';\n",
       "  var EXEC_MIME_TYPE = 'application/vnd.bokehjs_exec.v0+json';\n",
       "  var CLASS_NAME = 'output_bokeh rendered_html';\n",
       "\n",
       "  /**\n",
       "   * Render data to the DOM node\n",
       "   */\n",
       "  function render(props, node) {\n",
       "    var script = document.createElement(\"script\");\n",
       "    node.appendChild(script);\n",
       "  }\n",
       "\n",
       "  /**\n",
       "   * Handle when an output is cleared or removed\n",
       "   */\n",
       "  function handleClearOutput(event, handle) {\n",
       "    var cell = handle.cell;\n",
       "\n",
       "    var id = cell.output_area._bokeh_element_id;\n",
       "    var server_id = cell.output_area._bokeh_server_id;\n",
       "    // Clean up Bokeh references\n",
       "    if (id != null && id in Bokeh.index) {\n",
       "      Bokeh.index[id].model.document.clear();\n",
       "      delete Bokeh.index[id];\n",
       "    }\n",
       "\n",
       "    if (server_id !== undefined) {\n",
       "      // Clean up Bokeh references\n",
       "      var cmd = \"from bokeh.io.state import curstate; print(curstate().uuid_to_server['\" + server_id + \"'].get_sessions()[0].document.roots[0]._id)\";\n",
       "      cell.notebook.kernel.execute(cmd, {\n",
       "        iopub: {\n",
       "          output: function(msg) {\n",
       "            var id = msg.content.text.trim();\n",
       "            if (id in Bokeh.index) {\n",
       "              Bokeh.index[id].model.document.clear();\n",
       "              delete Bokeh.index[id];\n",
       "            }\n",
       "          }\n",
       "        }\n",
       "      });\n",
       "      // Destroy server and session\n",
       "      var cmd = \"import bokeh.io.notebook as ion; ion.destroy_server('\" + server_id + \"')\";\n",
       "      cell.notebook.kernel.execute(cmd);\n",
       "    }\n",
       "  }\n",
       "\n",
       "  /**\n",
       "   * Handle when a new output is added\n",
       "   */\n",
       "  function handleAddOutput(event, handle) {\n",
       "    var output_area = handle.output_area;\n",
       "    var output = handle.output;\n",
       "\n",
       "    // limit handleAddOutput to display_data with EXEC_MIME_TYPE content only\n",
       "    if ((output.output_type != \"display_data\") || (!output.data.hasOwnProperty(EXEC_MIME_TYPE))) {\n",
       "      return\n",
       "    }\n",
       "\n",
       "    var toinsert = output_area.element.find(\".\" + CLASS_NAME.split(' ')[0]);\n",
       "\n",
       "    if (output.metadata[EXEC_MIME_TYPE][\"id\"] !== undefined) {\n",
       "      toinsert[toinsert.length - 1].firstChild.textContent = output.data[JS_MIME_TYPE];\n",
       "      // store reference to embed id on output_area\n",
       "      output_area._bokeh_element_id = output.metadata[EXEC_MIME_TYPE][\"id\"];\n",
       "    }\n",
       "    if (output.metadata[EXEC_MIME_TYPE][\"server_id\"] !== undefined) {\n",
       "      var bk_div = document.createElement(\"div\");\n",
       "      bk_div.innerHTML = output.data[HTML_MIME_TYPE];\n",
       "      var script_attrs = bk_div.children[0].attributes;\n",
       "      for (var i = 0; i < script_attrs.length; i++) {\n",
       "        toinsert[toinsert.length - 1].firstChild.setAttribute(script_attrs[i].name, script_attrs[i].value);\n",
       "        toinsert[toinsert.length - 1].firstChild.textContent = bk_div.children[0].textContent\n",
       "      }\n",
       "      // store reference to server id on output_area\n",
       "      output_area._bokeh_server_id = output.metadata[EXEC_MIME_TYPE][\"server_id\"];\n",
       "    }\n",
       "  }\n",
       "\n",
       "  function register_renderer(events, OutputArea) {\n",
       "\n",
       "    function append_mime(data, metadata, element) {\n",
       "      // create a DOM node to render to\n",
       "      var toinsert = this.create_output_subarea(\n",
       "        metadata,\n",
       "        CLASS_NAME,\n",
       "        EXEC_MIME_TYPE\n",
       "      );\n",
       "      this.keyboard_manager.register_events(toinsert);\n",
       "      // Render to node\n",
       "      var props = {data: data, metadata: metadata[EXEC_MIME_TYPE]};\n",
       "      render(props, toinsert[toinsert.length - 1]);\n",
       "      element.append(toinsert);\n",
       "      return toinsert\n",
       "    }\n",
       "\n",
       "    /* Handle when an output is cleared or removed */\n",
       "    events.on('clear_output.CodeCell', handleClearOutput);\n",
       "    events.on('delete.Cell', handleClearOutput);\n",
       "\n",
       "    /* Handle when a new output is added */\n",
       "    events.on('output_added.OutputArea', handleAddOutput);\n",
       "\n",
       "    /**\n",
       "     * Register the mime type and append_mime function with output_area\n",
       "     */\n",
       "    OutputArea.prototype.register_mime_type(EXEC_MIME_TYPE, append_mime, {\n",
       "      /* Is output safe? */\n",
       "      safe: true,\n",
       "      /* Index of renderer in `output_area.display_order` */\n",
       "      index: 0\n",
       "    });\n",
       "  }\n",
       "\n",
       "  // register the mime type if in Jupyter Notebook environment and previously unregistered\n",
       "  if (root.Jupyter !== undefined) {\n",
       "    var events = require('base/js/events');\n",
       "    var OutputArea = require('notebook/js/outputarea').OutputArea;\n",
       "\n",
       "    if (OutputArea.prototype.mime_types().indexOf(EXEC_MIME_TYPE) == -1) {\n",
       "      register_renderer(events, OutputArea);\n",
       "    }\n",
       "  }\n",
       "\n",
       "  \n",
       "  if (typeof (root._bokeh_timeout) === \"undefined\" || force === true) {\n",
       "    root._bokeh_timeout = Date.now() + 5000;\n",
       "    root._bokeh_failed_load = false;\n",
       "  }\n",
       "\n",
       "  var NB_LOAD_WARNING = {'data': {'text/html':\n",
       "     \"<div style='background-color: #fdd'>\\n\"+\n",
       "     \"<p>\\n\"+\n",
       "     \"BokehJS does not appear to have successfully loaded. If loading BokehJS from CDN, this \\n\"+\n",
       "     \"may be due to a slow or bad network connection. Possible fixes:\\n\"+\n",
       "     \"</p>\\n\"+\n",
       "     \"<ul>\\n\"+\n",
       "     \"<li>re-rerun `output_notebook()` to attempt to load from CDN again, or</li>\\n\"+\n",
       "     \"<li>use INLINE resources instead, as so:</li>\\n\"+\n",
       "     \"</ul>\\n\"+\n",
       "     \"<code>\\n\"+\n",
       "     \"from bokeh.resources import INLINE\\n\"+\n",
       "     \"output_notebook(resources=INLINE)\\n\"+\n",
       "     \"</code>\\n\"+\n",
       "     \"</div>\"}};\n",
       "\n",
       "  function display_loaded() {\n",
       "    var el = document.getElementById(\"1001\");\n",
       "    if (el != null) {\n",
       "      el.textContent = \"BokehJS is loading...\";\n",
       "    }\n",
       "    if (root.Bokeh !== undefined) {\n",
       "      if (el != null) {\n",
       "        el.textContent = \"BokehJS \" + root.Bokeh.version + \" successfully loaded.\";\n",
       "      }\n",
       "    } else if (Date.now() < root._bokeh_timeout) {\n",
       "      setTimeout(display_loaded, 100)\n",
       "    }\n",
       "  }\n",
       "\n",
       "\n",
       "  function run_callbacks() {\n",
       "    try {\n",
       "      root._bokeh_onload_callbacks.forEach(function(callback) {\n",
       "        if (callback != null)\n",
       "          callback();\n",
       "      });\n",
       "    } finally {\n",
       "      delete root._bokeh_onload_callbacks\n",
       "    }\n",
       "    console.debug(\"Bokeh: all callbacks have finished\");\n",
       "  }\n",
       "\n",
       "  function load_libs(css_urls, js_urls, callback) {\n",
       "    if (css_urls == null) css_urls = [];\n",
       "    if (js_urls == null) js_urls = [];\n",
       "\n",
       "    root._bokeh_onload_callbacks.push(callback);\n",
       "    if (root._bokeh_is_loading > 0) {\n",
       "      console.debug(\"Bokeh: BokehJS is being loaded, scheduling callback at\", now());\n",
       "      return null;\n",
       "    }\n",
       "    if (js_urls == null || js_urls.length === 0) {\n",
       "      run_callbacks();\n",
       "      return null;\n",
       "    }\n",
       "    console.debug(\"Bokeh: BokehJS not loaded, scheduling load and callback at\", now());\n",
       "    root._bokeh_is_loading = css_urls.length + js_urls.length;\n",
       "\n",
       "    function on_load() {\n",
       "      root._bokeh_is_loading--;\n",
       "      if (root._bokeh_is_loading === 0) {\n",
       "        console.debug(\"Bokeh: all BokehJS libraries/stylesheets loaded\");\n",
       "        run_callbacks()\n",
       "      }\n",
       "    }\n",
       "\n",
       "    function on_error() {\n",
       "      console.error(\"failed to load \" + url);\n",
       "    }\n",
       "\n",
       "    for (var i = 0; i < css_urls.length; i++) {\n",
       "      var url = css_urls[i];\n",
       "      const element = document.createElement(\"link\");\n",
       "      element.onload = on_load;\n",
       "      element.onerror = on_error;\n",
       "      element.rel = \"stylesheet\";\n",
       "      element.type = \"text/css\";\n",
       "      element.href = url;\n",
       "      console.debug(\"Bokeh: injecting link tag for BokehJS stylesheet: \", url);\n",
       "      document.body.appendChild(element);\n",
       "    }\n",
       "\n",
       "    const hashes = {\"https://cdn.bokeh.org/bokeh/release/bokeh-2.2.3.min.js\": \"T2yuo9Oe71Cz/I4X9Ac5+gpEa5a8PpJCDlqKYO0CfAuEszu1JrXLl8YugMqYe3sM\", \"https://cdn.bokeh.org/bokeh/release/bokeh-widgets-2.2.3.min.js\": \"98GDGJ0kOMCUMUePhksaQ/GYgB3+NH9h996V88sh3aOiUNX3N+fLXAtry6xctSZ6\", \"https://cdn.bokeh.org/bokeh/release/bokeh-tables-2.2.3.min.js\": \"89bArO+nlbP3sgakeHjCo1JYxYR5wufVgA3IbUvDY+K7w4zyxJqssu7wVnfeKCq8\"};\n",
       "\n",
       "    for (var i = 0; i < js_urls.length; i++) {\n",
       "      var url = js_urls[i];\n",
       "      var element = document.createElement('script');\n",
       "      element.onload = on_load;\n",
       "      element.onerror = on_error;\n",
       "      element.async = false;\n",
       "      element.src = url;\n",
       "      if (url in hashes) {\n",
       "        element.crossOrigin = \"anonymous\";\n",
       "        element.integrity = \"sha384-\" + hashes[url];\n",
       "      }\n",
       "      console.debug(\"Bokeh: injecting script tag for BokehJS library: \", url);\n",
       "      document.head.appendChild(element);\n",
       "    }\n",
       "  };\n",
       "\n",
       "  function inject_raw_css(css) {\n",
       "    const element = document.createElement(\"style\");\n",
       "    element.appendChild(document.createTextNode(css));\n",
       "    document.body.appendChild(element);\n",
       "  }\n",
       "\n",
       "  \n",
       "  var js_urls = [\"https://cdn.bokeh.org/bokeh/release/bokeh-2.2.3.min.js\", \"https://cdn.bokeh.org/bokeh/release/bokeh-widgets-2.2.3.min.js\", \"https://cdn.bokeh.org/bokeh/release/bokeh-tables-2.2.3.min.js\"];\n",
       "  var css_urls = [];\n",
       "  \n",
       "\n",
       "  var inline_js = [\n",
       "    function(Bokeh) {\n",
       "      Bokeh.set_log_level(\"info\");\n",
       "    },\n",
       "    function(Bokeh) {\n",
       "    \n",
       "    \n",
       "    }\n",
       "  ];\n",
       "\n",
       "  function run_inline_js() {\n",
       "    \n",
       "    if (root.Bokeh !== undefined || force === true) {\n",
       "      \n",
       "    for (var i = 0; i < inline_js.length; i++) {\n",
       "      inline_js[i].call(root, root.Bokeh);\n",
       "    }\n",
       "    if (force === true) {\n",
       "        display_loaded();\n",
       "      }} else if (Date.now() < root._bokeh_timeout) {\n",
       "      setTimeout(run_inline_js, 100);\n",
       "    } else if (!root._bokeh_failed_load) {\n",
       "      console.log(\"Bokeh: BokehJS failed to load within specified timeout.\");\n",
       "      root._bokeh_failed_load = true;\n",
       "    } else if (force !== true) {\n",
       "      var cell = $(document.getElementById(\"1001\")).parents('.cell').data().cell;\n",
       "      cell.output_area.append_execute_result(NB_LOAD_WARNING)\n",
       "    }\n",
       "\n",
       "  }\n",
       "\n",
       "  if (root._bokeh_is_loading === 0) {\n",
       "    console.debug(\"Bokeh: BokehJS loaded, going straight to plotting\");\n",
       "    run_inline_js();\n",
       "  } else {\n",
       "    load_libs(css_urls, js_urls, function() {\n",
       "      console.debug(\"Bokeh: BokehJS plotting callback run at\", now());\n",
       "      run_inline_js();\n",
       "    });\n",
       "  }\n",
       "}(window));"
      ],
      "application/vnd.bokehjs_load.v0+json": "\n(function(root) {\n  function now() {\n    return new Date();\n  }\n\n  var force = true;\n\n  if (typeof root._bokeh_onload_callbacks === \"undefined\" || force === true) {\n    root._bokeh_onload_callbacks = [];\n    root._bokeh_is_loading = undefined;\n  }\n\n  \n\n  \n  if (typeof (root._bokeh_timeout) === \"undefined\" || force === true) {\n    root._bokeh_timeout = Date.now() + 5000;\n    root._bokeh_failed_load = false;\n  }\n\n  var NB_LOAD_WARNING = {'data': {'text/html':\n     \"<div style='background-color: #fdd'>\\n\"+\n     \"<p>\\n\"+\n     \"BokehJS does not appear to have successfully loaded. If loading BokehJS from CDN, this \\n\"+\n     \"may be due to a slow or bad network connection. Possible fixes:\\n\"+\n     \"</p>\\n\"+\n     \"<ul>\\n\"+\n     \"<li>re-rerun `output_notebook()` to attempt to load from CDN again, or</li>\\n\"+\n     \"<li>use INLINE resources instead, as so:</li>\\n\"+\n     \"</ul>\\n\"+\n     \"<code>\\n\"+\n     \"from bokeh.resources import INLINE\\n\"+\n     \"output_notebook(resources=INLINE)\\n\"+\n     \"</code>\\n\"+\n     \"</div>\"}};\n\n  function display_loaded() {\n    var el = document.getElementById(\"1001\");\n    if (el != null) {\n      el.textContent = \"BokehJS is loading...\";\n    }\n    if (root.Bokeh !== undefined) {\n      if (el != null) {\n        el.textContent = \"BokehJS \" + root.Bokeh.version + \" successfully loaded.\";\n      }\n    } else if (Date.now() < root._bokeh_timeout) {\n      setTimeout(display_loaded, 100)\n    }\n  }\n\n\n  function run_callbacks() {\n    try {\n      root._bokeh_onload_callbacks.forEach(function(callback) {\n        if (callback != null)\n          callback();\n      });\n    } finally {\n      delete root._bokeh_onload_callbacks\n    }\n    console.debug(\"Bokeh: all callbacks have finished\");\n  }\n\n  function load_libs(css_urls, js_urls, callback) {\n    if (css_urls == null) css_urls = [];\n    if (js_urls == null) js_urls = [];\n\n    root._bokeh_onload_callbacks.push(callback);\n    if (root._bokeh_is_loading > 0) {\n      console.debug(\"Bokeh: BokehJS is being loaded, scheduling callback at\", now());\n      return null;\n    }\n    if (js_urls == null || js_urls.length === 0) {\n      run_callbacks();\n      return null;\n    }\n    console.debug(\"Bokeh: BokehJS not loaded, scheduling load and callback at\", now());\n    root._bokeh_is_loading = css_urls.length + js_urls.length;\n\n    function on_load() {\n      root._bokeh_is_loading--;\n      if (root._bokeh_is_loading === 0) {\n        console.debug(\"Bokeh: all BokehJS libraries/stylesheets loaded\");\n        run_callbacks()\n      }\n    }\n\n    function on_error() {\n      console.error(\"failed to load \" + url);\n    }\n\n    for (var i = 0; i < css_urls.length; i++) {\n      var url = css_urls[i];\n      const element = document.createElement(\"link\");\n      element.onload = on_load;\n      element.onerror = on_error;\n      element.rel = \"stylesheet\";\n      element.type = \"text/css\";\n      element.href = url;\n      console.debug(\"Bokeh: injecting link tag for BokehJS stylesheet: \", url);\n      document.body.appendChild(element);\n    }\n\n    const hashes = {\"https://cdn.bokeh.org/bokeh/release/bokeh-2.2.3.min.js\": \"T2yuo9Oe71Cz/I4X9Ac5+gpEa5a8PpJCDlqKYO0CfAuEszu1JrXLl8YugMqYe3sM\", \"https://cdn.bokeh.org/bokeh/release/bokeh-widgets-2.2.3.min.js\": \"98GDGJ0kOMCUMUePhksaQ/GYgB3+NH9h996V88sh3aOiUNX3N+fLXAtry6xctSZ6\", \"https://cdn.bokeh.org/bokeh/release/bokeh-tables-2.2.3.min.js\": \"89bArO+nlbP3sgakeHjCo1JYxYR5wufVgA3IbUvDY+K7w4zyxJqssu7wVnfeKCq8\"};\n\n    for (var i = 0; i < js_urls.length; i++) {\n      var url = js_urls[i];\n      var element = document.createElement('script');\n      element.onload = on_load;\n      element.onerror = on_error;\n      element.async = false;\n      element.src = url;\n      if (url in hashes) {\n        element.crossOrigin = \"anonymous\";\n        element.integrity = \"sha384-\" + hashes[url];\n      }\n      console.debug(\"Bokeh: injecting script tag for BokehJS library: \", url);\n      document.head.appendChild(element);\n    }\n  };\n\n  function inject_raw_css(css) {\n    const element = document.createElement(\"style\");\n    element.appendChild(document.createTextNode(css));\n    document.body.appendChild(element);\n  }\n\n  \n  var js_urls = [\"https://cdn.bokeh.org/bokeh/release/bokeh-2.2.3.min.js\", \"https://cdn.bokeh.org/bokeh/release/bokeh-widgets-2.2.3.min.js\", \"https://cdn.bokeh.org/bokeh/release/bokeh-tables-2.2.3.min.js\"];\n  var css_urls = [];\n  \n\n  var inline_js = [\n    function(Bokeh) {\n      Bokeh.set_log_level(\"info\");\n    },\n    function(Bokeh) {\n    \n    \n    }\n  ];\n\n  function run_inline_js() {\n    \n    if (root.Bokeh !== undefined || force === true) {\n      \n    for (var i = 0; i < inline_js.length; i++) {\n      inline_js[i].call(root, root.Bokeh);\n    }\n    if (force === true) {\n        display_loaded();\n      }} else if (Date.now() < root._bokeh_timeout) {\n      setTimeout(run_inline_js, 100);\n    } else if (!root._bokeh_failed_load) {\n      console.log(\"Bokeh: BokehJS failed to load within specified timeout.\");\n      root._bokeh_failed_load = true;\n    } else if (force !== true) {\n      var cell = $(document.getElementById(\"1001\")).parents('.cell').data().cell;\n      cell.output_area.append_execute_result(NB_LOAD_WARNING)\n    }\n\n  }\n\n  if (root._bokeh_is_loading === 0) {\n    console.debug(\"Bokeh: BokehJS loaded, going straight to plotting\");\n    run_inline_js();\n  } else {\n    load_libs(css_urls, js_urls, function() {\n      console.debug(\"Bokeh: BokehJS plotting callback run at\", now());\n      run_inline_js();\n    });\n  }\n}(window));"
     },
     "metadata": {},
     "output_type": "display_data"
    }
   ],
   "source": [
    "import time\n",
    "import pandas as pd\n",
    "import pandas_bokeh\n",
    "\n",
    "pandas_bokeh.output_notebook()\n",
    "\n",
    "partitions_list = [5, 10, 16, 25, 50, 75, 100, 200]\n",
    "amount_runs = 10"
   ]
  },
  {
   "cell_type": "code",
   "execution_count": 11,
   "metadata": {},
   "outputs": [],
   "source": [
    "def stats_for_pipeline(func, partitions_list, amount_runs):\n",
    "    timings = {}\n",
    "    for npartitions in partitions_list:\n",
    "        for _ in range(amount_runs):\n",
    "            starttime = time.time()\n",
    "            func(npartitions=npartitions)\n",
    "            data = pipeline.compute()\n",
    "            timings.setdefault(str(npartitions), []).append(time.time() - starttime)\n",
    "    stats = {\n",
    "        \"timings\": timings,\n",
    "        \"stats\": {}\n",
    "    }\n",
    "    for key, value in timings.items():\n",
    "        stats[\"stats\"][key] = sum(value) / amount_runs\n",
    "    return stats"
   ]
  },
  {
   "cell_type": "code",
   "execution_count": 12,
   "metadata": {},
   "outputs": [],
   "source": [
    "def run_pipeline_repartition_after_json_loads(npartitions):\n",
    "    pipeline = (\n",
    "        _dbag\n",
    "        .read_text(datasets_files)\n",
    "        .map(_json.loads)\n",
    "        .repartition(npartitions=npartitions)\n",
    "        .filter(_curry(category_filter, category_ids=range(5, 25)))\n",
    "        .filter(_curry(shipping_costs_filter, max_price=6))\n",
    "        .map(add_local_timestamp)\n",
    "        .map(add_shipping_costs_percentage)\n",
    "        .map(_json.dumps)\n",
    "        .repartition(npartitions=1)\n",
    "    )\n",
    "    pipeline.compute()"
   ]
  },
  {
   "cell_type": "code",
   "execution_count": 13,
   "metadata": {},
   "outputs": [
    {
     "data": {
      "text/plain": [
       "{'timings': {'5': [1.0754623413085938,\n",
       "   0.947650671005249,\n",
       "   1.1184160709381104,\n",
       "   0.9181466102600098,\n",
       "   0.9405834674835205,\n",
       "   0.9441275596618652,\n",
       "   0.9694132804870605,\n",
       "   1.0198206901550293,\n",
       "   1.0773534774780273,\n",
       "   0.9824705123901367],\n",
       "  '10': [0.9694733619689941,\n",
       "   0.9172508716583252,\n",
       "   0.9527764320373535,\n",
       "   1.007547378540039,\n",
       "   1.0650088787078857,\n",
       "   0.9321062564849854,\n",
       "   0.9756920337677002,\n",
       "   0.9463675022125244,\n",
       "   0.9694352149963379,\n",
       "   1.0092852115631104],\n",
       "  '16': [0.9170272350311279,\n",
       "   0.9957423210144043,\n",
       "   1.0086669921875,\n",
       "   0.914116621017456,\n",
       "   0.948265790939331,\n",
       "   0.9075121879577637,\n",
       "   0.8957934379577637,\n",
       "   1.0553560256958008,\n",
       "   1.101820707321167,\n",
       "   1.1400623321533203],\n",
       "  '25': [1.1452827453613281,\n",
       "   1.0719215869903564,\n",
       "   1.0593006610870361,\n",
       "   1.0963163375854492,\n",
       "   1.0741980075836182,\n",
       "   1.119070291519165,\n",
       "   1.091841220855713,\n",
       "   1.0703251361846924,\n",
       "   1.076174259185791,\n",
       "   1.1137492656707764],\n",
       "  '50': [0.9577665328979492,\n",
       "   0.958881139755249,\n",
       "   0.9629948139190674,\n",
       "   0.9689004421234131,\n",
       "   0.9926211833953857,\n",
       "   0.9523346424102783,\n",
       "   1.0308432579040527,\n",
       "   0.9526164531707764,\n",
       "   0.9531855583190918,\n",
       "   0.9604306221008301],\n",
       "  '75': [1.0659046173095703,\n",
       "   1.0627257823944092,\n",
       "   1.0692157745361328,\n",
       "   0.9742450714111328,\n",
       "   1.0454909801483154,\n",
       "   1.0723624229431152,\n",
       "   1.1241650581359863,\n",
       "   1.0652461051940918,\n",
       "   1.006500244140625,\n",
       "   1.043140172958374],\n",
       "  '100': [1.267911672592163,\n",
       "   1.248546838760376,\n",
       "   1.3708782196044922,\n",
       "   1.3373327255249023,\n",
       "   1.4468131065368652,\n",
       "   1.418222427368164,\n",
       "   1.2420804500579834,\n",
       "   1.2736454010009766,\n",
       "   1.2876307964324951,\n",
       "   1.2644844055175781],\n",
       "  '200': [1.5708844661712646,\n",
       "   1.7223687171936035,\n",
       "   1.6786179542541504,\n",
       "   1.5146167278289795,\n",
       "   1.4545514583587646,\n",
       "   1.5427095890045166,\n",
       "   1.5939381122589111,\n",
       "   1.4976317882537842,\n",
       "   1.4649453163146973,\n",
       "   1.5226881504058838]},\n",
       " 'stats': {'5': 0.9993444681167603,\n",
       "  '10': 0.9744943141937256,\n",
       "  '16': 0.9884363651275635,\n",
       "  '25': 1.0918179512023927,\n",
       "  '50': 0.9690574645996094,\n",
       "  '75': 1.0528996229171752,\n",
       "  '100': 1.3157546043395996,\n",
       "  '200': 1.5562952280044555}}"
      ]
     },
     "execution_count": 13,
     "metadata": {},
     "output_type": "execute_result"
    }
   ],
   "source": [
    "stats = stats_for_pipeline(\n",
    "    func=run_pipeline_repartition_after_json_loads,\n",
    "    partitions_list=partitions_list,\n",
    "    amount_runs=amount_runs\n",
    ")\n",
    "stats"
   ]
  },
  {
   "cell_type": "code",
   "execution_count": 14,
   "metadata": {},
   "outputs": [
    {
     "data": {
      "text/html": [
       "\n",
       "\n",
       "\n",
       "\n",
       "\n",
       "\n",
       "  <div class=\"bk-root\" id=\"aa2a2e76-7ec3-4405-a9fe-6e3d26133d2d\" data-root-id=\"1002\"></div>\n"
      ]
     },
     "metadata": {},
     "output_type": "display_data"
    },
    {
     "data": {
      "application/javascript": [
       "(function(root) {\n",
       "  function embed_document(root) {\n",
       "    \n",
       "  var docs_json = {\"bdee06fe-7b26-4ea4-a3b0-cd1cd89cd4b6\":{\"roots\":{\"references\":[{\"attributes\":{\"below\":[{\"id\":\"1013\"}],\"center\":[{\"id\":\"1016\"},{\"id\":\"1020\"},{\"id\":\"1049\"}],\"left\":[{\"id\":\"1017\"}],\"output_backend\":\"webgl\",\"plot_height\":400,\"renderers\":[{\"id\":\"1039\"},{\"id\":\"1057\"},{\"id\":\"1076\"},{\"id\":\"1097\"},{\"id\":\"1120\"},{\"id\":\"1145\"},{\"id\":\"1172\"},{\"id\":\"1201\"}],\"sizing_mode\":\"fixed\",\"title\":{\"id\":\"1003\"},\"toolbar\":{\"id\":\"1028\"},\"x_range\":{\"id\":\"1005\"},\"x_scale\":{\"id\":\"1009\"},\"y_range\":{\"id\":\"1007\"},\"y_scale\":{\"id\":\"1011\"}},\"id\":\"1002\",\"subtype\":\"Figure\",\"type\":\"Plot\"},{\"attributes\":{\"axis\":{\"id\":\"1017\"},\"dimension\":1,\"ticker\":null},\"id\":\"1020\",\"type\":\"Grid\"},{\"attributes\":{},\"id\":\"1025\",\"type\":\"ResetTool\"},{\"attributes\":{\"data\":{\"10\":{\"__ndarray__\":\"AAAAAO0F7z8AAACAHlrtPwAAAAAlfe4/AAAAAOoe8D8AAADARgrxPwAAAIDQ0+0/AAAAgN447z8AAACApEjuPwAAAACdBe8/AAAAQAgm8D8=\",\"dtype\":\"float64\",\"order\":\"little\",\"shape\":[10]},\"100\":{\"__ndarray__\":\"AAAAwF1J9D8AAABADPrzPwAAAAAe7/U/AAAAALdl9T8AAACAJSb3PwAAAAAKsfY/AAAAwI/f8z8AAAAA2mD0PwAAAMAimvQ/AAAAAFQ79D8=\",\"dtype\":\"float64\",\"order\":\"little\",\"shape\":[10]},\"16\":{\"__ndarray__\":\"AAAAgElY7T8AAAAAH93vPwAAAACAI/A/AAAAgHFA7T8AAACAMVjuPwAAAABXCu0/AAAAAFeq7D8AAAAAveLwPwAAAMAOofE/AAAAALI98j8=\",\"dtype\":\"float64\",\"order\":\"little\",\"shape\":[10]},\"200\":{\"__ndarray__\":\"AAAAwFci+T8AAACA0o77PwAAAICe2/o/AAAAwN47+D8AAADA10X3PwAAAEDwrvg/AAAAQMWA+T8AAADATPb3PwAAAIBqcPc/AAAAQO5c+D8=\",\"dtype\":\"float64\",\"order\":\"little\",\"shape\":[10]},\"25\":{\"__ndarray__\":\"AAAAABRT8j8AAABAlybxPwAAAEDl8vA/AAAAAIOK8T8AAABA6i/xPwAAAEC25/E/AAAAgC548T8AAABADSDxPwAAAIACOPE/AAAAwOrR8T8=\",\"dtype\":\"float64\",\"order\":\"little\",\"shape\":[10]},\"5\":{\"__ndarray__\":\"AAAAABg18T8AAACAJ1PuPwAAAEAI5fE/AAAAAHVh7T8AAACAQhnuPwAAAABLNu4/AAAAAG8F7z8AAACAL1HwPwAAAADXPPE/AAAAAGZw7z8=\",\"dtype\":\"float64\",\"order\":\"little\",\"shape\":[10]},\"50\":{\"__ndarray__\":\"AAAAAAam7j8AAACAJ6/uPwAAAIDa0O4/AAAAgDsB7z8AAACAjcPvPwAAAICGee4/AAAAgFV+8D8AAACA1XvuPwAAAAB/gO4/AAAAANm77j8=\",\"dtype\":\"float64\",\"order\":\"little\",\"shape\":[10]},\"75\":{\"__ndarray__\":\"AAAAAPIN8T8AAADA7ADxPwAAAACCG/E/AAAAAAQt7z8AAADAVLrwPwAAAIBlKPE/AAAAgJT88T8AAACAPwvxPwAAAACgGvA/AAAAwLOw8D8=\",\"dtype\":\"float64\",\"order\":\"little\",\"shape\":[10]},\"__x__values\":[0,1,2,3,4,5,6,7,8,9],\"__x__values_original\":[0,1,2,3,4,5,6,7,8,9]},\"selected\":{\"id\":\"1223\"},\"selection_policy\":{\"id\":\"1224\"}},\"id\":\"1197\",\"type\":\"ColumnDataSource\"},{\"attributes\":{\"line_alpha\":0.1,\"line_color\":\"#7f7f7f\",\"line_width\":2,\"x\":{\"field\":\"__x__values\"},\"y\":{\"field\":\"200\"}},\"id\":\"1200\",\"type\":\"Line\"},{\"attributes\":{},\"id\":\"1009\",\"type\":\"LinearScale\"},{\"attributes\":{\"callback\":null,\"mode\":\"vline\",\"renderers\":[{\"id\":\"1039\"}],\"tooltips\":[[\"x\",\"@__x__values_original\"],[\"5\",\"@{5}\"]]},\"id\":\"1051\",\"type\":\"HoverTool\"},{\"attributes\":{\"formatter\":{\"id\":\"1043\"},\"ticker\":{\"id\":\"1018\"}},\"id\":\"1017\",\"type\":\"LinearAxis\"},{\"attributes\":{},\"id\":\"1021\",\"type\":\"PanTool\"},{\"attributes\":{},\"id\":\"1164\",\"type\":\"UnionRenderers\"},{\"attributes\":{},\"id\":\"1011\",\"type\":\"LinearScale\"},{\"attributes\":{},\"id\":\"1163\",\"type\":\"Selection\"},{\"attributes\":{},\"id\":\"1005\",\"type\":\"DataRange1d\"},{\"attributes\":{},\"id\":\"1193\",\"type\":\"UnionRenderers\"},{\"attributes\":{},\"id\":\"1024\",\"type\":\"SaveTool\"},{\"attributes\":{\"active_drag\":\"auto\",\"active_inspect\":\"auto\",\"active_multi\":null,\"active_scroll\":{\"id\":\"1022\"},\"active_tap\":\"auto\",\"tools\":[{\"id\":\"1021\"},{\"id\":\"1022\"},{\"id\":\"1023\"},{\"id\":\"1024\"},{\"id\":\"1025\"},{\"id\":\"1026\"},{\"id\":\"1051\"},{\"id\":\"1070\"},{\"id\":\"1091\"},{\"id\":\"1114\"},{\"id\":\"1139\"},{\"id\":\"1166\"},{\"id\":\"1195\"},{\"id\":\"1226\"}]},\"id\":\"1028\",\"type\":\"Toolbar\"},{\"attributes\":{\"click_policy\":\"hide\",\"items\":[{\"id\":\"1050\"},{\"id\":\"1069\"},{\"id\":\"1090\"},{\"id\":\"1113\"},{\"id\":\"1138\"},{\"id\":\"1165\"},{\"id\":\"1194\"},{\"id\":\"1225\"}]},\"id\":\"1049\",\"type\":\"Legend\"},{\"attributes\":{},\"id\":\"1043\",\"type\":\"BasicTickFormatter\"},{\"attributes\":{},\"id\":\"1045\",\"type\":\"BasicTickFormatter\"},{\"attributes\":{\"data_source\":{\"id\":\"1197\"},\"glyph\":{\"id\":\"1199\"},\"hover_glyph\":null,\"muted_glyph\":null,\"nonselection_glyph\":{\"id\":\"1200\"},\"selection_glyph\":null,\"view\":{\"id\":\"1202\"}},\"id\":\"1201\",\"type\":\"GlyphRenderer\"},{\"attributes\":{\"axis\":{\"id\":\"1013\"},\"ticker\":null},\"id\":\"1016\",\"type\":\"Grid\"},{\"attributes\":{\"formatter\":{\"id\":\"1045\"},\"ticker\":{\"id\":\"1228\"}},\"id\":\"1013\",\"type\":\"LinearAxis\"},{\"attributes\":{\"label\":{\"value\":\" 5\"},\"renderers\":[{\"id\":\"1039\"}]},\"id\":\"1050\",\"type\":\"LegendItem\"},{\"attributes\":{\"overlay\":{\"id\":\"1027\"}},\"id\":\"1023\",\"type\":\"BoxZoomTool\"},{\"attributes\":{\"line_color\":\"#7f7f7f\",\"line_width\":2,\"x\":{\"field\":\"__x__values\"},\"y\":{\"field\":\"200\"}},\"id\":\"1199\",\"type\":\"Line\"},{\"attributes\":{},\"id\":\"1026\",\"type\":\"HelpTool\"},{\"attributes\":{},\"id\":\"1022\",\"type\":\"WheelZoomTool\"},{\"attributes\":{\"data\":{\"10\":{\"__ndarray__\":\"AAAAAO0F7z8AAACAHlrtPwAAAAAlfe4/AAAAAOoe8D8AAADARgrxPwAAAIDQ0+0/AAAAgN447z8AAACApEjuPwAAAACdBe8/AAAAQAgm8D8=\",\"dtype\":\"float64\",\"order\":\"little\",\"shape\":[10]},\"100\":{\"__ndarray__\":\"AAAAwF1J9D8AAABADPrzPwAAAAAe7/U/AAAAALdl9T8AAACAJSb3PwAAAAAKsfY/AAAAwI/f8z8AAAAA2mD0PwAAAMAimvQ/AAAAAFQ79D8=\",\"dtype\":\"float64\",\"order\":\"little\",\"shape\":[10]},\"16\":{\"__ndarray__\":\"AAAAgElY7T8AAAAAH93vPwAAAACAI/A/AAAAgHFA7T8AAACAMVjuPwAAAABXCu0/AAAAAFeq7D8AAAAAveLwPwAAAMAOofE/AAAAALI98j8=\",\"dtype\":\"float64\",\"order\":\"little\",\"shape\":[10]},\"200\":{\"__ndarray__\":\"AAAAwFci+T8AAACA0o77PwAAAICe2/o/AAAAwN47+D8AAADA10X3PwAAAEDwrvg/AAAAQMWA+T8AAADATPb3PwAAAIBqcPc/AAAAQO5c+D8=\",\"dtype\":\"float64\",\"order\":\"little\",\"shape\":[10]},\"25\":{\"__ndarray__\":\"AAAAABRT8j8AAABAlybxPwAAAEDl8vA/AAAAAIOK8T8AAABA6i/xPwAAAEC25/E/AAAAgC548T8AAABADSDxPwAAAIACOPE/AAAAwOrR8T8=\",\"dtype\":\"float64\",\"order\":\"little\",\"shape\":[10]},\"5\":{\"__ndarray__\":\"AAAAABg18T8AAACAJ1PuPwAAAEAI5fE/AAAAAHVh7T8AAACAQhnuPwAAAABLNu4/AAAAAG8F7z8AAACAL1HwPwAAAADXPPE/AAAAAGZw7z8=\",\"dtype\":\"float64\",\"order\":\"little\",\"shape\":[10]},\"50\":{\"__ndarray__\":\"AAAAAAam7j8AAACAJ6/uPwAAAIDa0O4/AAAAgDsB7z8AAACAjcPvPwAAAICGee4/AAAAgFV+8D8AAACA1XvuPwAAAAB/gO4/AAAAANm77j8=\",\"dtype\":\"float64\",\"order\":\"little\",\"shape\":[10]},\"75\":{\"__ndarray__\":\"AAAAAPIN8T8AAADA7ADxPwAAAACCG/E/AAAAAAQt7z8AAADAVLrwPwAAAIBlKPE/AAAAgJT88T8AAACAPwvxPwAAAACgGvA/AAAAwLOw8D8=\",\"dtype\":\"float64\",\"order\":\"little\",\"shape\":[10]},\"__x__values\":[0,1,2,3,4,5,6,7,8,9],\"__x__values_original\":[0,1,2,3,4,5,6,7,8,9]},\"selected\":{\"id\":\"1047\"},\"selection_policy\":{\"id\":\"1048\"}},\"id\":\"1035\",\"type\":\"ColumnDataSource\"},{\"attributes\":{},\"id\":\"1018\",\"type\":\"BasicTicker\"},{\"attributes\":{\"label\":{\"value\":\" 10\"},\"renderers\":[{\"id\":\"1057\"}]},\"id\":\"1069\",\"type\":\"LegendItem\"},{\"attributes\":{},\"id\":\"1068\",\"type\":\"UnionRenderers\"},{\"attributes\":{\"callback\":null,\"mode\":\"vline\",\"renderers\":[{\"id\":\"1076\"}],\"tooltips\":[[\"x\",\"@__x__values_original\"],[\"16\",\"@{16}\"]]},\"id\":\"1091\",\"type\":\"HoverTool\"},{\"attributes\":{},\"id\":\"1112\",\"type\":\"UnionRenderers\"},{\"attributes\":{\"line_alpha\":0.1,\"line_color\":\"#ff7f0e\",\"line_width\":2,\"x\":{\"field\":\"__x__values\"},\"y\":{\"field\":\"10\"}},\"id\":\"1056\",\"type\":\"Line\"},{\"attributes\":{\"source\":{\"id\":\"1116\"}},\"id\":\"1121\",\"type\":\"CDSView\"},{\"attributes\":{\"line_color\":\"#e377c2\",\"line_width\":2,\"x\":{\"field\":\"__x__values\"},\"y\":{\"field\":\"100\"}},\"id\":\"1170\",\"type\":\"Line\"},{\"attributes\":{\"source\":{\"id\":\"1141\"}},\"id\":\"1146\",\"type\":\"CDSView\"},{\"attributes\":{\"ticks\":[0,1,2,3,4,5,6,7,8,9]},\"id\":\"1228\",\"type\":\"FixedTicker\"},{\"attributes\":{},\"id\":\"1088\",\"type\":\"Selection\"},{\"attributes\":{\"source\":{\"id\":\"1035\"}},\"id\":\"1040\",\"type\":\"CDSView\"},{\"attributes\":{\"data\":{\"10\":{\"__ndarray__\":\"AAAAAO0F7z8AAACAHlrtPwAAAAAlfe4/AAAAAOoe8D8AAADARgrxPwAAAIDQ0+0/AAAAgN447z8AAACApEjuPwAAAACdBe8/AAAAQAgm8D8=\",\"dtype\":\"float64\",\"order\":\"little\",\"shape\":[10]},\"100\":{\"__ndarray__\":\"AAAAwF1J9D8AAABADPrzPwAAAAAe7/U/AAAAALdl9T8AAACAJSb3PwAAAAAKsfY/AAAAwI/f8z8AAAAA2mD0PwAAAMAimvQ/AAAAAFQ79D8=\",\"dtype\":\"float64\",\"order\":\"little\",\"shape\":[10]},\"16\":{\"__ndarray__\":\"AAAAgElY7T8AAAAAH93vPwAAAACAI/A/AAAAgHFA7T8AAACAMVjuPwAAAABXCu0/AAAAAFeq7D8AAAAAveLwPwAAAMAOofE/AAAAALI98j8=\",\"dtype\":\"float64\",\"order\":\"little\",\"shape\":[10]},\"200\":{\"__ndarray__\":\"AAAAwFci+T8AAACA0o77PwAAAICe2/o/AAAAwN47+D8AAADA10X3PwAAAEDwrvg/AAAAQMWA+T8AAADATPb3PwAAAIBqcPc/AAAAQO5c+D8=\",\"dtype\":\"float64\",\"order\":\"little\",\"shape\":[10]},\"25\":{\"__ndarray__\":\"AAAAABRT8j8AAABAlybxPwAAAEDl8vA/AAAAAIOK8T8AAABA6i/xPwAAAEC25/E/AAAAgC548T8AAABADSDxPwAAAIACOPE/AAAAwOrR8T8=\",\"dtype\":\"float64\",\"order\":\"little\",\"shape\":[10]},\"5\":{\"__ndarray__\":\"AAAAABg18T8AAACAJ1PuPwAAAEAI5fE/AAAAAHVh7T8AAACAQhnuPwAAAABLNu4/AAAAAG8F7z8AAACAL1HwPwAAAADXPPE/AAAAAGZw7z8=\",\"dtype\":\"float64\",\"order\":\"little\",\"shape\":[10]},\"50\":{\"__ndarray__\":\"AAAAAAam7j8AAACAJ6/uPwAAAIDa0O4/AAAAgDsB7z8AAACAjcPvPwAAAICGee4/AAAAgFV+8D8AAACA1XvuPwAAAAB/gO4/AAAAANm77j8=\",\"dtype\":\"float64\",\"order\":\"little\",\"shape\":[10]},\"75\":{\"__ndarray__\":\"AAAAAPIN8T8AAADA7ADxPwAAAACCG/E/AAAAAAQt7z8AAADAVLrwPwAAAIBlKPE/AAAAgJT88T8AAACAPwvxPwAAAACgGvA/AAAAwLOw8D8=\",\"dtype\":\"float64\",\"order\":\"little\",\"shape\":[10]},\"__x__values\":[0,1,2,3,4,5,6,7,8,9],\"__x__values_original\":[0,1,2,3,4,5,6,7,8,9]},\"selected\":{\"id\":\"1111\"},\"selection_policy\":{\"id\":\"1112\"}},\"id\":\"1093\",\"type\":\"ColumnDataSource\"},{\"attributes\":{\"line_color\":\"#8c564b\",\"line_width\":2,\"x\":{\"field\":\"__x__values\"},\"y\":{\"field\":\"75\"}},\"id\":\"1143\",\"type\":\"Line\"},{\"attributes\":{\"line_color\":\"#ff7f0e\",\"line_width\":2,\"x\":{\"field\":\"__x__values\"},\"y\":{\"field\":\"10\"}},\"id\":\"1055\",\"type\":\"Line\"},{\"attributes\":{},\"id\":\"1137\",\"type\":\"UnionRenderers\"},{\"attributes\":{\"line_color\":\"#9467bd\",\"line_width\":2,\"x\":{\"field\":\"__x__values\"},\"y\":{\"field\":\"50\"}},\"id\":\"1118\",\"type\":\"Line\"},{\"attributes\":{\"data\":{\"10\":{\"__ndarray__\":\"AAAAAO0F7z8AAACAHlrtPwAAAAAlfe4/AAAAAOoe8D8AAADARgrxPwAAAIDQ0+0/AAAAgN447z8AAACApEjuPwAAAACdBe8/AAAAQAgm8D8=\",\"dtype\":\"float64\",\"order\":\"little\",\"shape\":[10]},\"100\":{\"__ndarray__\":\"AAAAwF1J9D8AAABADPrzPwAAAAAe7/U/AAAAALdl9T8AAACAJSb3PwAAAAAKsfY/AAAAwI/f8z8AAAAA2mD0PwAAAMAimvQ/AAAAAFQ79D8=\",\"dtype\":\"float64\",\"order\":\"little\",\"shape\":[10]},\"16\":{\"__ndarray__\":\"AAAAgElY7T8AAAAAH93vPwAAAACAI/A/AAAAgHFA7T8AAACAMVjuPwAAAABXCu0/AAAAAFeq7D8AAAAAveLwPwAAAMAOofE/AAAAALI98j8=\",\"dtype\":\"float64\",\"order\":\"little\",\"shape\":[10]},\"200\":{\"__ndarray__\":\"AAAAwFci+T8AAACA0o77PwAAAICe2/o/AAAAwN47+D8AAADA10X3PwAAAEDwrvg/AAAAQMWA+T8AAADATPb3PwAAAIBqcPc/AAAAQO5c+D8=\",\"dtype\":\"float64\",\"order\":\"little\",\"shape\":[10]},\"25\":{\"__ndarray__\":\"AAAAABRT8j8AAABAlybxPwAAAEDl8vA/AAAAAIOK8T8AAABA6i/xPwAAAEC25/E/AAAAgC548T8AAABADSDxPwAAAIACOPE/AAAAwOrR8T8=\",\"dtype\":\"float64\",\"order\":\"little\",\"shape\":[10]},\"5\":{\"__ndarray__\":\"AAAAABg18T8AAACAJ1PuPwAAAEAI5fE/AAAAAHVh7T8AAACAQhnuPwAAAABLNu4/AAAAAG8F7z8AAACAL1HwPwAAAADXPPE/AAAAAGZw7z8=\",\"dtype\":\"float64\",\"order\":\"little\",\"shape\":[10]},\"50\":{\"__ndarray__\":\"AAAAAAam7j8AAACAJ6/uPwAAAIDa0O4/AAAAgDsB7z8AAACAjcPvPwAAAICGee4/AAAAgFV+8D8AAACA1XvuPwAAAAB/gO4/AAAAANm77j8=\",\"dtype\":\"float64\",\"order\":\"little\",\"shape\":[10]},\"75\":{\"__ndarray__\":\"AAAAAPIN8T8AAADA7ADxPwAAAACCG/E/AAAAAAQt7z8AAADAVLrwPwAAAIBlKPE/AAAAgJT88T8AAACAPwvxPwAAAACgGvA/AAAAwLOw8D8=\",\"dtype\":\"float64\",\"order\":\"little\",\"shape\":[10]},\"__x__values\":[0,1,2,3,4,5,6,7,8,9],\"__x__values_original\":[0,1,2,3,4,5,6,7,8,9]},\"selected\":{\"id\":\"1136\"},\"selection_policy\":{\"id\":\"1137\"}},\"id\":\"1116\",\"type\":\"ColumnDataSource\"},{\"attributes\":{\"data_source\":{\"id\":\"1168\"},\"glyph\":{\"id\":\"1170\"},\"hover_glyph\":null,\"muted_glyph\":null,\"nonselection_glyph\":{\"id\":\"1171\"},\"selection_glyph\":null,\"view\":{\"id\":\"1173\"}},\"id\":\"1172\",\"type\":\"GlyphRenderer\"},{\"attributes\":{\"source\":{\"id\":\"1072\"}},\"id\":\"1077\",\"type\":\"CDSView\"},{\"attributes\":{\"source\":{\"id\":\"1197\"}},\"id\":\"1202\",\"type\":\"CDSView\"},{\"attributes\":{\"callback\":null,\"mode\":\"vline\",\"renderers\":[{\"id\":\"1201\"}],\"tooltips\":[[\"x\",\"@__x__values_original\"],[\"200\",\"@{200}\"]]},\"id\":\"1226\",\"type\":\"HoverTool\"},{\"attributes\":{\"bottom_units\":\"screen\",\"fill_alpha\":0.5,\"fill_color\":\"lightgrey\",\"left_units\":\"screen\",\"level\":\"overlay\",\"line_alpha\":1.0,\"line_color\":\"black\",\"line_dash\":[4,4],\"line_width\":2,\"right_units\":\"screen\",\"top_units\":\"screen\"},\"id\":\"1027\",\"type\":\"BoxAnnotation\"},{\"attributes\":{\"text\":\"\"},\"id\":\"1003\",\"type\":\"Title\"},{\"attributes\":{\"data_source\":{\"id\":\"1035\"},\"glyph\":{\"id\":\"1037\"},\"hover_glyph\":null,\"muted_glyph\":null,\"nonselection_glyph\":{\"id\":\"1038\"},\"selection_glyph\":null,\"view\":{\"id\":\"1040\"}},\"id\":\"1039\",\"type\":\"GlyphRenderer\"},{\"attributes\":{\"line_alpha\":0.1,\"line_color\":\"#2ca02c\",\"line_width\":2,\"x\":{\"field\":\"__x__values\"},\"y\":{\"field\":\"16\"}},\"id\":\"1075\",\"type\":\"Line\"},{\"attributes\":{\"line_color\":\"#1f77b4\",\"line_width\":2,\"x\":{\"field\":\"__x__values\"},\"y\":{\"field\":\"5\"}},\"id\":\"1037\",\"type\":\"Line\"},{\"attributes\":{\"callback\":null,\"mode\":\"vline\",\"renderers\":[{\"id\":\"1097\"}],\"tooltips\":[[\"x\",\"@__x__values_original\"],[\"25\",\"@{25}\"]]},\"id\":\"1114\",\"type\":\"HoverTool\"},{\"attributes\":{\"line_alpha\":0.1,\"line_color\":\"#9467bd\",\"line_width\":2,\"x\":{\"field\":\"__x__values\"},\"y\":{\"field\":\"50\"}},\"id\":\"1119\",\"type\":\"Line\"},{\"attributes\":{\"data_source\":{\"id\":\"1072\"},\"glyph\":{\"id\":\"1074\"},\"hover_glyph\":null,\"muted_glyph\":null,\"nonselection_glyph\":{\"id\":\"1075\"},\"selection_glyph\":null,\"view\":{\"id\":\"1077\"}},\"id\":\"1076\",\"type\":\"GlyphRenderer\"},{\"attributes\":{\"source\":{\"id\":\"1093\"}},\"id\":\"1098\",\"type\":\"CDSView\"},{\"attributes\":{\"data\":{\"10\":{\"__ndarray__\":\"AAAAAO0F7z8AAACAHlrtPwAAAAAlfe4/AAAAAOoe8D8AAADARgrxPwAAAIDQ0+0/AAAAgN447z8AAACApEjuPwAAAACdBe8/AAAAQAgm8D8=\",\"dtype\":\"float64\",\"order\":\"little\",\"shape\":[10]},\"100\":{\"__ndarray__\":\"AAAAwF1J9D8AAABADPrzPwAAAAAe7/U/AAAAALdl9T8AAACAJSb3PwAAAAAKsfY/AAAAwI/f8z8AAAAA2mD0PwAAAMAimvQ/AAAAAFQ79D8=\",\"dtype\":\"float64\",\"order\":\"little\",\"shape\":[10]},\"16\":{\"__ndarray__\":\"AAAAgElY7T8AAAAAH93vPwAAAACAI/A/AAAAgHFA7T8AAACAMVjuPwAAAABXCu0/AAAAAFeq7D8AAAAAveLwPwAAAMAOofE/AAAAALI98j8=\",\"dtype\":\"float64\",\"order\":\"little\",\"shape\":[10]},\"200\":{\"__ndarray__\":\"AAAAwFci+T8AAACA0o77PwAAAICe2/o/AAAAwN47+D8AAADA10X3PwAAAEDwrvg/AAAAQMWA+T8AAADATPb3PwAAAIBqcPc/AAAAQO5c+D8=\",\"dtype\":\"float64\",\"order\":\"little\",\"shape\":[10]},\"25\":{\"__ndarray__\":\"AAAAABRT8j8AAABAlybxPwAAAEDl8vA/AAAAAIOK8T8AAABA6i/xPwAAAEC25/E/AAAAgC548T8AAABADSDxPwAAAIACOPE/AAAAwOrR8T8=\",\"dtype\":\"float64\",\"order\":\"little\",\"shape\":[10]},\"5\":{\"__ndarray__\":\"AAAAABg18T8AAACAJ1PuPwAAAEAI5fE/AAAAAHVh7T8AAACAQhnuPwAAAABLNu4/AAAAAG8F7z8AAACAL1HwPwAAAADXPPE/AAAAAGZw7z8=\",\"dtype\":\"float64\",\"order\":\"little\",\"shape\":[10]},\"50\":{\"__ndarray__\":\"AAAAAAam7j8AAACAJ6/uPwAAAIDa0O4/AAAAgDsB7z8AAACAjcPvPwAAAICGee4/AAAAgFV+8D8AAACA1XvuPwAAAAB/gO4/AAAAANm77j8=\",\"dtype\":\"float64\",\"order\":\"little\",\"shape\":[10]},\"75\":{\"__ndarray__\":\"AAAAAPIN8T8AAADA7ADxPwAAAACCG/E/AAAAAAQt7z8AAADAVLrwPwAAAIBlKPE/AAAAgJT88T8AAACAPwvxPwAAAACgGvA/AAAAwLOw8D8=\",\"dtype\":\"float64\",\"order\":\"little\",\"shape\":[10]},\"__x__values\":[0,1,2,3,4,5,6,7,8,9],\"__x__values_original\":[0,1,2,3,4,5,6,7,8,9]},\"selected\":{\"id\":\"1088\"},\"selection_policy\":{\"id\":\"1089\"}},\"id\":\"1072\",\"type\":\"ColumnDataSource\"},{\"attributes\":{\"data_source\":{\"id\":\"1053\"},\"glyph\":{\"id\":\"1055\"},\"hover_glyph\":null,\"muted_glyph\":null,\"nonselection_glyph\":{\"id\":\"1056\"},\"selection_glyph\":null,\"view\":{\"id\":\"1058\"}},\"id\":\"1057\",\"type\":\"GlyphRenderer\"},{\"attributes\":{\"data_source\":{\"id\":\"1116\"},\"glyph\":{\"id\":\"1118\"},\"hover_glyph\":null,\"muted_glyph\":null,\"nonselection_glyph\":{\"id\":\"1119\"},\"selection_glyph\":null,\"view\":{\"id\":\"1121\"}},\"id\":\"1120\",\"type\":\"GlyphRenderer\"},{\"attributes\":{},\"id\":\"1111\",\"type\":\"Selection\"},{\"attributes\":{\"data_source\":{\"id\":\"1141\"},\"glyph\":{\"id\":\"1143\"},\"hover_glyph\":null,\"muted_glyph\":null,\"nonselection_glyph\":{\"id\":\"1144\"},\"selection_glyph\":null,\"view\":{\"id\":\"1146\"}},\"id\":\"1145\",\"type\":\"GlyphRenderer\"},{\"attributes\":{},\"id\":\"1047\",\"type\":\"Selection\"},{\"attributes\":{\"label\":{\"value\":\" 100\"},\"renderers\":[{\"id\":\"1172\"}]},\"id\":\"1194\",\"type\":\"LegendItem\"},{\"attributes\":{\"callback\":null,\"mode\":\"vline\",\"renderers\":[{\"id\":\"1172\"}],\"tooltips\":[[\"x\",\"@__x__values_original\"],[\"100\",\"@{100}\"]]},\"id\":\"1195\",\"type\":\"HoverTool\"},{\"attributes\":{},\"id\":\"1223\",\"type\":\"Selection\"},{\"attributes\":{\"line_alpha\":0.1,\"line_color\":\"#d62728\",\"line_width\":2,\"x\":{\"field\":\"__x__values\"},\"y\":{\"field\":\"25\"}},\"id\":\"1096\",\"type\":\"Line\"},{\"attributes\":{\"source\":{\"id\":\"1053\"}},\"id\":\"1058\",\"type\":\"CDSView\"},{\"attributes\":{\"line_alpha\":0.1,\"line_color\":\"#8c564b\",\"line_width\":2,\"x\":{\"field\":\"__x__values\"},\"y\":{\"field\":\"75\"}},\"id\":\"1144\",\"type\":\"Line\"},{\"attributes\":{\"callback\":null,\"mode\":\"vline\",\"renderers\":[{\"id\":\"1120\"}],\"tooltips\":[[\"x\",\"@__x__values_original\"],[\"50\",\"@{50}\"]]},\"id\":\"1139\",\"type\":\"HoverTool\"},{\"attributes\":{\"label\":{\"value\":\" 25\"},\"renderers\":[{\"id\":\"1097\"}]},\"id\":\"1113\",\"type\":\"LegendItem\"},{\"attributes\":{\"data_source\":{\"id\":\"1093\"},\"glyph\":{\"id\":\"1095\"},\"hover_glyph\":null,\"muted_glyph\":null,\"nonselection_glyph\":{\"id\":\"1096\"},\"selection_glyph\":null,\"view\":{\"id\":\"1098\"}},\"id\":\"1097\",\"type\":\"GlyphRenderer\"},{\"attributes\":{},\"id\":\"1192\",\"type\":\"Selection\"},{\"attributes\":{\"label\":{\"value\":\" 75\"},\"renderers\":[{\"id\":\"1145\"}]},\"id\":\"1165\",\"type\":\"LegendItem\"},{\"attributes\":{},\"id\":\"1089\",\"type\":\"UnionRenderers\"},{\"attributes\":{},\"id\":\"1007\",\"type\":\"DataRange1d\"},{\"attributes\":{\"label\":{\"value\":\" 16\"},\"renderers\":[{\"id\":\"1076\"}]},\"id\":\"1090\",\"type\":\"LegendItem\"},{\"attributes\":{},\"id\":\"1048\",\"type\":\"UnionRenderers\"},{\"attributes\":{\"label\":{\"value\":\" 50\"},\"renderers\":[{\"id\":\"1120\"}]},\"id\":\"1138\",\"type\":\"LegendItem\"},{\"attributes\":{\"label\":{\"value\":\" 200\"},\"renderers\":[{\"id\":\"1201\"}]},\"id\":\"1225\",\"type\":\"LegendItem\"},{\"attributes\":{\"callback\":null,\"mode\":\"vline\",\"renderers\":[{\"id\":\"1057\"}],\"tooltips\":[[\"x\",\"@__x__values_original\"],[\"10\",\"@{10}\"]]},\"id\":\"1070\",\"type\":\"HoverTool\"},{\"attributes\":{\"data\":{\"10\":{\"__ndarray__\":\"AAAAAO0F7z8AAACAHlrtPwAAAAAlfe4/AAAAAOoe8D8AAADARgrxPwAAAIDQ0+0/AAAAgN447z8AAACApEjuPwAAAACdBe8/AAAAQAgm8D8=\",\"dtype\":\"float64\",\"order\":\"little\",\"shape\":[10]},\"100\":{\"__ndarray__\":\"AAAAwF1J9D8AAABADPrzPwAAAAAe7/U/AAAAALdl9T8AAACAJSb3PwAAAAAKsfY/AAAAwI/f8z8AAAAA2mD0PwAAAMAimvQ/AAAAAFQ79D8=\",\"dtype\":\"float64\",\"order\":\"little\",\"shape\":[10]},\"16\":{\"__ndarray__\":\"AAAAgElY7T8AAAAAH93vPwAAAACAI/A/AAAAgHFA7T8AAACAMVjuPwAAAABXCu0/AAAAAFeq7D8AAAAAveLwPwAAAMAOofE/AAAAALI98j8=\",\"dtype\":\"float64\",\"order\":\"little\",\"shape\":[10]},\"200\":{\"__ndarray__\":\"AAAAwFci+T8AAACA0o77PwAAAICe2/o/AAAAwN47+D8AAADA10X3PwAAAEDwrvg/AAAAQMWA+T8AAADATPb3PwAAAIBqcPc/AAAAQO5c+D8=\",\"dtype\":\"float64\",\"order\":\"little\",\"shape\":[10]},\"25\":{\"__ndarray__\":\"AAAAABRT8j8AAABAlybxPwAAAEDl8vA/AAAAAIOK8T8AAABA6i/xPwAAAEC25/E/AAAAgC548T8AAABADSDxPwAAAIACOPE/AAAAwOrR8T8=\",\"dtype\":\"float64\",\"order\":\"little\",\"shape\":[10]},\"5\":{\"__ndarray__\":\"AAAAABg18T8AAACAJ1PuPwAAAEAI5fE/AAAAAHVh7T8AAACAQhnuPwAAAABLNu4/AAAAAG8F7z8AAACAL1HwPwAAAADXPPE/AAAAAGZw7z8=\",\"dtype\":\"float64\",\"order\":\"little\",\"shape\":[10]},\"50\":{\"__ndarray__\":\"AAAAAAam7j8AAACAJ6/uPwAAAIDa0O4/AAAAgDsB7z8AAACAjcPvPwAAAICGee4/AAAAgFV+8D8AAACA1XvuPwAAAAB/gO4/AAAAANm77j8=\",\"dtype\":\"float64\",\"order\":\"little\",\"shape\":[10]},\"75\":{\"__ndarray__\":\"AAAAAPIN8T8AAADA7ADxPwAAAACCG/E/AAAAAAQt7z8AAADAVLrwPwAAAIBlKPE/AAAAgJT88T8AAACAPwvxPwAAAACgGvA/AAAAwLOw8D8=\",\"dtype\":\"float64\",\"order\":\"little\",\"shape\":[10]},\"__x__values\":[0,1,2,3,4,5,6,7,8,9],\"__x__values_original\":[0,1,2,3,4,5,6,7,8,9]},\"selected\":{\"id\":\"1163\"},\"selection_policy\":{\"id\":\"1164\"}},\"id\":\"1141\",\"type\":\"ColumnDataSource\"},{\"attributes\":{},\"id\":\"1067\",\"type\":\"Selection\"},{\"attributes\":{\"data\":{\"10\":{\"__ndarray__\":\"AAAAAO0F7z8AAACAHlrtPwAAAAAlfe4/AAAAAOoe8D8AAADARgrxPwAAAIDQ0+0/AAAAgN447z8AAACApEjuPwAAAACdBe8/AAAAQAgm8D8=\",\"dtype\":\"float64\",\"order\":\"little\",\"shape\":[10]},\"100\":{\"__ndarray__\":\"AAAAwF1J9D8AAABADPrzPwAAAAAe7/U/AAAAALdl9T8AAACAJSb3PwAAAAAKsfY/AAAAwI/f8z8AAAAA2mD0PwAAAMAimvQ/AAAAAFQ79D8=\",\"dtype\":\"float64\",\"order\":\"little\",\"shape\":[10]},\"16\":{\"__ndarray__\":\"AAAAgElY7T8AAAAAH93vPwAAAACAI/A/AAAAgHFA7T8AAACAMVjuPwAAAABXCu0/AAAAAFeq7D8AAAAAveLwPwAAAMAOofE/AAAAALI98j8=\",\"dtype\":\"float64\",\"order\":\"little\",\"shape\":[10]},\"200\":{\"__ndarray__\":\"AAAAwFci+T8AAACA0o77PwAAAICe2/o/AAAAwN47+D8AAADA10X3PwAAAEDwrvg/AAAAQMWA+T8AAADATPb3PwAAAIBqcPc/AAAAQO5c+D8=\",\"dtype\":\"float64\",\"order\":\"little\",\"shape\":[10]},\"25\":{\"__ndarray__\":\"AAAAABRT8j8AAABAlybxPwAAAEDl8vA/AAAAAIOK8T8AAABA6i/xPwAAAEC25/E/AAAAgC548T8AAABADSDxPwAAAIACOPE/AAAAwOrR8T8=\",\"dtype\":\"float64\",\"order\":\"little\",\"shape\":[10]},\"5\":{\"__ndarray__\":\"AAAAABg18T8AAACAJ1PuPwAAAEAI5fE/AAAAAHVh7T8AAACAQhnuPwAAAABLNu4/AAAAAG8F7z8AAACAL1HwPwAAAADXPPE/AAAAAGZw7z8=\",\"dtype\":\"float64\",\"order\":\"little\",\"shape\":[10]},\"50\":{\"__ndarray__\":\"AAAAAAam7j8AAACAJ6/uPwAAAIDa0O4/AAAAgDsB7z8AAACAjcPvPwAAAICGee4/AAAAgFV+8D8AAACA1XvuPwAAAAB/gO4/AAAAANm77j8=\",\"dtype\":\"float64\",\"order\":\"little\",\"shape\":[10]},\"75\":{\"__ndarray__\":\"AAAAAPIN8T8AAADA7ADxPwAAAACCG/E/AAAAAAQt7z8AAADAVLrwPwAAAIBlKPE/AAAAgJT88T8AAACAPwvxPwAAAACgGvA/AAAAwLOw8D8=\",\"dtype\":\"float64\",\"order\":\"little\",\"shape\":[10]},\"__x__values\":[0,1,2,3,4,5,6,7,8,9],\"__x__values_original\":[0,1,2,3,4,5,6,7,8,9]},\"selected\":{\"id\":\"1192\"},\"selection_policy\":{\"id\":\"1193\"}},\"id\":\"1168\",\"type\":\"ColumnDataSource\"},{\"attributes\":{},\"id\":\"1224\",\"type\":\"UnionRenderers\"},{\"attributes\":{\"line_alpha\":0.1,\"line_color\":\"#1f77b4\",\"line_width\":2,\"x\":{\"field\":\"__x__values\"},\"y\":{\"field\":\"5\"}},\"id\":\"1038\",\"type\":\"Line\"},{\"attributes\":{\"data\":{\"10\":{\"__ndarray__\":\"AAAAAO0F7z8AAACAHlrtPwAAAAAlfe4/AAAAAOoe8D8AAADARgrxPwAAAIDQ0+0/AAAAgN447z8AAACApEjuPwAAAACdBe8/AAAAQAgm8D8=\",\"dtype\":\"float64\",\"order\":\"little\",\"shape\":[10]},\"100\":{\"__ndarray__\":\"AAAAwF1J9D8AAABADPrzPwAAAAAe7/U/AAAAALdl9T8AAACAJSb3PwAAAAAKsfY/AAAAwI/f8z8AAAAA2mD0PwAAAMAimvQ/AAAAAFQ79D8=\",\"dtype\":\"float64\",\"order\":\"little\",\"shape\":[10]},\"16\":{\"__ndarray__\":\"AAAAgElY7T8AAAAAH93vPwAAAACAI/A/AAAAgHFA7T8AAACAMVjuPwAAAABXCu0/AAAAAFeq7D8AAAAAveLwPwAAAMAOofE/AAAAALI98j8=\",\"dtype\":\"float64\",\"order\":\"little\",\"shape\":[10]},\"200\":{\"__ndarray__\":\"AAAAwFci+T8AAACA0o77PwAAAICe2/o/AAAAwN47+D8AAADA10X3PwAAAEDwrvg/AAAAQMWA+T8AAADATPb3PwAAAIBqcPc/AAAAQO5c+D8=\",\"dtype\":\"float64\",\"order\":\"little\",\"shape\":[10]},\"25\":{\"__ndarray__\":\"AAAAABRT8j8AAABAlybxPwAAAEDl8vA/AAAAAIOK8T8AAABA6i/xPwAAAEC25/E/AAAAgC548T8AAABADSDxPwAAAIACOPE/AAAAwOrR8T8=\",\"dtype\":\"float64\",\"order\":\"little\",\"shape\":[10]},\"5\":{\"__ndarray__\":\"AAAAABg18T8AAACAJ1PuPwAAAEAI5fE/AAAAAHVh7T8AAACAQhnuPwAAAABLNu4/AAAAAG8F7z8AAACAL1HwPwAAAADXPPE/AAAAAGZw7z8=\",\"dtype\":\"float64\",\"order\":\"little\",\"shape\":[10]},\"50\":{\"__ndarray__\":\"AAAAAAam7j8AAACAJ6/uPwAAAIDa0O4/AAAAgDsB7z8AAACAjcPvPwAAAICGee4/AAAAgFV+8D8AAACA1XvuPwAAAAB/gO4/AAAAANm77j8=\",\"dtype\":\"float64\",\"order\":\"little\",\"shape\":[10]},\"75\":{\"__ndarray__\":\"AAAAAPIN8T8AAADA7ADxPwAAAACCG/E/AAAAAAQt7z8AAADAVLrwPwAAAIBlKPE/AAAAgJT88T8AAACAPwvxPwAAAACgGvA/AAAAwLOw8D8=\",\"dtype\":\"float64\",\"order\":\"little\",\"shape\":[10]},\"__x__values\":[0,1,2,3,4,5,6,7,8,9],\"__x__values_original\":[0,1,2,3,4,5,6,7,8,9]},\"selected\":{\"id\":\"1067\"},\"selection_policy\":{\"id\":\"1068\"}},\"id\":\"1053\",\"type\":\"ColumnDataSource\"},{\"attributes\":{\"line_color\":\"#2ca02c\",\"line_width\":2,\"x\":{\"field\":\"__x__values\"},\"y\":{\"field\":\"16\"}},\"id\":\"1074\",\"type\":\"Line\"},{\"attributes\":{},\"id\":\"1136\",\"type\":\"Selection\"},{\"attributes\":{\"callback\":null,\"mode\":\"vline\",\"renderers\":[{\"id\":\"1145\"}],\"tooltips\":[[\"x\",\"@__x__values_original\"],[\"75\",\"@{75}\"]]},\"id\":\"1166\",\"type\":\"HoverTool\"},{\"attributes\":{\"source\":{\"id\":\"1168\"}},\"id\":\"1173\",\"type\":\"CDSView\"},{\"attributes\":{\"line_alpha\":0.1,\"line_color\":\"#e377c2\",\"line_width\":2,\"x\":{\"field\":\"__x__values\"},\"y\":{\"field\":\"100\"}},\"id\":\"1171\",\"type\":\"Line\"},{\"attributes\":{\"line_color\":\"#d62728\",\"line_width\":2,\"x\":{\"field\":\"__x__values\"},\"y\":{\"field\":\"25\"}},\"id\":\"1095\",\"type\":\"Line\"}],\"root_ids\":[\"1002\"]},\"title\":\"Bokeh Application\",\"version\":\"2.2.3\"}};\n",
       "  var render_items = [{\"docid\":\"bdee06fe-7b26-4ea4-a3b0-cd1cd89cd4b6\",\"root_ids\":[\"1002\"],\"roots\":{\"1002\":\"aa2a2e76-7ec3-4405-a9fe-6e3d26133d2d\"}}];\n",
       "  root.Bokeh.embed.embed_items_notebook(docs_json, render_items);\n",
       "\n",
       "  }\n",
       "  if (root.Bokeh !== undefined) {\n",
       "    embed_document(root);\n",
       "  } else {\n",
       "    var attempts = 0;\n",
       "    var timer = setInterval(function(root) {\n",
       "      if (root.Bokeh !== undefined) {\n",
       "        clearInterval(timer);\n",
       "        embed_document(root);\n",
       "      } else {\n",
       "        attempts++;\n",
       "        if (attempts > 100) {\n",
       "          clearInterval(timer);\n",
       "          console.log(\"Bokeh: ERROR: Unable to run BokehJS code because BokehJS library is missing\");\n",
       "        }\n",
       "      }\n",
       "    }, 10, root)\n",
       "  }\n",
       "})(window);"
      ],
      "application/vnd.bokehjs_exec.v0+json": ""
     },
     "metadata": {
      "application/vnd.bokehjs_exec.v0+json": {
       "id": "1002"
      }
     },
     "output_type": "display_data"
    },
    {
     "data": {
      "text/html": [
       "<div style=\"display: table;\"><div style=\"display: table-row;\"><div style=\"display: table-cell;\"><b title=\"bokeh.plotting.figure.Figure\">Figure</b>(</div><div style=\"display: table-cell;\">id&nbsp;=&nbsp;'1002', <span id=\"1357\" style=\"cursor: pointer;\">&hellip;)</span></div></div><div class=\"1356\" style=\"display: none;\"><div style=\"display: table-cell;\"></div><div style=\"display: table-cell;\">above&nbsp;=&nbsp;[],</div></div><div class=\"1356\" style=\"display: none;\"><div style=\"display: table-cell;\"></div><div style=\"display: table-cell;\">align&nbsp;=&nbsp;'start',</div></div><div class=\"1356\" style=\"display: none;\"><div style=\"display: table-cell;\"></div><div style=\"display: table-cell;\">aspect_ratio&nbsp;=&nbsp;None,</div></div><div class=\"1356\" style=\"display: none;\"><div style=\"display: table-cell;\"></div><div style=\"display: table-cell;\">aspect_scale&nbsp;=&nbsp;1,</div></div><div class=\"1356\" style=\"display: none;\"><div style=\"display: table-cell;\"></div><div style=\"display: table-cell;\">background&nbsp;=&nbsp;None,</div></div><div class=\"1356\" style=\"display: none;\"><div style=\"display: table-cell;\"></div><div style=\"display: table-cell;\">background_fill_alpha&nbsp;=&nbsp;1.0,</div></div><div class=\"1356\" style=\"display: none;\"><div style=\"display: table-cell;\"></div><div style=\"display: table-cell;\">background_fill_color&nbsp;=&nbsp;'#ffffff',</div></div><div class=\"1356\" style=\"display: none;\"><div style=\"display: table-cell;\"></div><div style=\"display: table-cell;\">below&nbsp;=&nbsp;[LinearAxis(id='1013', ...)],</div></div><div class=\"1356\" style=\"display: none;\"><div style=\"display: table-cell;\"></div><div style=\"display: table-cell;\">border_fill_alpha&nbsp;=&nbsp;1.0,</div></div><div class=\"1356\" style=\"display: none;\"><div style=\"display: table-cell;\"></div><div style=\"display: table-cell;\">border_fill_color&nbsp;=&nbsp;'#ffffff',</div></div><div class=\"1356\" style=\"display: none;\"><div style=\"display: table-cell;\"></div><div style=\"display: table-cell;\">center&nbsp;=&nbsp;[Grid(id='1016', ...), Grid(id='1020', ...), Legend(id='1049', ...)],</div></div><div class=\"1356\" style=\"display: none;\"><div style=\"display: table-cell;\"></div><div style=\"display: table-cell;\">css_classes&nbsp;=&nbsp;[],</div></div><div class=\"1356\" style=\"display: none;\"><div style=\"display: table-cell;\"></div><div style=\"display: table-cell;\">disabled&nbsp;=&nbsp;False,</div></div><div class=\"1356\" style=\"display: none;\"><div style=\"display: table-cell;\"></div><div style=\"display: table-cell;\">extra_x_ranges&nbsp;=&nbsp;{},</div></div><div class=\"1356\" style=\"display: none;\"><div style=\"display: table-cell;\"></div><div style=\"display: table-cell;\">extra_y_ranges&nbsp;=&nbsp;{},</div></div><div class=\"1356\" style=\"display: none;\"><div style=\"display: table-cell;\"></div><div style=\"display: table-cell;\">frame_height&nbsp;=&nbsp;None,</div></div><div class=\"1356\" style=\"display: none;\"><div style=\"display: table-cell;\"></div><div style=\"display: table-cell;\">frame_width&nbsp;=&nbsp;None,</div></div><div class=\"1356\" style=\"display: none;\"><div style=\"display: table-cell;\"></div><div style=\"display: table-cell;\">height&nbsp;=&nbsp;None,</div></div><div class=\"1356\" style=\"display: none;\"><div style=\"display: table-cell;\"></div><div style=\"display: table-cell;\">height_policy&nbsp;=&nbsp;'auto',</div></div><div class=\"1356\" style=\"display: none;\"><div style=\"display: table-cell;\"></div><div style=\"display: table-cell;\">hidpi&nbsp;=&nbsp;True,</div></div><div class=\"1356\" style=\"display: none;\"><div style=\"display: table-cell;\"></div><div style=\"display: table-cell;\">js_event_callbacks&nbsp;=&nbsp;{},</div></div><div class=\"1356\" style=\"display: none;\"><div style=\"display: table-cell;\"></div><div style=\"display: table-cell;\">js_property_callbacks&nbsp;=&nbsp;{},</div></div><div class=\"1356\" style=\"display: none;\"><div style=\"display: table-cell;\"></div><div style=\"display: table-cell;\">left&nbsp;=&nbsp;[LinearAxis(id='1017', ...)],</div></div><div class=\"1356\" style=\"display: none;\"><div style=\"display: table-cell;\"></div><div style=\"display: table-cell;\">lod_factor&nbsp;=&nbsp;10,</div></div><div class=\"1356\" style=\"display: none;\"><div style=\"display: table-cell;\"></div><div style=\"display: table-cell;\">lod_interval&nbsp;=&nbsp;300,</div></div><div class=\"1356\" style=\"display: none;\"><div style=\"display: table-cell;\"></div><div style=\"display: table-cell;\">lod_threshold&nbsp;=&nbsp;2000,</div></div><div class=\"1356\" style=\"display: none;\"><div style=\"display: table-cell;\"></div><div style=\"display: table-cell;\">lod_timeout&nbsp;=&nbsp;500,</div></div><div class=\"1356\" style=\"display: none;\"><div style=\"display: table-cell;\"></div><div style=\"display: table-cell;\">margin&nbsp;=&nbsp;(0, 0, 0, 0),</div></div><div class=\"1356\" style=\"display: none;\"><div style=\"display: table-cell;\"></div><div style=\"display: table-cell;\">match_aspect&nbsp;=&nbsp;False,</div></div><div class=\"1356\" style=\"display: none;\"><div style=\"display: table-cell;\"></div><div style=\"display: table-cell;\">max_height&nbsp;=&nbsp;None,</div></div><div class=\"1356\" style=\"display: none;\"><div style=\"display: table-cell;\"></div><div style=\"display: table-cell;\">max_width&nbsp;=&nbsp;None,</div></div><div class=\"1356\" style=\"display: none;\"><div style=\"display: table-cell;\"></div><div style=\"display: table-cell;\">min_border&nbsp;=&nbsp;5,</div></div><div class=\"1356\" style=\"display: none;\"><div style=\"display: table-cell;\"></div><div style=\"display: table-cell;\">min_border_bottom&nbsp;=&nbsp;None,</div></div><div class=\"1356\" style=\"display: none;\"><div style=\"display: table-cell;\"></div><div style=\"display: table-cell;\">min_border_left&nbsp;=&nbsp;None,</div></div><div class=\"1356\" style=\"display: none;\"><div style=\"display: table-cell;\"></div><div style=\"display: table-cell;\">min_border_right&nbsp;=&nbsp;None,</div></div><div class=\"1356\" style=\"display: none;\"><div style=\"display: table-cell;\"></div><div style=\"display: table-cell;\">min_border_top&nbsp;=&nbsp;None,</div></div><div class=\"1356\" style=\"display: none;\"><div style=\"display: table-cell;\"></div><div style=\"display: table-cell;\">min_height&nbsp;=&nbsp;None,</div></div><div class=\"1356\" style=\"display: none;\"><div style=\"display: table-cell;\"></div><div style=\"display: table-cell;\">min_width&nbsp;=&nbsp;None,</div></div><div class=\"1356\" style=\"display: none;\"><div style=\"display: table-cell;\"></div><div style=\"display: table-cell;\">name&nbsp;=&nbsp;None,</div></div><div class=\"1356\" style=\"display: none;\"><div style=\"display: table-cell;\"></div><div style=\"display: table-cell;\">outline_line_alpha&nbsp;=&nbsp;1.0,</div></div><div class=\"1356\" style=\"display: none;\"><div style=\"display: table-cell;\"></div><div style=\"display: table-cell;\">outline_line_cap&nbsp;=&nbsp;'butt',</div></div><div class=\"1356\" style=\"display: none;\"><div style=\"display: table-cell;\"></div><div style=\"display: table-cell;\">outline_line_color&nbsp;=&nbsp;'#e5e5e5',</div></div><div class=\"1356\" style=\"display: none;\"><div style=\"display: table-cell;\"></div><div style=\"display: table-cell;\">outline_line_dash&nbsp;=&nbsp;[],</div></div><div class=\"1356\" style=\"display: none;\"><div style=\"display: table-cell;\"></div><div style=\"display: table-cell;\">outline_line_dash_offset&nbsp;=&nbsp;0,</div></div><div class=\"1356\" style=\"display: none;\"><div style=\"display: table-cell;\"></div><div style=\"display: table-cell;\">outline_line_join&nbsp;=&nbsp;'bevel',</div></div><div class=\"1356\" style=\"display: none;\"><div style=\"display: table-cell;\"></div><div style=\"display: table-cell;\">outline_line_width&nbsp;=&nbsp;1,</div></div><div class=\"1356\" style=\"display: none;\"><div style=\"display: table-cell;\"></div><div style=\"display: table-cell;\">output_backend&nbsp;=&nbsp;'webgl',</div></div><div class=\"1356\" style=\"display: none;\"><div style=\"display: table-cell;\"></div><div style=\"display: table-cell;\">plot_height&nbsp;=&nbsp;400,</div></div><div class=\"1356\" style=\"display: none;\"><div style=\"display: table-cell;\"></div><div style=\"display: table-cell;\">plot_width&nbsp;=&nbsp;600,</div></div><div class=\"1356\" style=\"display: none;\"><div style=\"display: table-cell;\"></div><div style=\"display: table-cell;\">renderers&nbsp;=&nbsp;[GlyphRenderer(id='1039', ...), GlyphRenderer(id='1057', ...), GlyphRenderer(id='1076', ...), GlyphRenderer(id='1097', ...), GlyphRenderer(id='1120', ...), GlyphRenderer(id='1145', ...), GlyphRenderer(id='1172', ...), GlyphRenderer(id='1201', ...)],</div></div><div class=\"1356\" style=\"display: none;\"><div style=\"display: table-cell;\"></div><div style=\"display: table-cell;\">reset_policy&nbsp;=&nbsp;'standard',</div></div><div class=\"1356\" style=\"display: none;\"><div style=\"display: table-cell;\"></div><div style=\"display: table-cell;\">right&nbsp;=&nbsp;[],</div></div><div class=\"1356\" style=\"display: none;\"><div style=\"display: table-cell;\"></div><div style=\"display: table-cell;\">sizing_mode&nbsp;=&nbsp;'fixed',</div></div><div class=\"1356\" style=\"display: none;\"><div style=\"display: table-cell;\"></div><div style=\"display: table-cell;\">subscribed_events&nbsp;=&nbsp;[],</div></div><div class=\"1356\" style=\"display: none;\"><div style=\"display: table-cell;\"></div><div style=\"display: table-cell;\">tags&nbsp;=&nbsp;[],</div></div><div class=\"1356\" style=\"display: none;\"><div style=\"display: table-cell;\"></div><div style=\"display: table-cell;\">title&nbsp;=&nbsp;Title(id='1003', ...),</div></div><div class=\"1356\" style=\"display: none;\"><div style=\"display: table-cell;\"></div><div style=\"display: table-cell;\">title_location&nbsp;=&nbsp;'above',</div></div><div class=\"1356\" style=\"display: none;\"><div style=\"display: table-cell;\"></div><div style=\"display: table-cell;\">toolbar&nbsp;=&nbsp;Toolbar(id='1028', ...),</div></div><div class=\"1356\" style=\"display: none;\"><div style=\"display: table-cell;\"></div><div style=\"display: table-cell;\">toolbar_location&nbsp;=&nbsp;'right',</div></div><div class=\"1356\" style=\"display: none;\"><div style=\"display: table-cell;\"></div><div style=\"display: table-cell;\">toolbar_sticky&nbsp;=&nbsp;True,</div></div><div class=\"1356\" style=\"display: none;\"><div style=\"display: table-cell;\"></div><div style=\"display: table-cell;\">visible&nbsp;=&nbsp;True,</div></div><div class=\"1356\" style=\"display: none;\"><div style=\"display: table-cell;\"></div><div style=\"display: table-cell;\">width&nbsp;=&nbsp;None,</div></div><div class=\"1356\" style=\"display: none;\"><div style=\"display: table-cell;\"></div><div style=\"display: table-cell;\">width_policy&nbsp;=&nbsp;'auto',</div></div><div class=\"1356\" style=\"display: none;\"><div style=\"display: table-cell;\"></div><div style=\"display: table-cell;\">x_range&nbsp;=&nbsp;DataRange1d(id='1005', ...),</div></div><div class=\"1356\" style=\"display: none;\"><div style=\"display: table-cell;\"></div><div style=\"display: table-cell;\">x_scale&nbsp;=&nbsp;LinearScale(id='1009', ...),</div></div><div class=\"1356\" style=\"display: none;\"><div style=\"display: table-cell;\"></div><div style=\"display: table-cell;\">y_range&nbsp;=&nbsp;DataRange1d(id='1007', ...),</div></div><div class=\"1356\" style=\"display: none;\"><div style=\"display: table-cell;\"></div><div style=\"display: table-cell;\">y_scale&nbsp;=&nbsp;LinearScale(id='1011', ...))</div></div></div>\n",
       "<script>\n",
       "(function() {\n",
       "  var expanded = false;\n",
       "  var ellipsis = document.getElementById(\"1357\");\n",
       "  ellipsis.addEventListener(\"click\", function() {\n",
       "    var rows = document.getElementsByClassName(\"1356\");\n",
       "    for (var i = 0; i < rows.length; i++) {\n",
       "      var el = rows[i];\n",
       "      el.style.display = expanded ? \"none\" : \"table-row\";\n",
       "    }\n",
       "    ellipsis.innerHTML = expanded ? \"&hellip;)\" : \"&lsaquo;&lsaquo;&lsaquo;\";\n",
       "    expanded = !expanded;\n",
       "  });\n",
       "})();\n",
       "</script>\n"
      ],
      "text/plain": [
       "Figure(id='1002', ...)"
      ]
     },
     "execution_count": 14,
     "metadata": {},
     "output_type": "execute_result"
    }
   ],
   "source": [
    "dfr = pd.DataFrame(stats['timings'])\n",
    "dfr.plot_bokeh()"
   ]
  },
  {
   "cell_type": "code",
   "execution_count": 15,
   "metadata": {},
   "outputs": [
    {
     "data": {
      "text/html": [
       "\n",
       "\n",
       "\n",
       "\n",
       "\n",
       "\n",
       "  <div class=\"bk-root\" id=\"17a39a4c-5750-40a1-aaf2-24022b0e5586\" data-root-id=\"1395\"></div>\n"
      ]
     },
     "metadata": {},
     "output_type": "display_data"
    },
    {
     "data": {
      "application/javascript": [
       "(function(root) {\n",
       "  function embed_document(root) {\n",
       "    \n",
       "  var docs_json = {\"11e5019f-f141-433b-8a8f-b7e8daa213cb\":{\"roots\":{\"references\":[{\"attributes\":{\"below\":[{\"id\":\"1406\"}],\"center\":[{\"id\":\"1409\"},{\"id\":\"1413\"},{\"id\":\"1443\"}],\"left\":[{\"id\":\"1410\"}],\"output_backend\":\"webgl\",\"plot_height\":400,\"renderers\":[{\"id\":\"1434\"}],\"sizing_mode\":\"fixed\",\"title\":{\"id\":\"1396\"},\"toolbar\":{\"id\":\"1421\"},\"x_range\":{\"id\":\"1398\"},\"x_scale\":{\"id\":\"1402\"},\"y_range\":{\"id\":\"1400\"},\"y_scale\":{\"id\":\"1404\"}},\"id\":\"1395\",\"subtype\":\"Figure\",\"type\":\"Plot\"},{\"attributes\":{\"code\":\"\\n                                    var labels = {0: '5', 1: '10', 2: '16', 3: '25', 4: '50', 5: '75', 6: '100', 7: '200'};\\n                                    return labels[tick];\\n                                    \"},\"id\":\"1428\",\"type\":\"FuncTickFormatter\"},{\"attributes\":{\"fill_alpha\":{\"value\":0.1},\"fill_color\":{\"value\":\"#1f77b4\"},\"line_alpha\":{\"value\":0.1},\"line_color\":{\"value\":\"#1f77b4\"},\"line_width\":{\"value\":2},\"top\":{\"field\":\"mean\"},\"width\":{\"value\":0.7},\"x\":{\"field\":\"__x__values\",\"transform\":{\"id\":\"1430\"}}},\"id\":\"1433\",\"type\":\"VBar\"},{\"attributes\":{\"fill_color\":{\"value\":\"#1f77b4\"},\"line_color\":{\"value\":\"#1f77b4\"},\"line_width\":{\"value\":2},\"top\":{\"field\":\"mean\"},\"width\":{\"value\":0.7},\"x\":{\"field\":\"__x__values\",\"transform\":{\"id\":\"1430\"}}},\"id\":\"1432\",\"type\":\"VBar\"},{\"attributes\":{\"axis_label\":\"mean\",\"formatter\":{\"id\":\"1438\"},\"ticker\":{\"id\":\"1411\"}},\"id\":\"1410\",\"type\":\"LinearAxis\"},{\"attributes\":{\"formatter\":{\"id\":\"1428\"},\"ticker\":{\"id\":\"1447\"}},\"id\":\"1406\",\"type\":\"LinearAxis\"},{\"attributes\":{},\"id\":\"1402\",\"type\":\"LinearScale\"},{\"attributes\":{},\"id\":\"1414\",\"type\":\"PanTool\"},{\"attributes\":{},\"id\":\"1418\",\"type\":\"ResetTool\"},{\"attributes\":{\"text\":\"\"},\"id\":\"1396\",\"type\":\"Title\"},{\"attributes\":{\"range\":{\"id\":\"1398\"}},\"id\":\"1430\",\"type\":\"Dodge\"},{\"attributes\":{\"overlay\":{\"id\":\"1420\"}},\"id\":\"1416\",\"type\":\"BoxZoomTool\"},{\"attributes\":{\"callback\":null,\"mode\":\"vline\",\"renderers\":[{\"id\":\"1434\"}],\"tooltips\":[[\"x\",\"@__x__values_original\"],[\"mean\",\"@{mean}\"]]},\"id\":\"1445\",\"type\":\"HoverTool\"},{\"attributes\":{\"label\":{\"value\":\" mean\"},\"renderers\":[{\"id\":\"1434\"}]},\"id\":\"1444\",\"type\":\"LegendItem\"},{\"attributes\":{},\"id\":\"1438\",\"type\":\"BasicTickFormatter\"},{\"attributes\":{},\"id\":\"1441\",\"type\":\"Selection\"},{\"attributes\":{\"bottom_units\":\"screen\",\"fill_alpha\":0.5,\"fill_color\":\"lightgrey\",\"left_units\":\"screen\",\"level\":\"overlay\",\"line_alpha\":1.0,\"line_color\":\"black\",\"line_dash\":[4,4],\"line_width\":2,\"right_units\":\"screen\",\"top_units\":\"screen\"},\"id\":\"1420\",\"type\":\"BoxAnnotation\"},{\"attributes\":{},\"id\":\"1442\",\"type\":\"UnionRenderers\"},{\"attributes\":{\"data_source\":{\"id\":\"1394\"},\"glyph\":{\"id\":\"1432\"},\"hover_glyph\":null,\"muted_glyph\":null,\"nonselection_glyph\":{\"id\":\"1433\"},\"selection_glyph\":null,\"view\":{\"id\":\"1435\"}},\"id\":\"1434\",\"type\":\"GlyphRenderer\"},{\"attributes\":{\"axis\":{\"id\":\"1410\"},\"dimension\":1,\"ticker\":null},\"id\":\"1413\",\"type\":\"Grid\"},{\"attributes\":{},\"id\":\"1419\",\"type\":\"HelpTool\"},{\"attributes\":{},\"id\":\"1400\",\"type\":\"DataRange1d\"},{\"attributes\":{\"data\":{\"__x__values\":[0,1,2,3,4,5,6,7],\"__x__values_original\":[\"5\",\"10\",\"16\",\"25\",\"50\",\"75\",\"100\",\"200\"],\"mean\":{\"__ndarray__\":\"AAAAQKH67z8zMzOzDi/vP83MzExFoe8/mpmZGRZ48T/NzMzMhALvP2ZmZkat2PA/MzMzs1QN9T8zMzPTleb4Pw==\",\"dtype\":\"float64\",\"order\":\"little\",\"shape\":[8]}},\"selected\":{\"id\":\"1441\"},\"selection_policy\":{\"id\":\"1442\"}},\"id\":\"1394\",\"type\":\"ColumnDataSource\"},{\"attributes\":{\"axis\":{\"id\":\"1406\"},\"ticker\":null},\"id\":\"1409\",\"type\":\"Grid\"},{\"attributes\":{},\"id\":\"1398\",\"type\":\"DataRange1d\"},{\"attributes\":{},\"id\":\"1404\",\"type\":\"LinearScale\"},{\"attributes\":{\"click_policy\":\"hide\",\"items\":[{\"id\":\"1444\"}]},\"id\":\"1443\",\"type\":\"Legend\"},{\"attributes\":{},\"id\":\"1417\",\"type\":\"SaveTool\"},{\"attributes\":{\"active_drag\":\"auto\",\"active_inspect\":\"auto\",\"active_multi\":null,\"active_scroll\":{\"id\":\"1415\"},\"active_tap\":\"auto\",\"tools\":[{\"id\":\"1414\"},{\"id\":\"1415\"},{\"id\":\"1416\"},{\"id\":\"1417\"},{\"id\":\"1418\"},{\"id\":\"1419\"},{\"id\":\"1445\"}]},\"id\":\"1421\",\"type\":\"Toolbar\"},{\"attributes\":{\"source\":{\"id\":\"1394\"}},\"id\":\"1435\",\"type\":\"CDSView\"},{\"attributes\":{\"ticks\":[0,1,2,3,4,5,6,7]},\"id\":\"1447\",\"type\":\"FixedTicker\"},{\"attributes\":{},\"id\":\"1415\",\"type\":\"WheelZoomTool\"},{\"attributes\":{},\"id\":\"1411\",\"type\":\"BasicTicker\"}],\"root_ids\":[\"1395\"]},\"title\":\"Bokeh Application\",\"version\":\"2.2.3\"}};\n",
       "  var render_items = [{\"docid\":\"11e5019f-f141-433b-8a8f-b7e8daa213cb\",\"root_ids\":[\"1395\"],\"roots\":{\"1395\":\"17a39a4c-5750-40a1-aaf2-24022b0e5586\"}}];\n",
       "  root.Bokeh.embed.embed_items_notebook(docs_json, render_items);\n",
       "\n",
       "  }\n",
       "  if (root.Bokeh !== undefined) {\n",
       "    embed_document(root);\n",
       "  } else {\n",
       "    var attempts = 0;\n",
       "    var timer = setInterval(function(root) {\n",
       "      if (root.Bokeh !== undefined) {\n",
       "        clearInterval(timer);\n",
       "        embed_document(root);\n",
       "      } else {\n",
       "        attempts++;\n",
       "        if (attempts > 100) {\n",
       "          clearInterval(timer);\n",
       "          console.log(\"Bokeh: ERROR: Unable to run BokehJS code because BokehJS library is missing\");\n",
       "        }\n",
       "      }\n",
       "    }, 10, root)\n",
       "  }\n",
       "})(window);"
      ],
      "application/vnd.bokehjs_exec.v0+json": ""
     },
     "metadata": {
      "application/vnd.bokehjs_exec.v0+json": {
       "id": "1395"
      }
     },
     "output_type": "display_data"
    },
    {
     "data": {
      "text/html": [
       "<div style=\"display: table;\"><div style=\"display: table-row;\"><div style=\"display: table-cell;\"><b title=\"bokeh.plotting.figure.Figure\">Figure</b>(</div><div style=\"display: table-cell;\">id&nbsp;=&nbsp;'1395', <span id=\"1507\" style=\"cursor: pointer;\">&hellip;)</span></div></div><div class=\"1506\" style=\"display: none;\"><div style=\"display: table-cell;\"></div><div style=\"display: table-cell;\">above&nbsp;=&nbsp;[],</div></div><div class=\"1506\" style=\"display: none;\"><div style=\"display: table-cell;\"></div><div style=\"display: table-cell;\">align&nbsp;=&nbsp;'start',</div></div><div class=\"1506\" style=\"display: none;\"><div style=\"display: table-cell;\"></div><div style=\"display: table-cell;\">aspect_ratio&nbsp;=&nbsp;None,</div></div><div class=\"1506\" style=\"display: none;\"><div style=\"display: table-cell;\"></div><div style=\"display: table-cell;\">aspect_scale&nbsp;=&nbsp;1,</div></div><div class=\"1506\" style=\"display: none;\"><div style=\"display: table-cell;\"></div><div style=\"display: table-cell;\">background&nbsp;=&nbsp;None,</div></div><div class=\"1506\" style=\"display: none;\"><div style=\"display: table-cell;\"></div><div style=\"display: table-cell;\">background_fill_alpha&nbsp;=&nbsp;1.0,</div></div><div class=\"1506\" style=\"display: none;\"><div style=\"display: table-cell;\"></div><div style=\"display: table-cell;\">background_fill_color&nbsp;=&nbsp;'#ffffff',</div></div><div class=\"1506\" style=\"display: none;\"><div style=\"display: table-cell;\"></div><div style=\"display: table-cell;\">below&nbsp;=&nbsp;[LinearAxis(id='1406', ...)],</div></div><div class=\"1506\" style=\"display: none;\"><div style=\"display: table-cell;\"></div><div style=\"display: table-cell;\">border_fill_alpha&nbsp;=&nbsp;1.0,</div></div><div class=\"1506\" style=\"display: none;\"><div style=\"display: table-cell;\"></div><div style=\"display: table-cell;\">border_fill_color&nbsp;=&nbsp;'#ffffff',</div></div><div class=\"1506\" style=\"display: none;\"><div style=\"display: table-cell;\"></div><div style=\"display: table-cell;\">center&nbsp;=&nbsp;[Grid(id='1409', ...), Grid(id='1413', ...), Legend(id='1443', ...)],</div></div><div class=\"1506\" style=\"display: none;\"><div style=\"display: table-cell;\"></div><div style=\"display: table-cell;\">css_classes&nbsp;=&nbsp;[],</div></div><div class=\"1506\" style=\"display: none;\"><div style=\"display: table-cell;\"></div><div style=\"display: table-cell;\">disabled&nbsp;=&nbsp;False,</div></div><div class=\"1506\" style=\"display: none;\"><div style=\"display: table-cell;\"></div><div style=\"display: table-cell;\">extra_x_ranges&nbsp;=&nbsp;{},</div></div><div class=\"1506\" style=\"display: none;\"><div style=\"display: table-cell;\"></div><div style=\"display: table-cell;\">extra_y_ranges&nbsp;=&nbsp;{},</div></div><div class=\"1506\" style=\"display: none;\"><div style=\"display: table-cell;\"></div><div style=\"display: table-cell;\">frame_height&nbsp;=&nbsp;None,</div></div><div class=\"1506\" style=\"display: none;\"><div style=\"display: table-cell;\"></div><div style=\"display: table-cell;\">frame_width&nbsp;=&nbsp;None,</div></div><div class=\"1506\" style=\"display: none;\"><div style=\"display: table-cell;\"></div><div style=\"display: table-cell;\">height&nbsp;=&nbsp;None,</div></div><div class=\"1506\" style=\"display: none;\"><div style=\"display: table-cell;\"></div><div style=\"display: table-cell;\">height_policy&nbsp;=&nbsp;'auto',</div></div><div class=\"1506\" style=\"display: none;\"><div style=\"display: table-cell;\"></div><div style=\"display: table-cell;\">hidpi&nbsp;=&nbsp;True,</div></div><div class=\"1506\" style=\"display: none;\"><div style=\"display: table-cell;\"></div><div style=\"display: table-cell;\">js_event_callbacks&nbsp;=&nbsp;{},</div></div><div class=\"1506\" style=\"display: none;\"><div style=\"display: table-cell;\"></div><div style=\"display: table-cell;\">js_property_callbacks&nbsp;=&nbsp;{},</div></div><div class=\"1506\" style=\"display: none;\"><div style=\"display: table-cell;\"></div><div style=\"display: table-cell;\">left&nbsp;=&nbsp;[LinearAxis(id='1410', ...)],</div></div><div class=\"1506\" style=\"display: none;\"><div style=\"display: table-cell;\"></div><div style=\"display: table-cell;\">lod_factor&nbsp;=&nbsp;10,</div></div><div class=\"1506\" style=\"display: none;\"><div style=\"display: table-cell;\"></div><div style=\"display: table-cell;\">lod_interval&nbsp;=&nbsp;300,</div></div><div class=\"1506\" style=\"display: none;\"><div style=\"display: table-cell;\"></div><div style=\"display: table-cell;\">lod_threshold&nbsp;=&nbsp;2000,</div></div><div class=\"1506\" style=\"display: none;\"><div style=\"display: table-cell;\"></div><div style=\"display: table-cell;\">lod_timeout&nbsp;=&nbsp;500,</div></div><div class=\"1506\" style=\"display: none;\"><div style=\"display: table-cell;\"></div><div style=\"display: table-cell;\">margin&nbsp;=&nbsp;(0, 0, 0, 0),</div></div><div class=\"1506\" style=\"display: none;\"><div style=\"display: table-cell;\"></div><div style=\"display: table-cell;\">match_aspect&nbsp;=&nbsp;False,</div></div><div class=\"1506\" style=\"display: none;\"><div style=\"display: table-cell;\"></div><div style=\"display: table-cell;\">max_height&nbsp;=&nbsp;None,</div></div><div class=\"1506\" style=\"display: none;\"><div style=\"display: table-cell;\"></div><div style=\"display: table-cell;\">max_width&nbsp;=&nbsp;None,</div></div><div class=\"1506\" style=\"display: none;\"><div style=\"display: table-cell;\"></div><div style=\"display: table-cell;\">min_border&nbsp;=&nbsp;5,</div></div><div class=\"1506\" style=\"display: none;\"><div style=\"display: table-cell;\"></div><div style=\"display: table-cell;\">min_border_bottom&nbsp;=&nbsp;None,</div></div><div class=\"1506\" style=\"display: none;\"><div style=\"display: table-cell;\"></div><div style=\"display: table-cell;\">min_border_left&nbsp;=&nbsp;None,</div></div><div class=\"1506\" style=\"display: none;\"><div style=\"display: table-cell;\"></div><div style=\"display: table-cell;\">min_border_right&nbsp;=&nbsp;None,</div></div><div class=\"1506\" style=\"display: none;\"><div style=\"display: table-cell;\"></div><div style=\"display: table-cell;\">min_border_top&nbsp;=&nbsp;None,</div></div><div class=\"1506\" style=\"display: none;\"><div style=\"display: table-cell;\"></div><div style=\"display: table-cell;\">min_height&nbsp;=&nbsp;None,</div></div><div class=\"1506\" style=\"display: none;\"><div style=\"display: table-cell;\"></div><div style=\"display: table-cell;\">min_width&nbsp;=&nbsp;None,</div></div><div class=\"1506\" style=\"display: none;\"><div style=\"display: table-cell;\"></div><div style=\"display: table-cell;\">name&nbsp;=&nbsp;None,</div></div><div class=\"1506\" style=\"display: none;\"><div style=\"display: table-cell;\"></div><div style=\"display: table-cell;\">outline_line_alpha&nbsp;=&nbsp;1.0,</div></div><div class=\"1506\" style=\"display: none;\"><div style=\"display: table-cell;\"></div><div style=\"display: table-cell;\">outline_line_cap&nbsp;=&nbsp;'butt',</div></div><div class=\"1506\" style=\"display: none;\"><div style=\"display: table-cell;\"></div><div style=\"display: table-cell;\">outline_line_color&nbsp;=&nbsp;'#e5e5e5',</div></div><div class=\"1506\" style=\"display: none;\"><div style=\"display: table-cell;\"></div><div style=\"display: table-cell;\">outline_line_dash&nbsp;=&nbsp;[],</div></div><div class=\"1506\" style=\"display: none;\"><div style=\"display: table-cell;\"></div><div style=\"display: table-cell;\">outline_line_dash_offset&nbsp;=&nbsp;0,</div></div><div class=\"1506\" style=\"display: none;\"><div style=\"display: table-cell;\"></div><div style=\"display: table-cell;\">outline_line_join&nbsp;=&nbsp;'bevel',</div></div><div class=\"1506\" style=\"display: none;\"><div style=\"display: table-cell;\"></div><div style=\"display: table-cell;\">outline_line_width&nbsp;=&nbsp;1,</div></div><div class=\"1506\" style=\"display: none;\"><div style=\"display: table-cell;\"></div><div style=\"display: table-cell;\">output_backend&nbsp;=&nbsp;'webgl',</div></div><div class=\"1506\" style=\"display: none;\"><div style=\"display: table-cell;\"></div><div style=\"display: table-cell;\">plot_height&nbsp;=&nbsp;400,</div></div><div class=\"1506\" style=\"display: none;\"><div style=\"display: table-cell;\"></div><div style=\"display: table-cell;\">plot_width&nbsp;=&nbsp;600,</div></div><div class=\"1506\" style=\"display: none;\"><div style=\"display: table-cell;\"></div><div style=\"display: table-cell;\">renderers&nbsp;=&nbsp;[GlyphRenderer(id='1434', ...)],</div></div><div class=\"1506\" style=\"display: none;\"><div style=\"display: table-cell;\"></div><div style=\"display: table-cell;\">reset_policy&nbsp;=&nbsp;'standard',</div></div><div class=\"1506\" style=\"display: none;\"><div style=\"display: table-cell;\"></div><div style=\"display: table-cell;\">right&nbsp;=&nbsp;[],</div></div><div class=\"1506\" style=\"display: none;\"><div style=\"display: table-cell;\"></div><div style=\"display: table-cell;\">sizing_mode&nbsp;=&nbsp;'fixed',</div></div><div class=\"1506\" style=\"display: none;\"><div style=\"display: table-cell;\"></div><div style=\"display: table-cell;\">subscribed_events&nbsp;=&nbsp;[],</div></div><div class=\"1506\" style=\"display: none;\"><div style=\"display: table-cell;\"></div><div style=\"display: table-cell;\">tags&nbsp;=&nbsp;[],</div></div><div class=\"1506\" style=\"display: none;\"><div style=\"display: table-cell;\"></div><div style=\"display: table-cell;\">title&nbsp;=&nbsp;Title(id='1396', ...),</div></div><div class=\"1506\" style=\"display: none;\"><div style=\"display: table-cell;\"></div><div style=\"display: table-cell;\">title_location&nbsp;=&nbsp;'above',</div></div><div class=\"1506\" style=\"display: none;\"><div style=\"display: table-cell;\"></div><div style=\"display: table-cell;\">toolbar&nbsp;=&nbsp;Toolbar(id='1421', ...),</div></div><div class=\"1506\" style=\"display: none;\"><div style=\"display: table-cell;\"></div><div style=\"display: table-cell;\">toolbar_location&nbsp;=&nbsp;'right',</div></div><div class=\"1506\" style=\"display: none;\"><div style=\"display: table-cell;\"></div><div style=\"display: table-cell;\">toolbar_sticky&nbsp;=&nbsp;True,</div></div><div class=\"1506\" style=\"display: none;\"><div style=\"display: table-cell;\"></div><div style=\"display: table-cell;\">visible&nbsp;=&nbsp;True,</div></div><div class=\"1506\" style=\"display: none;\"><div style=\"display: table-cell;\"></div><div style=\"display: table-cell;\">width&nbsp;=&nbsp;None,</div></div><div class=\"1506\" style=\"display: none;\"><div style=\"display: table-cell;\"></div><div style=\"display: table-cell;\">width_policy&nbsp;=&nbsp;'auto',</div></div><div class=\"1506\" style=\"display: none;\"><div style=\"display: table-cell;\"></div><div style=\"display: table-cell;\">x_range&nbsp;=&nbsp;DataRange1d(id='1398', ...),</div></div><div class=\"1506\" style=\"display: none;\"><div style=\"display: table-cell;\"></div><div style=\"display: table-cell;\">x_scale&nbsp;=&nbsp;LinearScale(id='1402', ...),</div></div><div class=\"1506\" style=\"display: none;\"><div style=\"display: table-cell;\"></div><div style=\"display: table-cell;\">y_range&nbsp;=&nbsp;DataRange1d(id='1400', ...),</div></div><div class=\"1506\" style=\"display: none;\"><div style=\"display: table-cell;\"></div><div style=\"display: table-cell;\">y_scale&nbsp;=&nbsp;LinearScale(id='1404', ...))</div></div></div>\n",
       "<script>\n",
       "(function() {\n",
       "  var expanded = false;\n",
       "  var ellipsis = document.getElementById(\"1507\");\n",
       "  ellipsis.addEventListener(\"click\", function() {\n",
       "    var rows = document.getElementsByClassName(\"1506\");\n",
       "    for (var i = 0; i < rows.length; i++) {\n",
       "      var el = rows[i];\n",
       "      el.style.display = expanded ? \"none\" : \"table-row\";\n",
       "    }\n",
       "    ellipsis.innerHTML = expanded ? \"&hellip;)\" : \"&lsaquo;&lsaquo;&lsaquo;\";\n",
       "    expanded = !expanded;\n",
       "  });\n",
       "})();\n",
       "</script>\n"
      ],
      "text/plain": [
       "Figure(id='1395', ...)"
      ]
     },
     "execution_count": 15,
     "metadata": {},
     "output_type": "execute_result"
    }
   ],
   "source": [
    "dfr.describe().T[\"mean\"].plot_bokeh(kind=\"bar\")"
   ]
  },
  {
   "cell_type": "markdown",
   "metadata": {},
   "source": [
    "### position of repartition"
   ]
  },
  {
   "cell_type": "code",
   "execution_count": 16,
   "metadata": {},
   "outputs": [],
   "source": [
    "def run_pipeline_repartition_first(npartitions):\n",
    "    pipeline = (\n",
    "        _dbag\n",
    "        .read_text(datasets_files)\n",
    "        .repartition(npartitions=npartitions)\n",
    "        .map(_json.loads)\n",
    "        .filter(_curry(category_filter, category_ids=range(5, 25)))\n",
    "        .filter(_curry(shipping_costs_filter, max_price=6))\n",
    "        .map(add_local_timestamp)\n",
    "        .map(add_shipping_costs_percentage)\n",
    "        .map(_json.dumps)\n",
    "        .repartition(npartitions=1)\n",
    "    )\n",
    "    pipeline.compute()"
   ]
  },
  {
   "cell_type": "code",
   "execution_count": 17,
   "metadata": {},
   "outputs": [
    {
     "data": {
      "text/plain": [
       "{'timings': {'5': [1.1514713764190674,\n",
       "   1.0184791088104248,\n",
       "   1.0899267196655273,\n",
       "   1.2848212718963623,\n",
       "   0.9763009548187256,\n",
       "   1.0187466144561768,\n",
       "   1.025041103363037,\n",
       "   1.315382957458496,\n",
       "   1.0882835388183594,\n",
       "   1.049999475479126],\n",
       "  '10': [1.036437749862671,\n",
       "   1.0038478374481201,\n",
       "   0.9926064014434814,\n",
       "   1.0350306034088135,\n",
       "   1.1449806690216064,\n",
       "   1.0774900913238525,\n",
       "   1.044585943222046,\n",
       "   0.9781143665313721,\n",
       "   1.0326666831970215,\n",
       "   1.002838134765625],\n",
       "  '16': [0.9697940349578857,\n",
       "   1.0066781044006348,\n",
       "   0.9811439514160156,\n",
       "   0.9834551811218262,\n",
       "   1.0146961212158203,\n",
       "   0.9882469177246094,\n",
       "   1.0126073360443115,\n",
       "   1.0890233516693115,\n",
       "   0.9730303287506104,\n",
       "   1.0373554229736328],\n",
       "  '25': [0.9589347839355469,\n",
       "   0.9240622520446777,\n",
       "   1.0020256042480469,\n",
       "   0.9556350708007812,\n",
       "   1.0341017246246338,\n",
       "   0.9853677749633789,\n",
       "   1.0746450424194336,\n",
       "   0.982172966003418,\n",
       "   1.0694732666015625,\n",
       "   1.0157101154327393],\n",
       "  '50': [0.9914984703063965,\n",
       "   0.9618842601776123,\n",
       "   0.9506540298461914,\n",
       "   1.0159633159637451,\n",
       "   0.9482929706573486,\n",
       "   1.003023386001587,\n",
       "   0.9848804473876953,\n",
       "   0.9543280601501465,\n",
       "   0.9945433139801025,\n",
       "   0.9727792739868164],\n",
       "  '75': [1.0347485542297363,\n",
       "   1.1614575386047363,\n",
       "   1.205796480178833,\n",
       "   1.0228819847106934,\n",
       "   1.053581714630127,\n",
       "   1.0824718475341797,\n",
       "   1.0430512428283691,\n",
       "   1.025076150894165,\n",
       "   1.080878496170044,\n",
       "   1.0458154678344727],\n",
       "  '100': [1.1780712604522705,\n",
       "   1.1666953563690186,\n",
       "   1.2976717948913574,\n",
       "   1.106257438659668,\n",
       "   1.3166062831878662,\n",
       "   1.2228448390960693,\n",
       "   1.176215410232544,\n",
       "   1.1980595588684082,\n",
       "   1.106175184249878,\n",
       "   1.0914015769958496],\n",
       "  '200': [1.33146071434021,\n",
       "   1.5061731338500977,\n",
       "   1.3143339157104492,\n",
       "   1.3507945537567139,\n",
       "   1.3546218872070312,\n",
       "   1.3353450298309326,\n",
       "   1.3534886837005615,\n",
       "   1.302586317062378,\n",
       "   1.5814197063446045,\n",
       "   1.4080514907836914]},\n",
       " 'stats': {'5': 1.1018453121185303,\n",
       "  '10': 1.034859848022461,\n",
       "  '16': 1.0056030750274658,\n",
       "  '25': 1.0002128601074218,\n",
       "  '50': 0.9777847528457642,\n",
       "  '75': 1.0755759477615356,\n",
       "  '100': 1.185999870300293,\n",
       "  '200': 1.383827543258667}}"
      ]
     },
     "execution_count": 17,
     "metadata": {},
     "output_type": "execute_result"
    }
   ],
   "source": [
    "stats = stats_for_pipeline(\n",
    "    func=run_pipeline_repartition_first,\n",
    "    partitions_list=partitions_list,\n",
    "    amount_runs=amount_runs\n",
    ")\n",
    "stats"
   ]
  },
  {
   "cell_type": "code",
   "execution_count": 18,
   "metadata": {},
   "outputs": [
    {
     "data": {
      "text/html": [
       "\n",
       "\n",
       "\n",
       "\n",
       "\n",
       "\n",
       "  <div class=\"bk-root\" id=\"1cca1b3a-eed0-40c3-9721-e5e77fe325df\" data-root-id=\"1509\"></div>\n"
      ]
     },
     "metadata": {},
     "output_type": "display_data"
    },
    {
     "data": {
      "application/javascript": [
       "(function(root) {\n",
       "  function embed_document(root) {\n",
       "    \n",
       "  var docs_json = {\"27274f5a-42eb-4b43-b559-579f3883cf10\":{\"roots\":{\"references\":[{\"attributes\":{\"below\":[{\"id\":\"1520\"}],\"center\":[{\"id\":\"1523\"},{\"id\":\"1527\"},{\"id\":\"1556\"}],\"left\":[{\"id\":\"1524\"}],\"output_backend\":\"webgl\",\"plot_height\":400,\"renderers\":[{\"id\":\"1546\"},{\"id\":\"1564\"},{\"id\":\"1583\"},{\"id\":\"1604\"},{\"id\":\"1627\"},{\"id\":\"1652\"},{\"id\":\"1679\"},{\"id\":\"1708\"}],\"sizing_mode\":\"fixed\",\"title\":{\"id\":\"1510\"},\"toolbar\":{\"id\":\"1535\"},\"x_range\":{\"id\":\"1512\"},\"x_scale\":{\"id\":\"1516\"},\"y_range\":{\"id\":\"1514\"},\"y_scale\":{\"id\":\"1518\"}},\"id\":\"1509\",\"subtype\":\"Figure\",\"type\":\"Plot\"},{\"attributes\":{\"source\":{\"id\":\"1600\"}},\"id\":\"1605\",\"type\":\"CDSView\"},{\"attributes\":{\"line_alpha\":0.1,\"line_color\":\"#2ca02c\",\"line_width\":2,\"x\":{\"field\":\"__x__values\"},\"y\":{\"field\":\"16\"}},\"id\":\"1582\",\"type\":\"Line\"},{\"attributes\":{\"line_color\":\"#ff7f0e\",\"line_width\":2,\"x\":{\"field\":\"__x__values\"},\"y\":{\"field\":\"10\"}},\"id\":\"1562\",\"type\":\"Line\"},{\"attributes\":{},\"id\":\"1618\",\"type\":\"Selection\"},{\"attributes\":{\"data\":{\"10\":{\"__ndarray__\":\"AAAAwD+V8D8AAADAwg/wPwAAAIBuw+8/AAAAQHyP8D8AAABA11HyPwAAAEBmPfE/AAAAwJ+28D8AAACAtkzvPwAAAIDNhfA/AAAAAKAL8D8=\",\"dtype\":\"float64\",\"order\":\"little\",\"shape\":[10]},\"100\":{\"__ndarray__\":\"AAAAQGHZ8j8AAADAyKryPwAAAIBDw/Q/AAAAADuz8T8AAADA0RD1PwAAAMDFkPM/AAAAQMfR8j8AAACAQCvzPwAAAMDksvE/AAAAgGF28T8=\",\"dtype\":\"float64\",\"order\":\"little\",\"shape\":[10]},\"16\":{\"__ndarray__\":\"AAAAgI0I7z8AAACAWhvwPwAAAACIZe8/AAAAAHd47z8AAAAAMjzwPwAAAAC4n+8/AAAAwKMz8D8AAADAo2zxPwAAAIAQI+8/AAAAAAKZ8D8=\",\"dtype\":\"float64\",\"order\":\"little\",\"shape\":[10]},\"200\":{\"__ndarray__\":\"AAAAwKlN9T8AAAAASRn4PwAAAACDB/U/AAAAwNqc9T8AAAAAiKz1PwAAAMCSXfU/AAAAwOOn9T8AAADAZNf0PwAAAMB+Tfk/AAAAAGGH9j8=\",\"dtype\":\"float64\",\"order\":\"little\",\"shape\":[10]},\"25\":{\"__ndarray__\":\"AAAAAJiv7j8AAAAA65HtPwAAAABMCPA/AAAAAJCU7j8AAABArovwPwAAAAAiiO8/AAAAAL8x8T8AAAAA9m3vPwAAAACQHPE/AAAAQFlA8D8=\",\"dtype\":\"float64\",\"order\":\"little\",\"shape\":[10]},\"5\":{\"__ndarray__\":\"AAAAQG1s8j8AAADAsEvwPwAAAABXcPE/AAAAwKCO9D8AAACA2z3vPwAAAEDJTPA/AAAAgJFm8D8AAAAAzwv1PwAAAACcafE/AAAAQMzM8D8=\",\"dtype\":\"float64\",\"order\":\"little\",\"shape\":[10]},\"50\":{\"__ndarray__\":\"AAAAAFu67z8AAACAwcfuPwAAAADCa+4/AAAAwGJB8D8AAACAaljuPwAAAEBiDPA/AAAAACSE7z8AAAAA24nuPwAAAIBM0+8/AAAAAAIh7z8=\",\"dtype\":\"float64\",\"order\":\"little\",\"shape\":[10]},\"75\":{\"__ndarray__\":\"AAAAgFSO8D8AAACAVJXyPwAAAEDxSvM/AAAAgLld8D8AAACAeNvwPwAAAADOUfE/AAAAgFaw8D8AAABAtmbwPwAAAEBHS/E/AAAAAKm78D8=\",\"dtype\":\"float64\",\"order\":\"little\",\"shape\":[10]},\"__x__values\":[0,1,2,3,4,5,6,7,8,9],\"__x__values_original\":[0,1,2,3,4,5,6,7,8,9]},\"selected\":{\"id\":\"1595\"},\"selection_policy\":{\"id\":\"1596\"}},\"id\":\"1579\",\"type\":\"ColumnDataSource\"},{\"attributes\":{},\"id\":\"1619\",\"type\":\"UnionRenderers\"},{\"attributes\":{\"data_source\":{\"id\":\"1600\"},\"glyph\":{\"id\":\"1602\"},\"hover_glyph\":null,\"muted_glyph\":null,\"nonselection_glyph\":{\"id\":\"1603\"},\"selection_glyph\":null,\"view\":{\"id\":\"1605\"}},\"id\":\"1604\",\"type\":\"GlyphRenderer\"},{\"attributes\":{},\"id\":\"1595\",\"type\":\"Selection\"},{\"attributes\":{\"callback\":null,\"mode\":\"vline\",\"renderers\":[{\"id\":\"1627\"}],\"tooltips\":[[\"x\",\"@__x__values_original\"],[\"50\",\"@{50}\"]]},\"id\":\"1646\",\"type\":\"HoverTool\"},{\"attributes\":{\"label\":{\"value\":\" 16\"},\"renderers\":[{\"id\":\"1583\"}]},\"id\":\"1597\",\"type\":\"LegendItem\"},{\"attributes\":{\"data_source\":{\"id\":\"1579\"},\"glyph\":{\"id\":\"1581\"},\"hover_glyph\":null,\"muted_glyph\":null,\"nonselection_glyph\":{\"id\":\"1582\"},\"selection_glyph\":null,\"view\":{\"id\":\"1584\"}},\"id\":\"1583\",\"type\":\"GlyphRenderer\"},{\"attributes\":{},\"id\":\"1596\",\"type\":\"UnionRenderers\"},{\"attributes\":{\"label\":{\"value\":\" 25\"},\"renderers\":[{\"id\":\"1604\"}]},\"id\":\"1620\",\"type\":\"LegendItem\"},{\"attributes\":{\"line_alpha\":0.1,\"line_color\":\"#d62728\",\"line_width\":2,\"x\":{\"field\":\"__x__values\"},\"y\":{\"field\":\"25\"}},\"id\":\"1603\",\"type\":\"Line\"},{\"attributes\":{\"callback\":null,\"mode\":\"vline\",\"renderers\":[{\"id\":\"1604\"}],\"tooltips\":[[\"x\",\"@__x__values_original\"],[\"25\",\"@{25}\"]]},\"id\":\"1621\",\"type\":\"HoverTool\"},{\"attributes\":{\"data\":{\"10\":{\"__ndarray__\":\"AAAAwD+V8D8AAADAwg/wPwAAAIBuw+8/AAAAQHyP8D8AAABA11HyPwAAAEBmPfE/AAAAwJ+28D8AAACAtkzvPwAAAIDNhfA/AAAAAKAL8D8=\",\"dtype\":\"float64\",\"order\":\"little\",\"shape\":[10]},\"100\":{\"__ndarray__\":\"AAAAQGHZ8j8AAADAyKryPwAAAIBDw/Q/AAAAADuz8T8AAADA0RD1PwAAAMDFkPM/AAAAQMfR8j8AAACAQCvzPwAAAMDksvE/AAAAgGF28T8=\",\"dtype\":\"float64\",\"order\":\"little\",\"shape\":[10]},\"16\":{\"__ndarray__\":\"AAAAgI0I7z8AAACAWhvwPwAAAACIZe8/AAAAAHd47z8AAAAAMjzwPwAAAAC4n+8/AAAAwKMz8D8AAADAo2zxPwAAAIAQI+8/AAAAAAKZ8D8=\",\"dtype\":\"float64\",\"order\":\"little\",\"shape\":[10]},\"200\":{\"__ndarray__\":\"AAAAwKlN9T8AAAAASRn4PwAAAACDB/U/AAAAwNqc9T8AAAAAiKz1PwAAAMCSXfU/AAAAwOOn9T8AAADAZNf0PwAAAMB+Tfk/AAAAAGGH9j8=\",\"dtype\":\"float64\",\"order\":\"little\",\"shape\":[10]},\"25\":{\"__ndarray__\":\"AAAAAJiv7j8AAAAA65HtPwAAAABMCPA/AAAAAJCU7j8AAABArovwPwAAAAAiiO8/AAAAAL8x8T8AAAAA9m3vPwAAAACQHPE/AAAAQFlA8D8=\",\"dtype\":\"float64\",\"order\":\"little\",\"shape\":[10]},\"5\":{\"__ndarray__\":\"AAAAQG1s8j8AAADAsEvwPwAAAABXcPE/AAAAwKCO9D8AAACA2z3vPwAAAEDJTPA/AAAAgJFm8D8AAAAAzwv1PwAAAACcafE/AAAAQMzM8D8=\",\"dtype\":\"float64\",\"order\":\"little\",\"shape\":[10]},\"50\":{\"__ndarray__\":\"AAAAAFu67z8AAACAwcfuPwAAAADCa+4/AAAAwGJB8D8AAACAaljuPwAAAEBiDPA/AAAAACSE7z8AAAAA24nuPwAAAIBM0+8/AAAAAAIh7z8=\",\"dtype\":\"float64\",\"order\":\"little\",\"shape\":[10]},\"75\":{\"__ndarray__\":\"AAAAgFSO8D8AAACAVJXyPwAAAEDxSvM/AAAAgLld8D8AAACAeNvwPwAAAADOUfE/AAAAgFaw8D8AAABAtmbwPwAAAEBHS/E/AAAAAKm78D8=\",\"dtype\":\"float64\",\"order\":\"little\",\"shape\":[10]},\"__x__values\":[0,1,2,3,4,5,6,7,8,9],\"__x__values_original\":[0,1,2,3,4,5,6,7,8,9]},\"selected\":{\"id\":\"1618\"},\"selection_policy\":{\"id\":\"1619\"}},\"id\":\"1600\",\"type\":\"ColumnDataSource\"},{\"attributes\":{\"line_color\":\"#2ca02c\",\"line_width\":2,\"x\":{\"field\":\"__x__values\"},\"y\":{\"field\":\"16\"}},\"id\":\"1581\",\"type\":\"Line\"},{\"attributes\":{\"source\":{\"id\":\"1579\"}},\"id\":\"1584\",\"type\":\"CDSView\"},{\"attributes\":{\"line_color\":\"#d62728\",\"line_width\":2,\"x\":{\"field\":\"__x__values\"},\"y\":{\"field\":\"25\"}},\"id\":\"1602\",\"type\":\"Line\"},{\"attributes\":{\"line_alpha\":0.1,\"line_color\":\"#ff7f0e\",\"line_width\":2,\"x\":{\"field\":\"__x__values\"},\"y\":{\"field\":\"10\"}},\"id\":\"1563\",\"type\":\"Line\"},{\"attributes\":{\"data\":{\"10\":{\"__ndarray__\":\"AAAAwD+V8D8AAADAwg/wPwAAAIBuw+8/AAAAQHyP8D8AAABA11HyPwAAAEBmPfE/AAAAwJ+28D8AAACAtkzvPwAAAIDNhfA/AAAAAKAL8D8=\",\"dtype\":\"float64\",\"order\":\"little\",\"shape\":[10]},\"100\":{\"__ndarray__\":\"AAAAQGHZ8j8AAADAyKryPwAAAIBDw/Q/AAAAADuz8T8AAADA0RD1PwAAAMDFkPM/AAAAQMfR8j8AAACAQCvzPwAAAMDksvE/AAAAgGF28T8=\",\"dtype\":\"float64\",\"order\":\"little\",\"shape\":[10]},\"16\":{\"__ndarray__\":\"AAAAgI0I7z8AAACAWhvwPwAAAACIZe8/AAAAAHd47z8AAAAAMjzwPwAAAAC4n+8/AAAAwKMz8D8AAADAo2zxPwAAAIAQI+8/AAAAAAKZ8D8=\",\"dtype\":\"float64\",\"order\":\"little\",\"shape\":[10]},\"200\":{\"__ndarray__\":\"AAAAwKlN9T8AAAAASRn4PwAAAACDB/U/AAAAwNqc9T8AAAAAiKz1PwAAAMCSXfU/AAAAwOOn9T8AAADAZNf0PwAAAMB+Tfk/AAAAAGGH9j8=\",\"dtype\":\"float64\",\"order\":\"little\",\"shape\":[10]},\"25\":{\"__ndarray__\":\"AAAAAJiv7j8AAAAA65HtPwAAAABMCPA/AAAAAJCU7j8AAABArovwPwAAAAAiiO8/AAAAAL8x8T8AAAAA9m3vPwAAAACQHPE/AAAAQFlA8D8=\",\"dtype\":\"float64\",\"order\":\"little\",\"shape\":[10]},\"5\":{\"__ndarray__\":\"AAAAQG1s8j8AAADAsEvwPwAAAABXcPE/AAAAwKCO9D8AAACA2z3vPwAAAEDJTPA/AAAAgJFm8D8AAAAAzwv1PwAAAACcafE/AAAAQMzM8D8=\",\"dtype\":\"float64\",\"order\":\"little\",\"shape\":[10]},\"50\":{\"__ndarray__\":\"AAAAAFu67z8AAACAwcfuPwAAAADCa+4/AAAAwGJB8D8AAACAaljuPwAAAEBiDPA/AAAAACSE7z8AAAAA24nuPwAAAIBM0+8/AAAAAAIh7z8=\",\"dtype\":\"float64\",\"order\":\"little\",\"shape\":[10]},\"75\":{\"__ndarray__\":\"AAAAgFSO8D8AAACAVJXyPwAAAEDxSvM/AAAAgLld8D8AAACAeNvwPwAAAADOUfE/AAAAgFaw8D8AAABAtmbwPwAAAEBHS/E/AAAAAKm78D8=\",\"dtype\":\"float64\",\"order\":\"little\",\"shape\":[10]},\"__x__values\":[0,1,2,3,4,5,6,7,8,9],\"__x__values_original\":[0,1,2,3,4,5,6,7,8,9]},\"selected\":{\"id\":\"1699\"},\"selection_policy\":{\"id\":\"1700\"}},\"id\":\"1675\",\"type\":\"ColumnDataSource\"},{\"attributes\":{},\"id\":\"1555\",\"type\":\"UnionRenderers\"},{\"attributes\":{},\"id\":\"1518\",\"type\":\"LinearScale\"},{\"attributes\":{\"data\":{\"10\":{\"__ndarray__\":\"AAAAwD+V8D8AAADAwg/wPwAAAIBuw+8/AAAAQHyP8D8AAABA11HyPwAAAEBmPfE/AAAAwJ+28D8AAACAtkzvPwAAAIDNhfA/AAAAAKAL8D8=\",\"dtype\":\"float64\",\"order\":\"little\",\"shape\":[10]},\"100\":{\"__ndarray__\":\"AAAAQGHZ8j8AAADAyKryPwAAAIBDw/Q/AAAAADuz8T8AAADA0RD1PwAAAMDFkPM/AAAAQMfR8j8AAACAQCvzPwAAAMDksvE/AAAAgGF28T8=\",\"dtype\":\"float64\",\"order\":\"little\",\"shape\":[10]},\"16\":{\"__ndarray__\":\"AAAAgI0I7z8AAACAWhvwPwAAAACIZe8/AAAAAHd47z8AAAAAMjzwPwAAAAC4n+8/AAAAwKMz8D8AAADAo2zxPwAAAIAQI+8/AAAAAAKZ8D8=\",\"dtype\":\"float64\",\"order\":\"little\",\"shape\":[10]},\"200\":{\"__ndarray__\":\"AAAAwKlN9T8AAAAASRn4PwAAAACDB/U/AAAAwNqc9T8AAAAAiKz1PwAAAMCSXfU/AAAAwOOn9T8AAADAZNf0PwAAAMB+Tfk/AAAAAGGH9j8=\",\"dtype\":\"float64\",\"order\":\"little\",\"shape\":[10]},\"25\":{\"__ndarray__\":\"AAAAAJiv7j8AAAAA65HtPwAAAABMCPA/AAAAAJCU7j8AAABArovwPwAAAAAiiO8/AAAAAL8x8T8AAAAA9m3vPwAAAACQHPE/AAAAQFlA8D8=\",\"dtype\":\"float64\",\"order\":\"little\",\"shape\":[10]},\"5\":{\"__ndarray__\":\"AAAAQG1s8j8AAADAsEvwPwAAAABXcPE/AAAAwKCO9D8AAACA2z3vPwAAAEDJTPA/AAAAgJFm8D8AAAAAzwv1PwAAAACcafE/AAAAQMzM8D8=\",\"dtype\":\"float64\",\"order\":\"little\",\"shape\":[10]},\"50\":{\"__ndarray__\":\"AAAAAFu67z8AAACAwcfuPwAAAADCa+4/AAAAwGJB8D8AAACAaljuPwAAAEBiDPA/AAAAACSE7z8AAAAA24nuPwAAAIBM0+8/AAAAAAIh7z8=\",\"dtype\":\"float64\",\"order\":\"little\",\"shape\":[10]},\"75\":{\"__ndarray__\":\"AAAAgFSO8D8AAACAVJXyPwAAAEDxSvM/AAAAgLld8D8AAACAeNvwPwAAAADOUfE/AAAAgFaw8D8AAABAtmbwPwAAAEBHS/E/AAAAAKm78D8=\",\"dtype\":\"float64\",\"order\":\"little\",\"shape\":[10]},\"__x__values\":[0,1,2,3,4,5,6,7,8,9],\"__x__values_original\":[0,1,2,3,4,5,6,7,8,9]},\"selected\":{\"id\":\"1554\"},\"selection_policy\":{\"id\":\"1555\"}},\"id\":\"1542\",\"type\":\"ColumnDataSource\"},{\"attributes\":{\"source\":{\"id\":\"1675\"}},\"id\":\"1680\",\"type\":\"CDSView\"},{\"attributes\":{\"axis\":{\"id\":\"1520\"},\"ticker\":null},\"id\":\"1523\",\"type\":\"Grid\"},{\"attributes\":{},\"id\":\"1575\",\"type\":\"UnionRenderers\"},{\"attributes\":{\"label\":{\"value\":\" 200\"},\"renderers\":[{\"id\":\"1708\"}]},\"id\":\"1732\",\"type\":\"LegendItem\"},{\"attributes\":{\"data_source\":{\"id\":\"1704\"},\"glyph\":{\"id\":\"1706\"},\"hover_glyph\":null,\"muted_glyph\":null,\"nonselection_glyph\":{\"id\":\"1707\"},\"selection_glyph\":null,\"view\":{\"id\":\"1709\"}},\"id\":\"1708\",\"type\":\"GlyphRenderer\"},{\"attributes\":{\"callback\":null,\"mode\":\"vline\",\"renderers\":[{\"id\":\"1546\"}],\"tooltips\":[[\"x\",\"@__x__values_original\"],[\"5\",\"@{5}\"]]},\"id\":\"1558\",\"type\":\"HoverTool\"},{\"attributes\":{\"line_alpha\":0.1,\"line_color\":\"#e377c2\",\"line_width\":2,\"x\":{\"field\":\"__x__values\"},\"y\":{\"field\":\"100\"}},\"id\":\"1678\",\"type\":\"Line\"},{\"attributes\":{},\"id\":\"1574\",\"type\":\"Selection\"},{\"attributes\":{\"bottom_units\":\"screen\",\"fill_alpha\":0.5,\"fill_color\":\"lightgrey\",\"left_units\":\"screen\",\"level\":\"overlay\",\"line_alpha\":1.0,\"line_color\":\"black\",\"line_dash\":[4,4],\"line_width\":2,\"right_units\":\"screen\",\"top_units\":\"screen\"},\"id\":\"1534\",\"type\":\"BoxAnnotation\"},{\"attributes\":{},\"id\":\"1529\",\"type\":\"WheelZoomTool\"},{\"attributes\":{\"overlay\":{\"id\":\"1534\"}},\"id\":\"1530\",\"type\":\"BoxZoomTool\"},{\"attributes\":{\"line_alpha\":0.1,\"line_color\":\"#7f7f7f\",\"line_width\":2,\"x\":{\"field\":\"__x__values\"},\"y\":{\"field\":\"200\"}},\"id\":\"1707\",\"type\":\"Line\"},{\"attributes\":{\"callback\":null,\"mode\":\"vline\",\"renderers\":[{\"id\":\"1564\"}],\"tooltips\":[[\"x\",\"@__x__values_original\"],[\"10\",\"@{10}\"]]},\"id\":\"1577\",\"type\":\"HoverTool\"},{\"attributes\":{\"callback\":null,\"mode\":\"vline\",\"renderers\":[{\"id\":\"1708\"}],\"tooltips\":[[\"x\",\"@__x__values_original\"],[\"200\",\"@{200}\"]]},\"id\":\"1733\",\"type\":\"HoverTool\"},{\"attributes\":{\"line_color\":\"#9467bd\",\"line_width\":2,\"x\":{\"field\":\"__x__values\"},\"y\":{\"field\":\"50\"}},\"id\":\"1625\",\"type\":\"Line\"},{\"attributes\":{\"callback\":null,\"mode\":\"vline\",\"renderers\":[{\"id\":\"1583\"}],\"tooltips\":[[\"x\",\"@__x__values_original\"],[\"16\",\"@{16}\"]]},\"id\":\"1598\",\"type\":\"HoverTool\"},{\"attributes\":{},\"id\":\"1644\",\"type\":\"UnionRenderers\"},{\"attributes\":{},\"id\":\"1670\",\"type\":\"Selection\"},{\"attributes\":{},\"id\":\"1554\",\"type\":\"Selection\"},{\"attributes\":{\"label\":{\"value\":\" 75\"},\"renderers\":[{\"id\":\"1652\"}]},\"id\":\"1672\",\"type\":\"LegendItem\"},{\"attributes\":{},\"id\":\"1516\",\"type\":\"LinearScale\"},{\"attributes\":{\"line_alpha\":0.1,\"line_color\":\"#1f77b4\",\"line_width\":2,\"x\":{\"field\":\"__x__values\"},\"y\":{\"field\":\"5\"}},\"id\":\"1545\",\"type\":\"Line\"},{\"attributes\":{\"data\":{\"10\":{\"__ndarray__\":\"AAAAwD+V8D8AAADAwg/wPwAAAIBuw+8/AAAAQHyP8D8AAABA11HyPwAAAEBmPfE/AAAAwJ+28D8AAACAtkzvPwAAAIDNhfA/AAAAAKAL8D8=\",\"dtype\":\"float64\",\"order\":\"little\",\"shape\":[10]},\"100\":{\"__ndarray__\":\"AAAAQGHZ8j8AAADAyKryPwAAAIBDw/Q/AAAAADuz8T8AAADA0RD1PwAAAMDFkPM/AAAAQMfR8j8AAACAQCvzPwAAAMDksvE/AAAAgGF28T8=\",\"dtype\":\"float64\",\"order\":\"little\",\"shape\":[10]},\"16\":{\"__ndarray__\":\"AAAAgI0I7z8AAACAWhvwPwAAAACIZe8/AAAAAHd47z8AAAAAMjzwPwAAAAC4n+8/AAAAwKMz8D8AAADAo2zxPwAAAIAQI+8/AAAAAAKZ8D8=\",\"dtype\":\"float64\",\"order\":\"little\",\"shape\":[10]},\"200\":{\"__ndarray__\":\"AAAAwKlN9T8AAAAASRn4PwAAAACDB/U/AAAAwNqc9T8AAAAAiKz1PwAAAMCSXfU/AAAAwOOn9T8AAADAZNf0PwAAAMB+Tfk/AAAAAGGH9j8=\",\"dtype\":\"float64\",\"order\":\"little\",\"shape\":[10]},\"25\":{\"__ndarray__\":\"AAAAAJiv7j8AAAAA65HtPwAAAABMCPA/AAAAAJCU7j8AAABArovwPwAAAAAiiO8/AAAAAL8x8T8AAAAA9m3vPwAAAACQHPE/AAAAQFlA8D8=\",\"dtype\":\"float64\",\"order\":\"little\",\"shape\":[10]},\"5\":{\"__ndarray__\":\"AAAAQG1s8j8AAADAsEvwPwAAAABXcPE/AAAAwKCO9D8AAACA2z3vPwAAAEDJTPA/AAAAgJFm8D8AAAAAzwv1PwAAAACcafE/AAAAQMzM8D8=\",\"dtype\":\"float64\",\"order\":\"little\",\"shape\":[10]},\"50\":{\"__ndarray__\":\"AAAAAFu67z8AAACAwcfuPwAAAADCa+4/AAAAwGJB8D8AAACAaljuPwAAAEBiDPA/AAAAACSE7z8AAAAA24nuPwAAAIBM0+8/AAAAAAIh7z8=\",\"dtype\":\"float64\",\"order\":\"little\",\"shape\":[10]},\"75\":{\"__ndarray__\":\"AAAAgFSO8D8AAACAVJXyPwAAAEDxSvM/AAAAgLld8D8AAACAeNvwPwAAAADOUfE/AAAAgFaw8D8AAABAtmbwPwAAAEBHS/E/AAAAAKm78D8=\",\"dtype\":\"float64\",\"order\":\"little\",\"shape\":[10]},\"__x__values\":[0,1,2,3,4,5,6,7,8,9],\"__x__values_original\":[0,1,2,3,4,5,6,7,8,9]},\"selected\":{\"id\":\"1670\"},\"selection_policy\":{\"id\":\"1671\"}},\"id\":\"1648\",\"type\":\"ColumnDataSource\"},{\"attributes\":{\"label\":{\"value\":\" 10\"},\"renderers\":[{\"id\":\"1564\"}]},\"id\":\"1576\",\"type\":\"LegendItem\"},{\"attributes\":{\"line_color\":\"#e377c2\",\"line_width\":2,\"x\":{\"field\":\"__x__values\"},\"y\":{\"field\":\"100\"}},\"id\":\"1677\",\"type\":\"Line\"},{\"attributes\":{},\"id\":\"1533\",\"type\":\"HelpTool\"},{\"attributes\":{\"line_color\":\"#8c564b\",\"line_width\":2,\"x\":{\"field\":\"__x__values\"},\"y\":{\"field\":\"75\"}},\"id\":\"1650\",\"type\":\"Line\"},{\"attributes\":{\"line_color\":\"#1f77b4\",\"line_width\":2,\"x\":{\"field\":\"__x__values\"},\"y\":{\"field\":\"5\"}},\"id\":\"1544\",\"type\":\"Line\"},{\"attributes\":{\"label\":{\"value\":\" 100\"},\"renderers\":[{\"id\":\"1679\"}]},\"id\":\"1701\",\"type\":\"LegendItem\"},{\"attributes\":{\"source\":{\"id\":\"1623\"}},\"id\":\"1628\",\"type\":\"CDSView\"},{\"attributes\":{\"text\":\"\"},\"id\":\"1510\",\"type\":\"Title\"},{\"attributes\":{\"data_source\":{\"id\":\"1542\"},\"glyph\":{\"id\":\"1544\"},\"hover_glyph\":null,\"muted_glyph\":null,\"nonselection_glyph\":{\"id\":\"1545\"},\"selection_glyph\":null,\"view\":{\"id\":\"1547\"}},\"id\":\"1546\",\"type\":\"GlyphRenderer\"},{\"attributes\":{\"source\":{\"id\":\"1648\"}},\"id\":\"1653\",\"type\":\"CDSView\"},{\"attributes\":{\"line_color\":\"#7f7f7f\",\"line_width\":2,\"x\":{\"field\":\"__x__values\"},\"y\":{\"field\":\"200\"}},\"id\":\"1706\",\"type\":\"Line\"},{\"attributes\":{\"line_alpha\":0.1,\"line_color\":\"#8c564b\",\"line_width\":2,\"x\":{\"field\":\"__x__values\"},\"y\":{\"field\":\"75\"}},\"id\":\"1651\",\"type\":\"Line\"},{\"attributes\":{},\"id\":\"1671\",\"type\":\"UnionRenderers\"},{\"attributes\":{\"source\":{\"id\":\"1542\"}},\"id\":\"1547\",\"type\":\"CDSView\"},{\"attributes\":{\"data_source\":{\"id\":\"1675\"},\"glyph\":{\"id\":\"1677\"},\"hover_glyph\":null,\"muted_glyph\":null,\"nonselection_glyph\":{\"id\":\"1678\"},\"selection_glyph\":null,\"view\":{\"id\":\"1680\"}},\"id\":\"1679\",\"type\":\"GlyphRenderer\"},{\"attributes\":{\"click_policy\":\"hide\",\"items\":[{\"id\":\"1557\"},{\"id\":\"1576\"},{\"id\":\"1597\"},{\"id\":\"1620\"},{\"id\":\"1645\"},{\"id\":\"1672\"},{\"id\":\"1701\"},{\"id\":\"1732\"}]},\"id\":\"1556\",\"type\":\"Legend\"},{\"attributes\":{\"ticks\":[0,1,2,3,4,5,6,7,8,9]},\"id\":\"1735\",\"type\":\"FixedTicker\"},{\"attributes\":{},\"id\":\"1552\",\"type\":\"BasicTickFormatter\"},{\"attributes\":{},\"id\":\"1643\",\"type\":\"Selection\"},{\"attributes\":{},\"id\":\"1514\",\"type\":\"DataRange1d\"},{\"attributes\":{},\"id\":\"1528\",\"type\":\"PanTool\"},{\"attributes\":{\"callback\":null,\"mode\":\"vline\",\"renderers\":[{\"id\":\"1652\"}],\"tooltips\":[[\"x\",\"@__x__values_original\"],[\"75\",\"@{75}\"]]},\"id\":\"1673\",\"type\":\"HoverTool\"},{\"attributes\":{},\"id\":\"1699\",\"type\":\"Selection\"},{\"attributes\":{\"formatter\":{\"id\":\"1552\"},\"ticker\":{\"id\":\"1735\"}},\"id\":\"1520\",\"type\":\"LinearAxis\"},{\"attributes\":{},\"id\":\"1525\",\"type\":\"BasicTicker\"},{\"attributes\":{},\"id\":\"1730\",\"type\":\"Selection\"},{\"attributes\":{\"data\":{\"10\":{\"__ndarray__\":\"AAAAwD+V8D8AAADAwg/wPwAAAIBuw+8/AAAAQHyP8D8AAABA11HyPwAAAEBmPfE/AAAAwJ+28D8AAACAtkzvPwAAAIDNhfA/AAAAAKAL8D8=\",\"dtype\":\"float64\",\"order\":\"little\",\"shape\":[10]},\"100\":{\"__ndarray__\":\"AAAAQGHZ8j8AAADAyKryPwAAAIBDw/Q/AAAAADuz8T8AAADA0RD1PwAAAMDFkPM/AAAAQMfR8j8AAACAQCvzPwAAAMDksvE/AAAAgGF28T8=\",\"dtype\":\"float64\",\"order\":\"little\",\"shape\":[10]},\"16\":{\"__ndarray__\":\"AAAAgI0I7z8AAACAWhvwPwAAAACIZe8/AAAAAHd47z8AAAAAMjzwPwAAAAC4n+8/AAAAwKMz8D8AAADAo2zxPwAAAIAQI+8/AAAAAAKZ8D8=\",\"dtype\":\"float64\",\"order\":\"little\",\"shape\":[10]},\"200\":{\"__ndarray__\":\"AAAAwKlN9T8AAAAASRn4PwAAAACDB/U/AAAAwNqc9T8AAAAAiKz1PwAAAMCSXfU/AAAAwOOn9T8AAADAZNf0PwAAAMB+Tfk/AAAAAGGH9j8=\",\"dtype\":\"float64\",\"order\":\"little\",\"shape\":[10]},\"25\":{\"__ndarray__\":\"AAAAAJiv7j8AAAAA65HtPwAAAABMCPA/AAAAAJCU7j8AAABArovwPwAAAAAiiO8/AAAAAL8x8T8AAAAA9m3vPwAAAACQHPE/AAAAQFlA8D8=\",\"dtype\":\"float64\",\"order\":\"little\",\"shape\":[10]},\"5\":{\"__ndarray__\":\"AAAAQG1s8j8AAADAsEvwPwAAAABXcPE/AAAAwKCO9D8AAACA2z3vPwAAAEDJTPA/AAAAgJFm8D8AAAAAzwv1PwAAAACcafE/AAAAQMzM8D8=\",\"dtype\":\"float64\",\"order\":\"little\",\"shape\":[10]},\"50\":{\"__ndarray__\":\"AAAAAFu67z8AAACAwcfuPwAAAADCa+4/AAAAwGJB8D8AAACAaljuPwAAAEBiDPA/AAAAACSE7z8AAAAA24nuPwAAAIBM0+8/AAAAAAIh7z8=\",\"dtype\":\"float64\",\"order\":\"little\",\"shape\":[10]},\"75\":{\"__ndarray__\":\"AAAAgFSO8D8AAACAVJXyPwAAAEDxSvM/AAAAgLld8D8AAACAeNvwPwAAAADOUfE/AAAAgFaw8D8AAABAtmbwPwAAAEBHS/E/AAAAAKm78D8=\",\"dtype\":\"float64\",\"order\":\"little\",\"shape\":[10]},\"__x__values\":[0,1,2,3,4,5,6,7,8,9],\"__x__values_original\":[0,1,2,3,4,5,6,7,8,9]},\"selected\":{\"id\":\"1574\"},\"selection_policy\":{\"id\":\"1575\"}},\"id\":\"1560\",\"type\":\"ColumnDataSource\"},{\"attributes\":{},\"id\":\"1532\",\"type\":\"ResetTool\"},{\"attributes\":{\"axis\":{\"id\":\"1524\"},\"dimension\":1,\"ticker\":null},\"id\":\"1527\",\"type\":\"Grid\"},{\"attributes\":{\"data_source\":{\"id\":\"1648\"},\"glyph\":{\"id\":\"1650\"},\"hover_glyph\":null,\"muted_glyph\":null,\"nonselection_glyph\":{\"id\":\"1651\"},\"selection_glyph\":null,\"view\":{\"id\":\"1653\"}},\"id\":\"1652\",\"type\":\"GlyphRenderer\"},{\"attributes\":{\"label\":{\"value\":\" 5\"},\"renderers\":[{\"id\":\"1546\"}]},\"id\":\"1557\",\"type\":\"LegendItem\"},{\"attributes\":{\"data_source\":{\"id\":\"1560\"},\"glyph\":{\"id\":\"1562\"},\"hover_glyph\":null,\"muted_glyph\":null,\"nonselection_glyph\":{\"id\":\"1563\"},\"selection_glyph\":null,\"view\":{\"id\":\"1565\"}},\"id\":\"1564\",\"type\":\"GlyphRenderer\"},{\"attributes\":{\"formatter\":{\"id\":\"1550\"},\"ticker\":{\"id\":\"1525\"}},\"id\":\"1524\",\"type\":\"LinearAxis\"},{\"attributes\":{},\"id\":\"1700\",\"type\":\"UnionRenderers\"},{\"attributes\":{\"line_alpha\":0.1,\"line_color\":\"#9467bd\",\"line_width\":2,\"x\":{\"field\":\"__x__values\"},\"y\":{\"field\":\"50\"}},\"id\":\"1626\",\"type\":\"Line\"},{\"attributes\":{\"data\":{\"10\":{\"__ndarray__\":\"AAAAwD+V8D8AAADAwg/wPwAAAIBuw+8/AAAAQHyP8D8AAABA11HyPwAAAEBmPfE/AAAAwJ+28D8AAACAtkzvPwAAAIDNhfA/AAAAAKAL8D8=\",\"dtype\":\"float64\",\"order\":\"little\",\"shape\":[10]},\"100\":{\"__ndarray__\":\"AAAAQGHZ8j8AAADAyKryPwAAAIBDw/Q/AAAAADuz8T8AAADA0RD1PwAAAMDFkPM/AAAAQMfR8j8AAACAQCvzPwAAAMDksvE/AAAAgGF28T8=\",\"dtype\":\"float64\",\"order\":\"little\",\"shape\":[10]},\"16\":{\"__ndarray__\":\"AAAAgI0I7z8AAACAWhvwPwAAAACIZe8/AAAAAHd47z8AAAAAMjzwPwAAAAC4n+8/AAAAwKMz8D8AAADAo2zxPwAAAIAQI+8/AAAAAAKZ8D8=\",\"dtype\":\"float64\",\"order\":\"little\",\"shape\":[10]},\"200\":{\"__ndarray__\":\"AAAAwKlN9T8AAAAASRn4PwAAAACDB/U/AAAAwNqc9T8AAAAAiKz1PwAAAMCSXfU/AAAAwOOn9T8AAADAZNf0PwAAAMB+Tfk/AAAAAGGH9j8=\",\"dtype\":\"float64\",\"order\":\"little\",\"shape\":[10]},\"25\":{\"__ndarray__\":\"AAAAAJiv7j8AAAAA65HtPwAAAABMCPA/AAAAAJCU7j8AAABArovwPwAAAAAiiO8/AAAAAL8x8T8AAAAA9m3vPwAAAACQHPE/AAAAQFlA8D8=\",\"dtype\":\"float64\",\"order\":\"little\",\"shape\":[10]},\"5\":{\"__ndarray__\":\"AAAAQG1s8j8AAADAsEvwPwAAAABXcPE/AAAAwKCO9D8AAACA2z3vPwAAAEDJTPA/AAAAgJFm8D8AAAAAzwv1PwAAAACcafE/AAAAQMzM8D8=\",\"dtype\":\"float64\",\"order\":\"little\",\"shape\":[10]},\"50\":{\"__ndarray__\":\"AAAAAFu67z8AAACAwcfuPwAAAADCa+4/AAAAwGJB8D8AAACAaljuPwAAAEBiDPA/AAAAACSE7z8AAAAA24nuPwAAAIBM0+8/AAAAAAIh7z8=\",\"dtype\":\"float64\",\"order\":\"little\",\"shape\":[10]},\"75\":{\"__ndarray__\":\"AAAAgFSO8D8AAACAVJXyPwAAAEDxSvM/AAAAgLld8D8AAACAeNvwPwAAAADOUfE/AAAAgFaw8D8AAABAtmbwPwAAAEBHS/E/AAAAAKm78D8=\",\"dtype\":\"float64\",\"order\":\"little\",\"shape\":[10]},\"__x__values\":[0,1,2,3,4,5,6,7,8,9],\"__x__values_original\":[0,1,2,3,4,5,6,7,8,9]},\"selected\":{\"id\":\"1730\"},\"selection_policy\":{\"id\":\"1731\"}},\"id\":\"1704\",\"type\":\"ColumnDataSource\"},{\"attributes\":{\"active_drag\":\"auto\",\"active_inspect\":\"auto\",\"active_multi\":null,\"active_scroll\":{\"id\":\"1529\"},\"active_tap\":\"auto\",\"tools\":[{\"id\":\"1528\"},{\"id\":\"1529\"},{\"id\":\"1530\"},{\"id\":\"1531\"},{\"id\":\"1532\"},{\"id\":\"1533\"},{\"id\":\"1558\"},{\"id\":\"1577\"},{\"id\":\"1598\"},{\"id\":\"1621\"},{\"id\":\"1646\"},{\"id\":\"1673\"},{\"id\":\"1702\"},{\"id\":\"1733\"}]},\"id\":\"1535\",\"type\":\"Toolbar\"},{\"attributes\":{\"data_source\":{\"id\":\"1623\"},\"glyph\":{\"id\":\"1625\"},\"hover_glyph\":null,\"muted_glyph\":null,\"nonselection_glyph\":{\"id\":\"1626\"},\"selection_glyph\":null,\"view\":{\"id\":\"1628\"}},\"id\":\"1627\",\"type\":\"GlyphRenderer\"},{\"attributes\":{\"source\":{\"id\":\"1560\"}},\"id\":\"1565\",\"type\":\"CDSView\"},{\"attributes\":{},\"id\":\"1550\",\"type\":\"BasicTickFormatter\"},{\"attributes\":{},\"id\":\"1531\",\"type\":\"SaveTool\"},{\"attributes\":{},\"id\":\"1512\",\"type\":\"DataRange1d\"},{\"attributes\":{\"data\":{\"10\":{\"__ndarray__\":\"AAAAwD+V8D8AAADAwg/wPwAAAIBuw+8/AAAAQHyP8D8AAABA11HyPwAAAEBmPfE/AAAAwJ+28D8AAACAtkzvPwAAAIDNhfA/AAAAAKAL8D8=\",\"dtype\":\"float64\",\"order\":\"little\",\"shape\":[10]},\"100\":{\"__ndarray__\":\"AAAAQGHZ8j8AAADAyKryPwAAAIBDw/Q/AAAAADuz8T8AAADA0RD1PwAAAMDFkPM/AAAAQMfR8j8AAACAQCvzPwAAAMDksvE/AAAAgGF28T8=\",\"dtype\":\"float64\",\"order\":\"little\",\"shape\":[10]},\"16\":{\"__ndarray__\":\"AAAAgI0I7z8AAACAWhvwPwAAAACIZe8/AAAAAHd47z8AAAAAMjzwPwAAAAC4n+8/AAAAwKMz8D8AAADAo2zxPwAAAIAQI+8/AAAAAAKZ8D8=\",\"dtype\":\"float64\",\"order\":\"little\",\"shape\":[10]},\"200\":{\"__ndarray__\":\"AAAAwKlN9T8AAAAASRn4PwAAAACDB/U/AAAAwNqc9T8AAAAAiKz1PwAAAMCSXfU/AAAAwOOn9T8AAADAZNf0PwAAAMB+Tfk/AAAAAGGH9j8=\",\"dtype\":\"float64\",\"order\":\"little\",\"shape\":[10]},\"25\":{\"__ndarray__\":\"AAAAAJiv7j8AAAAA65HtPwAAAABMCPA/AAAAAJCU7j8AAABArovwPwAAAAAiiO8/AAAAAL8x8T8AAAAA9m3vPwAAAACQHPE/AAAAQFlA8D8=\",\"dtype\":\"float64\",\"order\":\"little\",\"shape\":[10]},\"5\":{\"__ndarray__\":\"AAAAQG1s8j8AAADAsEvwPwAAAABXcPE/AAAAwKCO9D8AAACA2z3vPwAAAEDJTPA/AAAAgJFm8D8AAAAAzwv1PwAAAACcafE/AAAAQMzM8D8=\",\"dtype\":\"float64\",\"order\":\"little\",\"shape\":[10]},\"50\":{\"__ndarray__\":\"AAAAAFu67z8AAACAwcfuPwAAAADCa+4/AAAAwGJB8D8AAACAaljuPwAAAEBiDPA/AAAAACSE7z8AAAAA24nuPwAAAIBM0+8/AAAAAAIh7z8=\",\"dtype\":\"float64\",\"order\":\"little\",\"shape\":[10]},\"75\":{\"__ndarray__\":\"AAAAgFSO8D8AAACAVJXyPwAAAEDxSvM/AAAAgLld8D8AAACAeNvwPwAAAADOUfE/AAAAgFaw8D8AAABAtmbwPwAAAEBHS/E/AAAAAKm78D8=\",\"dtype\":\"float64\",\"order\":\"little\",\"shape\":[10]},\"__x__values\":[0,1,2,3,4,5,6,7,8,9],\"__x__values_original\":[0,1,2,3,4,5,6,7,8,9]},\"selected\":{\"id\":\"1643\"},\"selection_policy\":{\"id\":\"1644\"}},\"id\":\"1623\",\"type\":\"ColumnDataSource\"},{\"attributes\":{},\"id\":\"1731\",\"type\":\"UnionRenderers\"},{\"attributes\":{\"source\":{\"id\":\"1704\"}},\"id\":\"1709\",\"type\":\"CDSView\"},{\"attributes\":{\"callback\":null,\"mode\":\"vline\",\"renderers\":[{\"id\":\"1679\"}],\"tooltips\":[[\"x\",\"@__x__values_original\"],[\"100\",\"@{100}\"]]},\"id\":\"1702\",\"type\":\"HoverTool\"},{\"attributes\":{\"label\":{\"value\":\" 50\"},\"renderers\":[{\"id\":\"1627\"}]},\"id\":\"1645\",\"type\":\"LegendItem\"}],\"root_ids\":[\"1509\"]},\"title\":\"Bokeh Application\",\"version\":\"2.2.3\"}};\n",
       "  var render_items = [{\"docid\":\"27274f5a-42eb-4b43-b559-579f3883cf10\",\"root_ids\":[\"1509\"],\"roots\":{\"1509\":\"1cca1b3a-eed0-40c3-9721-e5e77fe325df\"}}];\n",
       "  root.Bokeh.embed.embed_items_notebook(docs_json, render_items);\n",
       "\n",
       "  }\n",
       "  if (root.Bokeh !== undefined) {\n",
       "    embed_document(root);\n",
       "  } else {\n",
       "    var attempts = 0;\n",
       "    var timer = setInterval(function(root) {\n",
       "      if (root.Bokeh !== undefined) {\n",
       "        clearInterval(timer);\n",
       "        embed_document(root);\n",
       "      } else {\n",
       "        attempts++;\n",
       "        if (attempts > 100) {\n",
       "          clearInterval(timer);\n",
       "          console.log(\"Bokeh: ERROR: Unable to run BokehJS code because BokehJS library is missing\");\n",
       "        }\n",
       "      }\n",
       "    }, 10, root)\n",
       "  }\n",
       "})(window);"
      ],
      "application/vnd.bokehjs_exec.v0+json": ""
     },
     "metadata": {
      "application/vnd.bokehjs_exec.v0+json": {
       "id": "1509"
      }
     },
     "output_type": "display_data"
    },
    {
     "data": {
      "text/html": [
       "<div style=\"display: table;\"><div style=\"display: table-row;\"><div style=\"display: table-cell;\"><b title=\"bokeh.plotting.figure.Figure\">Figure</b>(</div><div style=\"display: table-cell;\">id&nbsp;=&nbsp;'1509', <span id=\"1891\" style=\"cursor: pointer;\">&hellip;)</span></div></div><div class=\"1890\" style=\"display: none;\"><div style=\"display: table-cell;\"></div><div style=\"display: table-cell;\">above&nbsp;=&nbsp;[],</div></div><div class=\"1890\" style=\"display: none;\"><div style=\"display: table-cell;\"></div><div style=\"display: table-cell;\">align&nbsp;=&nbsp;'start',</div></div><div class=\"1890\" style=\"display: none;\"><div style=\"display: table-cell;\"></div><div style=\"display: table-cell;\">aspect_ratio&nbsp;=&nbsp;None,</div></div><div class=\"1890\" style=\"display: none;\"><div style=\"display: table-cell;\"></div><div style=\"display: table-cell;\">aspect_scale&nbsp;=&nbsp;1,</div></div><div class=\"1890\" style=\"display: none;\"><div style=\"display: table-cell;\"></div><div style=\"display: table-cell;\">background&nbsp;=&nbsp;None,</div></div><div class=\"1890\" style=\"display: none;\"><div style=\"display: table-cell;\"></div><div style=\"display: table-cell;\">background_fill_alpha&nbsp;=&nbsp;1.0,</div></div><div class=\"1890\" style=\"display: none;\"><div style=\"display: table-cell;\"></div><div style=\"display: table-cell;\">background_fill_color&nbsp;=&nbsp;'#ffffff',</div></div><div class=\"1890\" style=\"display: none;\"><div style=\"display: table-cell;\"></div><div style=\"display: table-cell;\">below&nbsp;=&nbsp;[LinearAxis(id='1520', ...)],</div></div><div class=\"1890\" style=\"display: none;\"><div style=\"display: table-cell;\"></div><div style=\"display: table-cell;\">border_fill_alpha&nbsp;=&nbsp;1.0,</div></div><div class=\"1890\" style=\"display: none;\"><div style=\"display: table-cell;\"></div><div style=\"display: table-cell;\">border_fill_color&nbsp;=&nbsp;'#ffffff',</div></div><div class=\"1890\" style=\"display: none;\"><div style=\"display: table-cell;\"></div><div style=\"display: table-cell;\">center&nbsp;=&nbsp;[Grid(id='1523', ...), Grid(id='1527', ...), Legend(id='1556', ...)],</div></div><div class=\"1890\" style=\"display: none;\"><div style=\"display: table-cell;\"></div><div style=\"display: table-cell;\">css_classes&nbsp;=&nbsp;[],</div></div><div class=\"1890\" style=\"display: none;\"><div style=\"display: table-cell;\"></div><div style=\"display: table-cell;\">disabled&nbsp;=&nbsp;False,</div></div><div class=\"1890\" style=\"display: none;\"><div style=\"display: table-cell;\"></div><div style=\"display: table-cell;\">extra_x_ranges&nbsp;=&nbsp;{},</div></div><div class=\"1890\" style=\"display: none;\"><div style=\"display: table-cell;\"></div><div style=\"display: table-cell;\">extra_y_ranges&nbsp;=&nbsp;{},</div></div><div class=\"1890\" style=\"display: none;\"><div style=\"display: table-cell;\"></div><div style=\"display: table-cell;\">frame_height&nbsp;=&nbsp;None,</div></div><div class=\"1890\" style=\"display: none;\"><div style=\"display: table-cell;\"></div><div style=\"display: table-cell;\">frame_width&nbsp;=&nbsp;None,</div></div><div class=\"1890\" style=\"display: none;\"><div style=\"display: table-cell;\"></div><div style=\"display: table-cell;\">height&nbsp;=&nbsp;None,</div></div><div class=\"1890\" style=\"display: none;\"><div style=\"display: table-cell;\"></div><div style=\"display: table-cell;\">height_policy&nbsp;=&nbsp;'auto',</div></div><div class=\"1890\" style=\"display: none;\"><div style=\"display: table-cell;\"></div><div style=\"display: table-cell;\">hidpi&nbsp;=&nbsp;True,</div></div><div class=\"1890\" style=\"display: none;\"><div style=\"display: table-cell;\"></div><div style=\"display: table-cell;\">js_event_callbacks&nbsp;=&nbsp;{},</div></div><div class=\"1890\" style=\"display: none;\"><div style=\"display: table-cell;\"></div><div style=\"display: table-cell;\">js_property_callbacks&nbsp;=&nbsp;{},</div></div><div class=\"1890\" style=\"display: none;\"><div style=\"display: table-cell;\"></div><div style=\"display: table-cell;\">left&nbsp;=&nbsp;[LinearAxis(id='1524', ...)],</div></div><div class=\"1890\" style=\"display: none;\"><div style=\"display: table-cell;\"></div><div style=\"display: table-cell;\">lod_factor&nbsp;=&nbsp;10,</div></div><div class=\"1890\" style=\"display: none;\"><div style=\"display: table-cell;\"></div><div style=\"display: table-cell;\">lod_interval&nbsp;=&nbsp;300,</div></div><div class=\"1890\" style=\"display: none;\"><div style=\"display: table-cell;\"></div><div style=\"display: table-cell;\">lod_threshold&nbsp;=&nbsp;2000,</div></div><div class=\"1890\" style=\"display: none;\"><div style=\"display: table-cell;\"></div><div style=\"display: table-cell;\">lod_timeout&nbsp;=&nbsp;500,</div></div><div class=\"1890\" style=\"display: none;\"><div style=\"display: table-cell;\"></div><div style=\"display: table-cell;\">margin&nbsp;=&nbsp;(0, 0, 0, 0),</div></div><div class=\"1890\" style=\"display: none;\"><div style=\"display: table-cell;\"></div><div style=\"display: table-cell;\">match_aspect&nbsp;=&nbsp;False,</div></div><div class=\"1890\" style=\"display: none;\"><div style=\"display: table-cell;\"></div><div style=\"display: table-cell;\">max_height&nbsp;=&nbsp;None,</div></div><div class=\"1890\" style=\"display: none;\"><div style=\"display: table-cell;\"></div><div style=\"display: table-cell;\">max_width&nbsp;=&nbsp;None,</div></div><div class=\"1890\" style=\"display: none;\"><div style=\"display: table-cell;\"></div><div style=\"display: table-cell;\">min_border&nbsp;=&nbsp;5,</div></div><div class=\"1890\" style=\"display: none;\"><div style=\"display: table-cell;\"></div><div style=\"display: table-cell;\">min_border_bottom&nbsp;=&nbsp;None,</div></div><div class=\"1890\" style=\"display: none;\"><div style=\"display: table-cell;\"></div><div style=\"display: table-cell;\">min_border_left&nbsp;=&nbsp;None,</div></div><div class=\"1890\" style=\"display: none;\"><div style=\"display: table-cell;\"></div><div style=\"display: table-cell;\">min_border_right&nbsp;=&nbsp;None,</div></div><div class=\"1890\" style=\"display: none;\"><div style=\"display: table-cell;\"></div><div style=\"display: table-cell;\">min_border_top&nbsp;=&nbsp;None,</div></div><div class=\"1890\" style=\"display: none;\"><div style=\"display: table-cell;\"></div><div style=\"display: table-cell;\">min_height&nbsp;=&nbsp;None,</div></div><div class=\"1890\" style=\"display: none;\"><div style=\"display: table-cell;\"></div><div style=\"display: table-cell;\">min_width&nbsp;=&nbsp;None,</div></div><div class=\"1890\" style=\"display: none;\"><div style=\"display: table-cell;\"></div><div style=\"display: table-cell;\">name&nbsp;=&nbsp;None,</div></div><div class=\"1890\" style=\"display: none;\"><div style=\"display: table-cell;\"></div><div style=\"display: table-cell;\">outline_line_alpha&nbsp;=&nbsp;1.0,</div></div><div class=\"1890\" style=\"display: none;\"><div style=\"display: table-cell;\"></div><div style=\"display: table-cell;\">outline_line_cap&nbsp;=&nbsp;'butt',</div></div><div class=\"1890\" style=\"display: none;\"><div style=\"display: table-cell;\"></div><div style=\"display: table-cell;\">outline_line_color&nbsp;=&nbsp;'#e5e5e5',</div></div><div class=\"1890\" style=\"display: none;\"><div style=\"display: table-cell;\"></div><div style=\"display: table-cell;\">outline_line_dash&nbsp;=&nbsp;[],</div></div><div class=\"1890\" style=\"display: none;\"><div style=\"display: table-cell;\"></div><div style=\"display: table-cell;\">outline_line_dash_offset&nbsp;=&nbsp;0,</div></div><div class=\"1890\" style=\"display: none;\"><div style=\"display: table-cell;\"></div><div style=\"display: table-cell;\">outline_line_join&nbsp;=&nbsp;'bevel',</div></div><div class=\"1890\" style=\"display: none;\"><div style=\"display: table-cell;\"></div><div style=\"display: table-cell;\">outline_line_width&nbsp;=&nbsp;1,</div></div><div class=\"1890\" style=\"display: none;\"><div style=\"display: table-cell;\"></div><div style=\"display: table-cell;\">output_backend&nbsp;=&nbsp;'webgl',</div></div><div class=\"1890\" style=\"display: none;\"><div style=\"display: table-cell;\"></div><div style=\"display: table-cell;\">plot_height&nbsp;=&nbsp;400,</div></div><div class=\"1890\" style=\"display: none;\"><div style=\"display: table-cell;\"></div><div style=\"display: table-cell;\">plot_width&nbsp;=&nbsp;600,</div></div><div class=\"1890\" style=\"display: none;\"><div style=\"display: table-cell;\"></div><div style=\"display: table-cell;\">renderers&nbsp;=&nbsp;[GlyphRenderer(id='1546', ...), GlyphRenderer(id='1564', ...), GlyphRenderer(id='1583', ...), GlyphRenderer(id='1604', ...), GlyphRenderer(id='1627', ...), GlyphRenderer(id='1652', ...), GlyphRenderer(id='1679', ...), GlyphRenderer(id='1708', ...)],</div></div><div class=\"1890\" style=\"display: none;\"><div style=\"display: table-cell;\"></div><div style=\"display: table-cell;\">reset_policy&nbsp;=&nbsp;'standard',</div></div><div class=\"1890\" style=\"display: none;\"><div style=\"display: table-cell;\"></div><div style=\"display: table-cell;\">right&nbsp;=&nbsp;[],</div></div><div class=\"1890\" style=\"display: none;\"><div style=\"display: table-cell;\"></div><div style=\"display: table-cell;\">sizing_mode&nbsp;=&nbsp;'fixed',</div></div><div class=\"1890\" style=\"display: none;\"><div style=\"display: table-cell;\"></div><div style=\"display: table-cell;\">subscribed_events&nbsp;=&nbsp;[],</div></div><div class=\"1890\" style=\"display: none;\"><div style=\"display: table-cell;\"></div><div style=\"display: table-cell;\">tags&nbsp;=&nbsp;[],</div></div><div class=\"1890\" style=\"display: none;\"><div style=\"display: table-cell;\"></div><div style=\"display: table-cell;\">title&nbsp;=&nbsp;Title(id='1510', ...),</div></div><div class=\"1890\" style=\"display: none;\"><div style=\"display: table-cell;\"></div><div style=\"display: table-cell;\">title_location&nbsp;=&nbsp;'above',</div></div><div class=\"1890\" style=\"display: none;\"><div style=\"display: table-cell;\"></div><div style=\"display: table-cell;\">toolbar&nbsp;=&nbsp;Toolbar(id='1535', ...),</div></div><div class=\"1890\" style=\"display: none;\"><div style=\"display: table-cell;\"></div><div style=\"display: table-cell;\">toolbar_location&nbsp;=&nbsp;'right',</div></div><div class=\"1890\" style=\"display: none;\"><div style=\"display: table-cell;\"></div><div style=\"display: table-cell;\">toolbar_sticky&nbsp;=&nbsp;True,</div></div><div class=\"1890\" style=\"display: none;\"><div style=\"display: table-cell;\"></div><div style=\"display: table-cell;\">visible&nbsp;=&nbsp;True,</div></div><div class=\"1890\" style=\"display: none;\"><div style=\"display: table-cell;\"></div><div style=\"display: table-cell;\">width&nbsp;=&nbsp;None,</div></div><div class=\"1890\" style=\"display: none;\"><div style=\"display: table-cell;\"></div><div style=\"display: table-cell;\">width_policy&nbsp;=&nbsp;'auto',</div></div><div class=\"1890\" style=\"display: none;\"><div style=\"display: table-cell;\"></div><div style=\"display: table-cell;\">x_range&nbsp;=&nbsp;DataRange1d(id='1512', ...),</div></div><div class=\"1890\" style=\"display: none;\"><div style=\"display: table-cell;\"></div><div style=\"display: table-cell;\">x_scale&nbsp;=&nbsp;LinearScale(id='1516', ...),</div></div><div class=\"1890\" style=\"display: none;\"><div style=\"display: table-cell;\"></div><div style=\"display: table-cell;\">y_range&nbsp;=&nbsp;DataRange1d(id='1514', ...),</div></div><div class=\"1890\" style=\"display: none;\"><div style=\"display: table-cell;\"></div><div style=\"display: table-cell;\">y_scale&nbsp;=&nbsp;LinearScale(id='1518', ...))</div></div></div>\n",
       "<script>\n",
       "(function() {\n",
       "  var expanded = false;\n",
       "  var ellipsis = document.getElementById(\"1891\");\n",
       "  ellipsis.addEventListener(\"click\", function() {\n",
       "    var rows = document.getElementsByClassName(\"1890\");\n",
       "    for (var i = 0; i < rows.length; i++) {\n",
       "      var el = rows[i];\n",
       "      el.style.display = expanded ? \"none\" : \"table-row\";\n",
       "    }\n",
       "    ellipsis.innerHTML = expanded ? \"&hellip;)\" : \"&lsaquo;&lsaquo;&lsaquo;\";\n",
       "    expanded = !expanded;\n",
       "  });\n",
       "})();\n",
       "</script>\n"
      ],
      "text/plain": [
       "Figure(id='1509', ...)"
      ]
     },
     "execution_count": 18,
     "metadata": {},
     "output_type": "execute_result"
    }
   ],
   "source": [
    "dfr = pd.DataFrame(stats['timings'])\n",
    "dfr.plot_bokeh()"
   ]
  },
  {
   "cell_type": "code",
   "execution_count": 19,
   "metadata": {},
   "outputs": [
    {
     "data": {
      "text/html": [
       "\n",
       "\n",
       "\n",
       "\n",
       "\n",
       "\n",
       "  <div class=\"bk-root\" id=\"a8f13672-e75d-4f3a-a224-b7b3d3c36de4\" data-root-id=\"1929\"></div>\n"
      ]
     },
     "metadata": {},
     "output_type": "display_data"
    },
    {
     "data": {
      "application/javascript": [
       "(function(root) {\n",
       "  function embed_document(root) {\n",
       "    \n",
       "  var docs_json = {\"fe66aa97-f89b-4c71-9b8f-3e5c6d440d58\":{\"roots\":{\"references\":[{\"attributes\":{\"below\":[{\"id\":\"1940\"}],\"center\":[{\"id\":\"1943\"},{\"id\":\"1947\"},{\"id\":\"1977\"}],\"left\":[{\"id\":\"1944\"}],\"output_backend\":\"webgl\",\"plot_height\":400,\"renderers\":[{\"id\":\"1968\"}],\"sizing_mode\":\"fixed\",\"title\":{\"id\":\"1930\"},\"toolbar\":{\"id\":\"1955\"},\"x_range\":{\"id\":\"1932\"},\"x_scale\":{\"id\":\"1936\"},\"y_range\":{\"id\":\"1934\"},\"y_scale\":{\"id\":\"1938\"}},\"id\":\"1929\",\"subtype\":\"Figure\",\"type\":\"Plot\"},{\"attributes\":{},\"id\":\"1936\",\"type\":\"LinearScale\"},{\"attributes\":{\"label\":{\"value\":\" mean\"},\"renderers\":[{\"id\":\"1968\"}]},\"id\":\"1978\",\"type\":\"LegendItem\"},{\"attributes\":{},\"id\":\"1952\",\"type\":\"ResetTool\"},{\"attributes\":{\"active_drag\":\"auto\",\"active_inspect\":\"auto\",\"active_multi\":null,\"active_scroll\":{\"id\":\"1949\"},\"active_tap\":\"auto\",\"tools\":[{\"id\":\"1948\"},{\"id\":\"1949\"},{\"id\":\"1950\"},{\"id\":\"1951\"},{\"id\":\"1952\"},{\"id\":\"1953\"},{\"id\":\"1979\"}]},\"id\":\"1955\",\"type\":\"Toolbar\"},{\"attributes\":{\"callback\":null,\"mode\":\"vline\",\"renderers\":[{\"id\":\"1968\"}],\"tooltips\":[[\"x\",\"@__x__values_original\"],[\"mean\",\"@{mean}\"]]},\"id\":\"1979\",\"type\":\"HoverTool\"},{\"attributes\":{\"overlay\":{\"id\":\"1954\"}},\"id\":\"1950\",\"type\":\"BoxZoomTool\"},{\"attributes\":{},\"id\":\"1932\",\"type\":\"DataRange1d\"},{\"attributes\":{\"fill_color\":{\"value\":\"#1f77b4\"},\"line_color\":{\"value\":\"#1f77b4\"},\"line_width\":{\"value\":2},\"top\":{\"field\":\"mean\"},\"width\":{\"value\":0.7},\"x\":{\"field\":\"__x__values\",\"transform\":{\"id\":\"1964\"}}},\"id\":\"1966\",\"type\":\"VBar\"},{\"attributes\":{\"source\":{\"id\":\"1928\"}},\"id\":\"1969\",\"type\":\"CDSView\"},{\"attributes\":{\"data\":{\"__x__values\":[0,1,2,3,4,5,6,7],\"__x__values_original\":[\"5\",\"10\",\"16\",\"25\",\"50\",\"75\",\"100\",\"200\"],\"mean\":{\"__ndarray__\":\"zczMjCih8T8zMzMzyY7wPwAAAEDzFvA/MzMzM98A8D8AAABAA0rvPwAAACCPNfE/AAAAANv58j+amZlZKCT2Pw==\",\"dtype\":\"float64\",\"order\":\"little\",\"shape\":[8]}},\"selected\":{\"id\":\"1975\"},\"selection_policy\":{\"id\":\"1976\"}},\"id\":\"1928\",\"type\":\"ColumnDataSource\"},{\"attributes\":{\"axis\":{\"id\":\"1944\"},\"dimension\":1,\"ticker\":null},\"id\":\"1947\",\"type\":\"Grid\"},{\"attributes\":{\"code\":\"\\n                                    var labels = {0: '5', 1: '10', 2: '16', 3: '25', 4: '50', 5: '75', 6: '100', 7: '200'};\\n                                    return labels[tick];\\n                                    \"},\"id\":\"1962\",\"type\":\"FuncTickFormatter\"},{\"attributes\":{},\"id\":\"1972\",\"type\":\"BasicTickFormatter\"},{\"attributes\":{\"axis\":{\"id\":\"1940\"},\"ticker\":null},\"id\":\"1943\",\"type\":\"Grid\"},{\"attributes\":{},\"id\":\"1948\",\"type\":\"PanTool\"},{\"attributes\":{\"fill_alpha\":{\"value\":0.1},\"fill_color\":{\"value\":\"#1f77b4\"},\"line_alpha\":{\"value\":0.1},\"line_color\":{\"value\":\"#1f77b4\"},\"line_width\":{\"value\":2},\"top\":{\"field\":\"mean\"},\"width\":{\"value\":0.7},\"x\":{\"field\":\"__x__values\",\"transform\":{\"id\":\"1964\"}}},\"id\":\"1967\",\"type\":\"VBar\"},{\"attributes\":{\"text\":\"\"},\"id\":\"1930\",\"type\":\"Title\"},{\"attributes\":{\"formatter\":{\"id\":\"1962\"},\"ticker\":{\"id\":\"1981\"}},\"id\":\"1940\",\"type\":\"LinearAxis\"},{\"attributes\":{\"bottom_units\":\"screen\",\"fill_alpha\":0.5,\"fill_color\":\"lightgrey\",\"left_units\":\"screen\",\"level\":\"overlay\",\"line_alpha\":1.0,\"line_color\":\"black\",\"line_dash\":[4,4],\"line_width\":2,\"right_units\":\"screen\",\"top_units\":\"screen\"},\"id\":\"1954\",\"type\":\"BoxAnnotation\"},{\"attributes\":{},\"id\":\"1938\",\"type\":\"LinearScale\"},{\"attributes\":{\"axis_label\":\"mean\",\"formatter\":{\"id\":\"1972\"},\"ticker\":{\"id\":\"1945\"}},\"id\":\"1944\",\"type\":\"LinearAxis\"},{\"attributes\":{\"data_source\":{\"id\":\"1928\"},\"glyph\":{\"id\":\"1966\"},\"hover_glyph\":null,\"muted_glyph\":null,\"nonselection_glyph\":{\"id\":\"1967\"},\"selection_glyph\":null,\"view\":{\"id\":\"1969\"}},\"id\":\"1968\",\"type\":\"GlyphRenderer\"},{\"attributes\":{},\"id\":\"1951\",\"type\":\"SaveTool\"},{\"attributes\":{\"range\":{\"id\":\"1932\"}},\"id\":\"1964\",\"type\":\"Dodge\"},{\"attributes\":{},\"id\":\"1975\",\"type\":\"Selection\"},{\"attributes\":{},\"id\":\"1934\",\"type\":\"DataRange1d\"},{\"attributes\":{},\"id\":\"1949\",\"type\":\"WheelZoomTool\"},{\"attributes\":{\"ticks\":[0,1,2,3,4,5,6,7]},\"id\":\"1981\",\"type\":\"FixedTicker\"},{\"attributes\":{},\"id\":\"1945\",\"type\":\"BasicTicker\"},{\"attributes\":{},\"id\":\"1976\",\"type\":\"UnionRenderers\"},{\"attributes\":{},\"id\":\"1953\",\"type\":\"HelpTool\"},{\"attributes\":{\"click_policy\":\"hide\",\"items\":[{\"id\":\"1978\"}]},\"id\":\"1977\",\"type\":\"Legend\"}],\"root_ids\":[\"1929\"]},\"title\":\"Bokeh Application\",\"version\":\"2.2.3\"}};\n",
       "  var render_items = [{\"docid\":\"fe66aa97-f89b-4c71-9b8f-3e5c6d440d58\",\"root_ids\":[\"1929\"],\"roots\":{\"1929\":\"a8f13672-e75d-4f3a-a224-b7b3d3c36de4\"}}];\n",
       "  root.Bokeh.embed.embed_items_notebook(docs_json, render_items);\n",
       "\n",
       "  }\n",
       "  if (root.Bokeh !== undefined) {\n",
       "    embed_document(root);\n",
       "  } else {\n",
       "    var attempts = 0;\n",
       "    var timer = setInterval(function(root) {\n",
       "      if (root.Bokeh !== undefined) {\n",
       "        clearInterval(timer);\n",
       "        embed_document(root);\n",
       "      } else {\n",
       "        attempts++;\n",
       "        if (attempts > 100) {\n",
       "          clearInterval(timer);\n",
       "          console.log(\"Bokeh: ERROR: Unable to run BokehJS code because BokehJS library is missing\");\n",
       "        }\n",
       "      }\n",
       "    }, 10, root)\n",
       "  }\n",
       "})(window);"
      ],
      "application/vnd.bokehjs_exec.v0+json": ""
     },
     "metadata": {
      "application/vnd.bokehjs_exec.v0+json": {
       "id": "1929"
      }
     },
     "output_type": "display_data"
    },
    {
     "data": {
      "text/html": [
       "<div style=\"display: table;\"><div style=\"display: table-row;\"><div style=\"display: table-cell;\"><b title=\"bokeh.plotting.figure.Figure\">Figure</b>(</div><div style=\"display: table-cell;\">id&nbsp;=&nbsp;'1929', <span id=\"2068\" style=\"cursor: pointer;\">&hellip;)</span></div></div><div class=\"2067\" style=\"display: none;\"><div style=\"display: table-cell;\"></div><div style=\"display: table-cell;\">above&nbsp;=&nbsp;[],</div></div><div class=\"2067\" style=\"display: none;\"><div style=\"display: table-cell;\"></div><div style=\"display: table-cell;\">align&nbsp;=&nbsp;'start',</div></div><div class=\"2067\" style=\"display: none;\"><div style=\"display: table-cell;\"></div><div style=\"display: table-cell;\">aspect_ratio&nbsp;=&nbsp;None,</div></div><div class=\"2067\" style=\"display: none;\"><div style=\"display: table-cell;\"></div><div style=\"display: table-cell;\">aspect_scale&nbsp;=&nbsp;1,</div></div><div class=\"2067\" style=\"display: none;\"><div style=\"display: table-cell;\"></div><div style=\"display: table-cell;\">background&nbsp;=&nbsp;None,</div></div><div class=\"2067\" style=\"display: none;\"><div style=\"display: table-cell;\"></div><div style=\"display: table-cell;\">background_fill_alpha&nbsp;=&nbsp;1.0,</div></div><div class=\"2067\" style=\"display: none;\"><div style=\"display: table-cell;\"></div><div style=\"display: table-cell;\">background_fill_color&nbsp;=&nbsp;'#ffffff',</div></div><div class=\"2067\" style=\"display: none;\"><div style=\"display: table-cell;\"></div><div style=\"display: table-cell;\">below&nbsp;=&nbsp;[LinearAxis(id='1940', ...)],</div></div><div class=\"2067\" style=\"display: none;\"><div style=\"display: table-cell;\"></div><div style=\"display: table-cell;\">border_fill_alpha&nbsp;=&nbsp;1.0,</div></div><div class=\"2067\" style=\"display: none;\"><div style=\"display: table-cell;\"></div><div style=\"display: table-cell;\">border_fill_color&nbsp;=&nbsp;'#ffffff',</div></div><div class=\"2067\" style=\"display: none;\"><div style=\"display: table-cell;\"></div><div style=\"display: table-cell;\">center&nbsp;=&nbsp;[Grid(id='1943', ...), Grid(id='1947', ...), Legend(id='1977', ...)],</div></div><div class=\"2067\" style=\"display: none;\"><div style=\"display: table-cell;\"></div><div style=\"display: table-cell;\">css_classes&nbsp;=&nbsp;[],</div></div><div class=\"2067\" style=\"display: none;\"><div style=\"display: table-cell;\"></div><div style=\"display: table-cell;\">disabled&nbsp;=&nbsp;False,</div></div><div class=\"2067\" style=\"display: none;\"><div style=\"display: table-cell;\"></div><div style=\"display: table-cell;\">extra_x_ranges&nbsp;=&nbsp;{},</div></div><div class=\"2067\" style=\"display: none;\"><div style=\"display: table-cell;\"></div><div style=\"display: table-cell;\">extra_y_ranges&nbsp;=&nbsp;{},</div></div><div class=\"2067\" style=\"display: none;\"><div style=\"display: table-cell;\"></div><div style=\"display: table-cell;\">frame_height&nbsp;=&nbsp;None,</div></div><div class=\"2067\" style=\"display: none;\"><div style=\"display: table-cell;\"></div><div style=\"display: table-cell;\">frame_width&nbsp;=&nbsp;None,</div></div><div class=\"2067\" style=\"display: none;\"><div style=\"display: table-cell;\"></div><div style=\"display: table-cell;\">height&nbsp;=&nbsp;None,</div></div><div class=\"2067\" style=\"display: none;\"><div style=\"display: table-cell;\"></div><div style=\"display: table-cell;\">height_policy&nbsp;=&nbsp;'auto',</div></div><div class=\"2067\" style=\"display: none;\"><div style=\"display: table-cell;\"></div><div style=\"display: table-cell;\">hidpi&nbsp;=&nbsp;True,</div></div><div class=\"2067\" style=\"display: none;\"><div style=\"display: table-cell;\"></div><div style=\"display: table-cell;\">js_event_callbacks&nbsp;=&nbsp;{},</div></div><div class=\"2067\" style=\"display: none;\"><div style=\"display: table-cell;\"></div><div style=\"display: table-cell;\">js_property_callbacks&nbsp;=&nbsp;{},</div></div><div class=\"2067\" style=\"display: none;\"><div style=\"display: table-cell;\"></div><div style=\"display: table-cell;\">left&nbsp;=&nbsp;[LinearAxis(id='1944', ...)],</div></div><div class=\"2067\" style=\"display: none;\"><div style=\"display: table-cell;\"></div><div style=\"display: table-cell;\">lod_factor&nbsp;=&nbsp;10,</div></div><div class=\"2067\" style=\"display: none;\"><div style=\"display: table-cell;\"></div><div style=\"display: table-cell;\">lod_interval&nbsp;=&nbsp;300,</div></div><div class=\"2067\" style=\"display: none;\"><div style=\"display: table-cell;\"></div><div style=\"display: table-cell;\">lod_threshold&nbsp;=&nbsp;2000,</div></div><div class=\"2067\" style=\"display: none;\"><div style=\"display: table-cell;\"></div><div style=\"display: table-cell;\">lod_timeout&nbsp;=&nbsp;500,</div></div><div class=\"2067\" style=\"display: none;\"><div style=\"display: table-cell;\"></div><div style=\"display: table-cell;\">margin&nbsp;=&nbsp;(0, 0, 0, 0),</div></div><div class=\"2067\" style=\"display: none;\"><div style=\"display: table-cell;\"></div><div style=\"display: table-cell;\">match_aspect&nbsp;=&nbsp;False,</div></div><div class=\"2067\" style=\"display: none;\"><div style=\"display: table-cell;\"></div><div style=\"display: table-cell;\">max_height&nbsp;=&nbsp;None,</div></div><div class=\"2067\" style=\"display: none;\"><div style=\"display: table-cell;\"></div><div style=\"display: table-cell;\">max_width&nbsp;=&nbsp;None,</div></div><div class=\"2067\" style=\"display: none;\"><div style=\"display: table-cell;\"></div><div style=\"display: table-cell;\">min_border&nbsp;=&nbsp;5,</div></div><div class=\"2067\" style=\"display: none;\"><div style=\"display: table-cell;\"></div><div style=\"display: table-cell;\">min_border_bottom&nbsp;=&nbsp;None,</div></div><div class=\"2067\" style=\"display: none;\"><div style=\"display: table-cell;\"></div><div style=\"display: table-cell;\">min_border_left&nbsp;=&nbsp;None,</div></div><div class=\"2067\" style=\"display: none;\"><div style=\"display: table-cell;\"></div><div style=\"display: table-cell;\">min_border_right&nbsp;=&nbsp;None,</div></div><div class=\"2067\" style=\"display: none;\"><div style=\"display: table-cell;\"></div><div style=\"display: table-cell;\">min_border_top&nbsp;=&nbsp;None,</div></div><div class=\"2067\" style=\"display: none;\"><div style=\"display: table-cell;\"></div><div style=\"display: table-cell;\">min_height&nbsp;=&nbsp;None,</div></div><div class=\"2067\" style=\"display: none;\"><div style=\"display: table-cell;\"></div><div style=\"display: table-cell;\">min_width&nbsp;=&nbsp;None,</div></div><div class=\"2067\" style=\"display: none;\"><div style=\"display: table-cell;\"></div><div style=\"display: table-cell;\">name&nbsp;=&nbsp;None,</div></div><div class=\"2067\" style=\"display: none;\"><div style=\"display: table-cell;\"></div><div style=\"display: table-cell;\">outline_line_alpha&nbsp;=&nbsp;1.0,</div></div><div class=\"2067\" style=\"display: none;\"><div style=\"display: table-cell;\"></div><div style=\"display: table-cell;\">outline_line_cap&nbsp;=&nbsp;'butt',</div></div><div class=\"2067\" style=\"display: none;\"><div style=\"display: table-cell;\"></div><div style=\"display: table-cell;\">outline_line_color&nbsp;=&nbsp;'#e5e5e5',</div></div><div class=\"2067\" style=\"display: none;\"><div style=\"display: table-cell;\"></div><div style=\"display: table-cell;\">outline_line_dash&nbsp;=&nbsp;[],</div></div><div class=\"2067\" style=\"display: none;\"><div style=\"display: table-cell;\"></div><div style=\"display: table-cell;\">outline_line_dash_offset&nbsp;=&nbsp;0,</div></div><div class=\"2067\" style=\"display: none;\"><div style=\"display: table-cell;\"></div><div style=\"display: table-cell;\">outline_line_join&nbsp;=&nbsp;'bevel',</div></div><div class=\"2067\" style=\"display: none;\"><div style=\"display: table-cell;\"></div><div style=\"display: table-cell;\">outline_line_width&nbsp;=&nbsp;1,</div></div><div class=\"2067\" style=\"display: none;\"><div style=\"display: table-cell;\"></div><div style=\"display: table-cell;\">output_backend&nbsp;=&nbsp;'webgl',</div></div><div class=\"2067\" style=\"display: none;\"><div style=\"display: table-cell;\"></div><div style=\"display: table-cell;\">plot_height&nbsp;=&nbsp;400,</div></div><div class=\"2067\" style=\"display: none;\"><div style=\"display: table-cell;\"></div><div style=\"display: table-cell;\">plot_width&nbsp;=&nbsp;600,</div></div><div class=\"2067\" style=\"display: none;\"><div style=\"display: table-cell;\"></div><div style=\"display: table-cell;\">renderers&nbsp;=&nbsp;[GlyphRenderer(id='1968', ...)],</div></div><div class=\"2067\" style=\"display: none;\"><div style=\"display: table-cell;\"></div><div style=\"display: table-cell;\">reset_policy&nbsp;=&nbsp;'standard',</div></div><div class=\"2067\" style=\"display: none;\"><div style=\"display: table-cell;\"></div><div style=\"display: table-cell;\">right&nbsp;=&nbsp;[],</div></div><div class=\"2067\" style=\"display: none;\"><div style=\"display: table-cell;\"></div><div style=\"display: table-cell;\">sizing_mode&nbsp;=&nbsp;'fixed',</div></div><div class=\"2067\" style=\"display: none;\"><div style=\"display: table-cell;\"></div><div style=\"display: table-cell;\">subscribed_events&nbsp;=&nbsp;[],</div></div><div class=\"2067\" style=\"display: none;\"><div style=\"display: table-cell;\"></div><div style=\"display: table-cell;\">tags&nbsp;=&nbsp;[],</div></div><div class=\"2067\" style=\"display: none;\"><div style=\"display: table-cell;\"></div><div style=\"display: table-cell;\">title&nbsp;=&nbsp;Title(id='1930', ...),</div></div><div class=\"2067\" style=\"display: none;\"><div style=\"display: table-cell;\"></div><div style=\"display: table-cell;\">title_location&nbsp;=&nbsp;'above',</div></div><div class=\"2067\" style=\"display: none;\"><div style=\"display: table-cell;\"></div><div style=\"display: table-cell;\">toolbar&nbsp;=&nbsp;Toolbar(id='1955', ...),</div></div><div class=\"2067\" style=\"display: none;\"><div style=\"display: table-cell;\"></div><div style=\"display: table-cell;\">toolbar_location&nbsp;=&nbsp;'right',</div></div><div class=\"2067\" style=\"display: none;\"><div style=\"display: table-cell;\"></div><div style=\"display: table-cell;\">toolbar_sticky&nbsp;=&nbsp;True,</div></div><div class=\"2067\" style=\"display: none;\"><div style=\"display: table-cell;\"></div><div style=\"display: table-cell;\">visible&nbsp;=&nbsp;True,</div></div><div class=\"2067\" style=\"display: none;\"><div style=\"display: table-cell;\"></div><div style=\"display: table-cell;\">width&nbsp;=&nbsp;None,</div></div><div class=\"2067\" style=\"display: none;\"><div style=\"display: table-cell;\"></div><div style=\"display: table-cell;\">width_policy&nbsp;=&nbsp;'auto',</div></div><div class=\"2067\" style=\"display: none;\"><div style=\"display: table-cell;\"></div><div style=\"display: table-cell;\">x_range&nbsp;=&nbsp;DataRange1d(id='1932', ...),</div></div><div class=\"2067\" style=\"display: none;\"><div style=\"display: table-cell;\"></div><div style=\"display: table-cell;\">x_scale&nbsp;=&nbsp;LinearScale(id='1936', ...),</div></div><div class=\"2067\" style=\"display: none;\"><div style=\"display: table-cell;\"></div><div style=\"display: table-cell;\">y_range&nbsp;=&nbsp;DataRange1d(id='1934', ...),</div></div><div class=\"2067\" style=\"display: none;\"><div style=\"display: table-cell;\"></div><div style=\"display: table-cell;\">y_scale&nbsp;=&nbsp;LinearScale(id='1938', ...))</div></div></div>\n",
       "<script>\n",
       "(function() {\n",
       "  var expanded = false;\n",
       "  var ellipsis = document.getElementById(\"2068\");\n",
       "  ellipsis.addEventListener(\"click\", function() {\n",
       "    var rows = document.getElementsByClassName(\"2067\");\n",
       "    for (var i = 0; i < rows.length; i++) {\n",
       "      var el = rows[i];\n",
       "      el.style.display = expanded ? \"none\" : \"table-row\";\n",
       "    }\n",
       "    ellipsis.innerHTML = expanded ? \"&hellip;)\" : \"&lsaquo;&lsaquo;&lsaquo;\";\n",
       "    expanded = !expanded;\n",
       "  });\n",
       "})();\n",
       "</script>\n"
      ],
      "text/plain": [
       "Figure(id='1929', ...)"
      ]
     },
     "execution_count": 19,
     "metadata": {},
     "output_type": "execute_result"
    }
   ],
   "source": [
    "dfr.describe().T[\"mean\"].plot_bokeh(kind=\"bar\")"
   ]
  },
  {
   "cell_type": "markdown",
   "metadata": {},
   "source": [
    "## combine data into one file"
   ]
  },
  {
   "cell_type": "code",
   "execution_count": 20,
   "metadata": {},
   "outputs": [],
   "source": [
    "def write_offers_into_one_file(offers, destination, encoding=\"utf-8\"):\n",
    "    with _gzip.GzipFile(combined_destination, \"w\") as output_file:\n",
    "        output_file.write(\"\\n\".join(data).encode(encoding))"
   ]
  },
  {
   "cell_type": "code",
   "execution_count": 21,
   "metadata": {},
   "outputs": [],
   "source": [
    "write_offers_into_one_file(\n",
    "    offers=data,\n",
    "    destination=combined_destination\n",
    ")"
   ]
  },
  {
   "cell_type": "markdown",
   "metadata": {},
   "source": [
    "A look into the final data:"
   ]
  },
  {
   "cell_type": "code",
   "execution_count": 22,
   "metadata": {},
   "outputs": [
    {
     "name": "stdout",
     "output_type": "stream",
     "text": [
      "\n",
      "gzip: stdout: Broken pipe\n",
      "\u001b[1;39m{\n",
      "  \u001b[0m\u001b[34;1m\"id\"\u001b[0m\u001b[1;39m: \u001b[0m\u001b[0;39m9728448\u001b[0m\u001b[1;39m,\n",
      "  \u001b[0m\u001b[34;1m\"product_id\"\u001b[0m\u001b[1;39m: \u001b[0m\u001b[0;39m4734261\u001b[0m\u001b[1;39m,\n",
      "  \u001b[0m\u001b[34;1m\"category_id\"\u001b[0m\u001b[1;39m: \u001b[0m\u001b[0;39m18\u001b[0m\u001b[1;39m,\n",
      "  \u001b[0m\u001b[34;1m\"name\"\u001b[0m\u001b[1;39m: \u001b[0m\u001b[0;32m\"Business Difference\"\u001b[0m\u001b[1;39m,\n",
      "  \u001b[0m\u001b[34;1m\"brand\"\u001b[0m\u001b[1;39m: \u001b[0m\u001b[0;32m\"Tv-Hour-Billion\"\u001b[0m\u001b[1;39m,\n",
      "  \u001b[0m\u001b[34;1m\"time\"\u001b[0m\u001b[1;39m: \u001b[0m\u001b[0;32m\"2020-10-14T12:30:55+00:00\"\u001b[0m\u001b[1;39m,\n",
      "  \u001b[0m\u001b[34;1m\"price\"\u001b[0m\u001b[1;39m: \u001b[0m\u001b[0;39m98.27\u001b[0m\u001b[1;39m,\n",
      "  \u001b[0m\u001b[34;1m\"shipping_cost\"\u001b[0m\u001b[1;39m: \u001b[0m\u001b[0;39m1\u001b[0m\u001b[1;39m,\n",
      "  \u001b[0m\u001b[34;1m\"currency\"\u001b[0m\u001b[1;39m: \u001b[0m\u001b[0;32m\"NZD\"\u001b[0m\u001b[1;39m,\n",
      "  \u001b[0m\u001b[34;1m\"identifiers\"\u001b[0m\u001b[1;39m: \u001b[0m\u001b[1;39m{\n",
      "    \u001b[0m\u001b[34;1m\"eans\"\u001b[0m\u001b[1;39m: \u001b[0m\u001b[1;39m[\n",
      "      \u001b[0;32m\"978-1-78204-666-0\"\u001b[0m\u001b[1;39m,\n",
      "      \u001b[0;32m\"978-0-663-05605-7\"\u001b[0m\u001b[1;39m,\n",
      "      \u001b[0;32m\"978-1-394-90834-9\"\u001b[0m\u001b[1;39m\n",
      "    \u001b[1;39m]\u001b[0m\u001b[1;39m,\n",
      "    \u001b[0m\u001b[34;1m\"mpnrs\"\u001b[0m\u001b[1;39m: \u001b[0m\u001b[1;39m[\n",
      "      \u001b[0;32m\"978-1-59201-271-8\"\u001b[0m\u001b[1;39m,\n",
      "      \u001b[0;32m\"978-0-11-547265-7\"\u001b[0m\u001b[1;39m,\n",
      "      \u001b[0;32m\"978-1-73122-330-2\"\u001b[0m\u001b[1;39m\n",
      "    \u001b[1;39m]\u001b[0m\u001b[1;39m,\n",
      "    \u001b[0m\u001b[34;1m\"asins\"\u001b[0m\u001b[1;39m: \u001b[0m\u001b[1;39m[\n",
      "      \u001b[0;32m\"978-1-191-81693-9\"\u001b[0m\u001b[1;39m,\n",
      "      \u001b[0;32m\"978-0-949489-41-8\"\u001b[0m\u001b[1;39m,\n",
      "      \u001b[0;32m\"978-0-7022-5640-0\"\u001b[0m\u001b[1;39m\n",
      "    \u001b[1;39m]\u001b[0m\u001b[1;39m\n",
      "  \u001b[1;39m}\u001b[0m\u001b[1;39m,\n",
      "  \u001b[0m\u001b[34;1m\"image_url\"\u001b[0m\u001b[1;39m: \u001b[0m\u001b[0;32m\"https://page-hopkins.griffin.com/4206_whole_change.png\"\u001b[0m\u001b[1;39m,\n",
      "  \u001b[0m\u001b[34;1m\"clickout_url\"\u001b[0m\u001b[1;39m: \u001b[0m\u001b[0;32m\"https://dummy.clickout.com/9728448\"\u001b[0m\u001b[1;39m,\n",
      "  \u001b[0m\u001b[34;1m\"timestamp\"\u001b[0m\u001b[1;39m: \u001b[0m\u001b[0;32m\"2020-10-14T14:30:55+02:00\"\u001b[0m\u001b[1;39m,\n",
      "  \u001b[0m\u001b[34;1m\"shipping_cost_percentage\"\u001b[0m\u001b[1;39m: \u001b[0m\u001b[0;39m1.02\u001b[0m\u001b[1;39m\n",
      "\u001b[1;39m}\u001b[0m\n"
     ]
    }
   ],
   "source": [
    "!zcat output_data/test.json.gz | head -n 1 | jq"
   ]
  },
  {
   "cell_type": "markdown",
   "metadata": {},
   "source": [
    "Look how many offers are inside this file:"
   ]
  },
  {
   "cell_type": "code",
   "execution_count": 23,
   "metadata": {},
   "outputs": [
    {
     "name": "stdout",
     "output_type": "stream",
     "text": [
      "3181\n"
     ]
    }
   ],
   "source": [
    "!zcat output_data/test.json.gz | wc -l"
   ]
  },
  {
   "cell_type": "code",
   "execution_count": null,
   "metadata": {},
   "outputs": [],
   "source": []
  }
 ],
 "metadata": {
  "kernelspec": {
   "display_name": "Python 3",
   "language": "python",
   "name": "python3"
  },
  "language_info": {
   "codemirror_mode": {
    "name": "ipython",
    "version": 3
   },
   "file_extension": ".py",
   "mimetype": "text/x-python",
   "name": "python",
   "nbconvert_exporter": "python",
   "pygments_lexer": "ipython3",
   "version": "3.8.5"
  }
 },
 "nbformat": 4,
 "nbformat_minor": 4
}
