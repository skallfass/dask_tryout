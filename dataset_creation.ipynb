{
 "cells": [
  {
   "cell_type": "markdown",
   "metadata": {},
   "source": [
    "# Creation of offer datasets"
   ]
  },
  {
   "cell_type": "markdown",
   "metadata": {},
   "source": [
    "## imports\n",
    "dask related"
   ]
  },
  {
   "cell_type": "code",
   "execution_count": 1,
   "metadata": {},
   "outputs": [],
   "source": [
    "import dask.bag as _dbag\n",
    "\n",
    "# inside our notebook the dask extension manages our cluster and client\n",
    "# from dask.distributed import Client as _Client\n",
    "\n",
    "# the following imports can be useful to examine the optimal number of partitions\n",
    "#from dask.distributed import progress as _progress\n",
    "#from dask.diagnostics import ProgressBar\n",
    "#from dask.diagnostics import Profiler, ResourceProfiler, CacheProfiler"
   ]
  },
  {
   "cell_type": "markdown",
   "metadata": {},
   "source": [
    "scenario related"
   ]
  },
  {
   "cell_type": "code",
   "execution_count": 2,
   "metadata": {},
   "outputs": [],
   "source": [
    "import gzip as _gzip\n",
    "import random as _random\n",
    "\n",
    "import pytz as _pytz\n",
    "import ujson as _json\n",
    "from faker import Faker as _Faker\n",
    "\n",
    "from settings import (\n",
    "    amount_datasets,\n",
    "    datasets_files,\n",
    "    partitions,\n",
    "    records_per_partition,\n",
    ")"
   ]
  },
  {
   "cell_type": "markdown",
   "metadata": {},
   "source": [
    "## definition of required dask client\n",
    "pass in same scheduler-address as of local cluster"
   ]
  },
  {
   "cell_type": "code",
   "execution_count": 3,
   "metadata": {},
   "outputs": [
    {
     "data": {
      "text/html": [
       "<table style=\"border: 2px solid white;\">\n",
       "<tr>\n",
       "<td style=\"vertical-align: top; border: 0px solid white\">\n",
       "<h3 style=\"text-align: left;\">Client</h3>\n",
       "<ul style=\"text-align: left; list-style: none; margin: 0; padding: 0;\">\n",
       "  <li><b>Scheduler: </b>tcp://127.0.0.1:36051</li>\n",
       "  <li><b>Dashboard: </b><a href='http://127.0.0.1:8787/status' target='_blank'>http://127.0.0.1:8787/status</a></li>\n",
       "</ul>\n",
       "</td>\n",
       "<td style=\"vertical-align: top; border: 0px solid white\">\n",
       "<h3 style=\"text-align: left;\">Cluster</h3>\n",
       "<ul style=\"text-align: left; list-style:none; margin: 0; padding: 0;\">\n",
       "  <li><b>Workers: </b>4</li>\n",
       "  <li><b>Cores: </b>8</li>\n",
       "  <li><b>Memory: </b>16.66 GB</li>\n",
       "</ul>\n",
       "</td>\n",
       "</tr>\n",
       "</table>"
      ],
      "text/plain": [
       "<Client: 'tcp://127.0.0.1:36051' processes=4 threads=8, memory=16.66 GB>"
      ]
     },
     "execution_count": 3,
     "metadata": {},
     "output_type": "execute_result"
    }
   ],
   "source": [
    "client"
   ]
  },
  {
   "cell_type": "markdown",
   "metadata": {},
   "source": [
    "## definition functions to create fake offers datasets\n",
    "The following function create a random offer using a faker-instance."
   ]
  },
  {
   "cell_type": "code",
   "execution_count": 4,
   "metadata": {},
   "outputs": [],
   "source": [
    "def create_fake_offer(fake):\n",
    "    amount_identifiers = _random.randint(1, 3)\n",
    "    offer_id = _random.randint(1, 10000000)\n",
    "    return {\n",
    "        \"id\": offer_id,\n",
    "        \"product_id\": _random.randint(1, 10000000),\n",
    "        \"category_id\": _random.randint(1, 40),\n",
    "        \"name\": \" \".join(fake.words(nb=_random.randint(2, 4))).title(),\n",
    "        \"brand\": \"-\".join(fake.words(nb=3)).title(),\n",
    "        \"time\": fake.past_datetime(start_date=\"-30d\", tzinfo=_pytz.utc).isoformat(),\n",
    "        \"price\": _random.randint(100, 10000) / 100,\n",
    "        \"shipping_cost\": float(_random.randint(0, 10)),\n",
    "        \"currency\": fake.currency_code(),\n",
    "        \"identifiers\": {\n",
    "            \"eans\": [fake.isbn13() for _ in range(amount_identifiers)],\n",
    "            \"mpnrs\": [fake.isbn13() for _ in range(amount_identifiers)],\n",
    "            \"asins\": [fake.isbn13() for _ in range(amount_identifiers)],\n",
    "        },\n",
    "        \"image_url\": (\n",
    "            f\"https://{fake.domain_name(2)}/\"\n",
    "            f\"{_random.randint(100, 20000)}_{fake.word()}_{fake.word()}\"\n",
    "            \".png\"\n",
    "        ),\n",
    "        \"clickout_url\": f\"https://dummy.clickout.com/{offer_id}\"\n",
    "    }"
   ]
  },
  {
   "cell_type": "markdown",
   "metadata": {},
   "source": [
    "The following function create a dataset with the amount of offers as passed to the function."
   ]
  },
  {
   "cell_type": "code",
   "execution_count": 5,
   "metadata": {},
   "outputs": [],
   "source": [
    "def create_dataset(amount_of_offers):\n",
    "    fake = _Faker()\n",
    "    return (create_fake_offer(fake) for _ in range(amount_of_offers))"
   ]
  },
  {
   "cell_type": "markdown",
   "metadata": {},
   "source": [
    "## create the offers datasets"
   ]
  },
  {
   "cell_type": "code",
   "execution_count": 6,
   "metadata": {},
   "outputs": [],
   "source": [
    "def create_datasets(\n",
    "    npartitions,\n",
    "    records_per_partition,\n",
    "    destination\n",
    "):\n",
    "    name = f\"datasets-{_random.randint(1, 100000000)}\"\n",
    "    _dbag.Bag(\n",
    "        dsk={\n",
    "            (name, i): (create_dataset, records_per_partition)\n",
    "            for i in range(npartitions)\n",
    "        },\n",
    "        name=name,\n",
    "        npartitions=npartitions\n",
    "    ).map(\n",
    "        _json.dumps\n",
    "    ).to_textfiles(\n",
    "        destination\n",
    "    )"
   ]
  },
  {
   "cell_type": "code",
   "execution_count": 7,
   "metadata": {},
   "outputs": [],
   "source": [
    "create_datasets(\n",
    "    npartitions=amount_datasets,\n",
    "    records_per_partition=records_per_partition,\n",
    "    destination=datasets_files,\n",
    ")"
   ]
  },
  {
   "cell_type": "markdown",
   "metadata": {},
   "source": [
    "the resulting data is stored as `json` inside the folder `./example`.\n",
    "One file for each partition.\n",
    "The structure looks like the following:"
   ]
  },
  {
   "cell_type": "code",
   "execution_count": 8,
   "metadata": {},
   "outputs": [
    {
     "name": "stdout",
     "output_type": "stream",
     "text": [
      "\u001b[1;39m{\n",
      "  \u001b[0m\u001b[34;1m\"id\"\u001b[0m\u001b[1;39m: \u001b[0m\u001b[0;39m7187707\u001b[0m\u001b[1;39m,\n",
      "  \u001b[0m\u001b[34;1m\"product_id\"\u001b[0m\u001b[1;39m: \u001b[0m\u001b[0;39m7828766\u001b[0m\u001b[1;39m,\n",
      "  \u001b[0m\u001b[34;1m\"category_id\"\u001b[0m\u001b[1;39m: \u001b[0m\u001b[0;39m40\u001b[0m\u001b[1;39m,\n",
      "  \u001b[0m\u001b[34;1m\"name\"\u001b[0m\u001b[1;39m: \u001b[0m\u001b[0;32m\"Light Case\"\u001b[0m\u001b[1;39m,\n",
      "  \u001b[0m\u001b[34;1m\"brand\"\u001b[0m\u001b[1;39m: \u001b[0m\u001b[0;32m\"If-Fast-Myself\"\u001b[0m\u001b[1;39m,\n",
      "  \u001b[0m\u001b[34;1m\"time\"\u001b[0m\u001b[1;39m: \u001b[0m\u001b[0;32m\"2020-10-15T18:20:03+00:00\"\u001b[0m\u001b[1;39m,\n",
      "  \u001b[0m\u001b[34;1m\"price\"\u001b[0m\u001b[1;39m: \u001b[0m\u001b[0;39m68.98\u001b[0m\u001b[1;39m,\n",
      "  \u001b[0m\u001b[34;1m\"shipping_cost\"\u001b[0m\u001b[1;39m: \u001b[0m\u001b[0;39m3\u001b[0m\u001b[1;39m,\n",
      "  \u001b[0m\u001b[34;1m\"currency\"\u001b[0m\u001b[1;39m: \u001b[0m\u001b[0;32m\"CHF\"\u001b[0m\u001b[1;39m,\n",
      "  \u001b[0m\u001b[34;1m\"identifiers\"\u001b[0m\u001b[1;39m: \u001b[0m\u001b[1;39m{\n",
      "    \u001b[0m\u001b[34;1m\"eans\"\u001b[0m\u001b[1;39m: \u001b[0m\u001b[1;39m[\n",
      "      \u001b[0;32m\"978-0-9618097-3-7\"\u001b[0m\u001b[1;39m,\n",
      "      \u001b[0;32m\"978-1-69510-858-5\"\u001b[0m\u001b[1;39m,\n",
      "      \u001b[0;32m\"978-0-579-09769-4\"\u001b[0m\u001b[1;39m\n",
      "    \u001b[1;39m]\u001b[0m\u001b[1;39m,\n",
      "    \u001b[0m\u001b[34;1m\"mpnrs\"\u001b[0m\u001b[1;39m: \u001b[0m\u001b[1;39m[\n",
      "      \u001b[0;32m\"978-0-916551-98-8\"\u001b[0m\u001b[1;39m,\n",
      "      \u001b[0;32m\"978-0-515-71181-3\"\u001b[0m\u001b[1;39m,\n",
      "      \u001b[0;32m\"978-0-08-844701-0\"\u001b[0m\u001b[1;39m\n",
      "    \u001b[1;39m]\u001b[0m\u001b[1;39m,\n",
      "    \u001b[0m\u001b[34;1m\"asins\"\u001b[0m\u001b[1;39m: \u001b[0m\u001b[1;39m[\n",
      "      \u001b[0;32m\"978-1-4587-3996-4\"\u001b[0m\u001b[1;39m,\n",
      "      \u001b[0;32m\"978-1-55426-019-5\"\u001b[0m\u001b[1;39m,\n",
      "      \u001b[0;32m\"978-0-7696-0977-5\"\u001b[0m\u001b[1;39m\n",
      "    \u001b[1;39m]\u001b[0m\u001b[1;39m\n",
      "  \u001b[1;39m}\u001b[0m\u001b[1;39m,\n",
      "  \u001b[0m\u001b[34;1m\"image_url\"\u001b[0m\u001b[1;39m: \u001b[0m\u001b[0;32m\"https://coleman.vance-morris.info/17403_take_right.png\"\u001b[0m\u001b[1;39m,\n",
      "  \u001b[0m\u001b[34;1m\"clickout_url\"\u001b[0m\u001b[1;39m: \u001b[0m\u001b[0;32m\"https://dummy.clickout.com/7187707\"\u001b[0m\u001b[1;39m\n",
      "\u001b[1;39m}\u001b[0m\n"
     ]
    }
   ],
   "source": [
    "!head -n 1 datasets/00.json | jq"
   ]
  },
  {
   "cell_type": "code",
   "execution_count": null,
   "metadata": {},
   "outputs": [],
   "source": []
  }
 ],
 "metadata": {
  "kernelspec": {
   "display_name": "Python 3",
   "language": "python",
   "name": "python3"
  },
  "language_info": {
   "codemirror_mode": {
    "name": "ipython",
    "version": 3
   },
   "file_extension": ".py",
   "mimetype": "text/x-python",
   "name": "python",
   "nbconvert_exporter": "python",
   "pygments_lexer": "ipython3",
   "version": "3.8.5"
  }
 },
 "nbformat": 4,
 "nbformat_minor": 4
}
